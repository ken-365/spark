{
  "nbformat": 4,
  "nbformat_minor": 0,
  "metadata": {
    "kernelspec": {
      "display_name": "Python 3",
      "language": "python",
      "name": "python3"
    },
    "language_info": {
      "codemirror_mode": {
        "name": "ipython",
        "version": 3
      },
      "file_extension": ".py",
      "mimetype": "text/x-python",
      "name": "python",
      "nbconvert_exporter": "python",
      "pygments_lexer": "ipython3",
      "version": "3.7.7"
    },
    "colab": {
      "name": "spark_guide.ipynb",
      "provenance": [],
      "collapsed_sections": [],
      "include_colab_link": true
    }
  },
  "cells": [
    {
      "cell_type": "markdown",
      "metadata": {
        "id": "view-in-github",
        "colab_type": "text"
      },
      "source": [
        "<a href=\"https://colab.research.google.com/github/ken-365/spark/blob/main/spark_guide.ipynb\" target=\"_parent\"><img src=\"https://colab.research.google.com/assets/colab-badge.svg\" alt=\"Open In Colab\"/></a>"
      ]
    },
    {
      "cell_type": "markdown",
      "metadata": {
        "id": "aQT8MBvIMicK"
      },
      "source": [
        "## Init setup spark on Google Collab"
      ]
    },
    {
      "cell_type": "code",
      "metadata": {
        "colab": {
          "base_uri": "https://localhost:8080/"
        },
        "id": "7zJYyBH5_pAK",
        "outputId": "766ad931-30f9-4946-a91b-a7d5edbeb1b1"
      },
      "source": [
        "## connect to Gdrive \n",
        "from google.colab import drive\n",
        "drive.mount('/content/drive')\n",
        "datapath = \"drive/MyDrive/colab/data/\""
      ],
      "execution_count": 150,
      "outputs": [
        {
          "output_type": "stream",
          "name": "stdout",
          "text": [
            "Drive already mounted at /content/drive; to attempt to forcibly remount, call drive.mount(\"/content/drive\", force_remount=True).\n"
          ]
        }
      ]
    },
    {
      "cell_type": "code",
      "metadata": {
        "id": "TJKDWLXYrCze"
      },
      "source": [
        "# innstall java\n",
        "!apt-get install openjdk-8-jdk-headless -qq > /dev/null\n",
        "\n",
        "# install spark (change the version number if needed)\n",
        "!wget -q https://archive.apache.org/dist/spark/spark-3.0.0/spark-3.0.0-bin-hadoop3.2.tgz\n",
        "\n",
        "# unzip the spark file to the current folder\n",
        "!tar xf spark-3.0.0-bin-hadoop3.2.tgz\n",
        "\n",
        "# set your spark folder to your system path environment. \n",
        "import os\n",
        "os.environ[\"JAVA_HOME\"] = \"/usr/lib/jvm/java-8-openjdk-amd64\"\n",
        "os.environ[\"SPARK_HOME\"] = \"/content/spark-3.0.0-bin-hadoop3.2\"\n",
        "\n",
        "\n",
        "# install findspark using pip\n",
        "!pip install -q findspark\n",
        "import findspark\n",
        "findspark.init()"
      ],
      "execution_count": 151,
      "outputs": []
    },
    {
      "cell_type": "code",
      "metadata": {
        "id": "KXl3vdvx_xME"
      },
      "source": [
        "# sparkSession for spark sql\n",
        "from pyspark.sql import SparkSession\n",
        "spark = SparkSession.builder.master(\"local[*]\").getOrCreate()\n",
        "\n",
        "from pyspark.sql import functions as F\n",
        "from pyspark.sql.types import *"
      ],
      "execution_count": 152,
      "outputs": []
    },
    {
      "cell_type": "code",
      "metadata": {
        "colab": {
          "base_uri": "https://localhost:8080/",
          "height": 221
        },
        "id": "JqSuybm9-kS2",
        "outputId": "612e4732-ae43-4504-b44e-7cca971b1783"
      },
      "source": [
        "spark"
      ],
      "execution_count": 153,
      "outputs": [
        {
          "output_type": "execute_result",
          "data": {
            "text/html": [
              "\n",
              "            <div>\n",
              "                <p><b>SparkSession - in-memory</b></p>\n",
              "                \n",
              "        <div>\n",
              "            <p><b>SparkContext</b></p>\n",
              "\n",
              "            <p><a href=\"http://176c064b4e57:4040\">Spark UI</a></p>\n",
              "\n",
              "            <dl>\n",
              "              <dt>Version</dt>\n",
              "                <dd><code>v3.0.0</code></dd>\n",
              "              <dt>Master</dt>\n",
              "                <dd><code>local[*]</code></dd>\n",
              "              <dt>AppName</dt>\n",
              "                <dd><code>pyspark-shell</code></dd>\n",
              "            </dl>\n",
              "        </div>\n",
              "        \n",
              "            </div>\n",
              "        "
            ],
            "text/plain": [
              "<pyspark.sql.session.SparkSession at 0x7f7a35c18110>"
            ]
          },
          "metadata": {},
          "execution_count": 153
        }
      ]
    },
    {
      "cell_type": "markdown",
      "metadata": {
        "id": "9Jy5dRaLTfRh"
      },
      "source": [
        "# Part 1 Apache Spark? "
      ]
    },
    {
      "cell_type": "markdown",
      "metadata": {
        "id": "ugf7bnByTfRi"
      },
      "source": [
        "Single machines do not have enough power and resources to perform\n",
        "computations on huge amounts of information.  \n",
        "A cluster, or group, of computers, pools the resources of\n",
        "many machines together, giving us the ability to use all the cumulative resources as if they were\n",
        "a single computer.   \n",
        "Now, a group of machines alone is not powerful, you need a framework to\n",
        "coordinate work across them. Spark does just that, *managing and coordinating the execution of\n",
        "tasks on data across a cluster of computers*."
      ]
    },
    {
      "cell_type": "markdown",
      "metadata": {
        "id": "l06F3nvbTfRi"
      },
      "source": [
        "## Spark architecture"
      ]
    },
    {
      "cell_type": "markdown",
      "metadata": {
        "id": "FAWVxvunTfRj"
      },
      "source": [
        "Spark employs a cluster manager that keeps track of the resources available(Spark Applications).\n",
        "\n",
        "**The cluster manager**  \n",
        "responsible for maintaining a cluster of physical machines that will\n",
        "run your Spark Application(s). They are physical machines rather than processes (as they are in Spark)\n",
        "\n",
        "Spark Applications consist of a *driver process* and a set of *executor processes*.\n",
        "\n",
        "**The driver process**  \n",
        "runs your main() function, sits on a node in the cluster, and is responsible for three things:\n",
        "maintaining information about the Spark Application; responding to a user’s program or input;\n",
        "and analyzing, distributing, and scheduling work across the executors\n",
        "\n",
        "**The executors**  \n",
        "responsible for actually carrying out the work that the driver assigns them.\n",
        "Which means executing code assigned to it\n",
        "by the driver, and reporting the state of the computation on that executor back to the driver node."
      ]
    },
    {
      "cell_type": "markdown",
      "metadata": {
        "id": "l-O-2YgeTfRj"
      },
      "source": [
        "An action begins the process of\n",
        "executing that graph of instructions, as a single job, by breaking it down into stages and tasks to\n",
        "execute across the cluster. The logical structures that we manipulate with transformations and actions\n",
        "are DataFrames and Datasets. To create a new DataFrame or Dataset, you call a transformation. To\n",
        "start computation or convert to native language types, you call an action"
      ]
    },
    {
      "cell_type": "markdown",
      "metadata": {
        "id": "67YzNa77TfRj"
      },
      "source": [
        "# Part 4 API overview"
      ]
    },
    {
      "cell_type": "markdown",
      "metadata": {
        "id": "9S8Q4ehgTfRk"
      },
      "source": [
        "## Schemas\n",
        "\n",
        "A schema defines the column names and types of a DataFrame. You can define schemas\n",
        "manually or read a schema from a data source (often called schema on read)."
      ]
    },
    {
      "cell_type": "markdown",
      "metadata": {
        "id": "lFnfbXbSTfRk"
      },
      "source": [
        "### Value type in Python"
      ]
    },
    {
      "cell_type": "markdown",
      "metadata": {
        "id": "w0XodKsZTfRk"
      },
      "source": [
        "| API to access or create a data type                                                                            \t| Value type in Python                                                                                                                                                                                                                                       \t|   \t|\n",
        "|----------------------------------------------------------------------------------------------------------------\t|------------------------------------------------------------------------------------------------------------------------------------------------------------------------------------------------------------------------------------------------------------\t|---\t|\n",
        "| ByteType()                                                                                                     \t| int or long Note: Numbers will be converted to 1-byte signed integer numbers at runtime. Please make sure that numbers are within the range of -128 to 127.                                                                                                \t|   \t|\n",
        "| ShortType()                                                                                                    \t| int or long Note: Numbers will be converted to 2-byte signed integer numbers at runtime. Please make sure that numbers are within the range of -32768 to 32767.                                                                                            \t|   \t|\n",
        "| IntegerType()                                                                                                  \t| int or long                                                                                                                                                                                                                                                \t|   \t|\n",
        "| LongType()                                                                                                     \t| long Note: Numbers will be converted to 8-byte signed integer numbers at runtime. Please make sure that numbers are within the range of -9223372036854775808 to 9223372036854775807.Otherwise, please convert data to decimal.Decimal and use DecimalType. \t|   \t|\n",
        "| FloatType()                                                                                                    \t| float Note: Numbers will be converted to 4-byte single-precision floating point numbers at runtime.                                                                                                                                                        \t|   \t|\n",
        "| DoubleType()                                                                                                   \t| float                                                                                                                                                                                                                                                      \t|   \t|\n",
        "| DecimalType()                                                                                                  \t| decimal.Decimal                                                                                                                                                                                                                                            \t|   \t|\n",
        "| StringType()                                                                                                   \t| string                                                                                                                                                                                                                                                     \t|   \t|\n",
        "| BinaryType()                                                                                                   \t| bytearray                                                                                                                                                                                                                                                  \t|   \t|\n",
        "| BooleanType()                                                                                                  \t| bool                                                                                                                                                                                                                                                       \t|   \t|\n",
        "| TimestampType()                                                                                                \t| datetime.datetime                                                                                                                                                                                                                                          \t|   \t|\n",
        "| DateType()                                                                                                     \t| datetime.date                                                                                                                                                                                                                                              \t|   \t|\n",
        "| ArrayType(elementType, [containsNull]) Note:The default value of containsNull is True.                         \t| list, tuple, or array                                                                                                                                                                                                                                      \t|   \t|\n",
        "| MapType(keyType, valueType, [valueContainsNull]) Note:The default value of valueContainsNull is True.          \t| dict                                                                                                                                                                                                                                                       \t|   \t|\n",
        "| StructType(fields) Note: fields is a Seq of StructFields. Also, two fields with the same name are not allowed. \t| list or tuple                                                                                                                                                                                                                                              \t|   \t|\n",
        "| StructField(name, dataType, [nullable]) Note: The default value of nullable is True.                           \t| The value type in Python of the data type of this field (For example, Int for a StructField with the data type IntegerType)                                                                                                                                \t|   \t|"
      ]
    },
    {
      "cell_type": "code",
      "metadata": {
        "id": "jgXJ0EpdTfRm"
      },
      "source": [
        "# set data type\n",
        "from pyspark.sql.types import *\n",
        "b = ByteType()"
      ],
      "execution_count": null,
      "outputs": []
    },
    {
      "cell_type": "markdown",
      "metadata": {
        "id": "boKratBDTfRm"
      },
      "source": [
        "# Part 5 Overview of Structured API Execution"
      ]
    },
    {
      "cell_type": "markdown",
      "metadata": {
        "id": "CbzNkNsETfRn"
      },
      "source": [
        "![image.png](attachment:image.png)"
      ]
    },
    {
      "cell_type": "markdown",
      "metadata": {
        "id": "4FJq2N2mTfRn"
      },
      "source": [
        "Spark takes queries in DataFrames, Datasets, and SQL and compiles them into RDD transformations. It then performs further\n",
        "optimizations at runtime, generating native Java bytecode that can remove entire tasks or stages\n",
        "during execution. Finally the result is returned to the user."
      ]
    },
    {
      "cell_type": "markdown",
      "metadata": {
        "id": "Gbf2Bw6XTfRn"
      },
      "source": [
        "## Structured Operations"
      ]
    },
    {
      "cell_type": "code",
      "metadata": {
        "colab": {
          "base_uri": "https://localhost:8080/"
        },
        "id": "dGPrOGL-ZI87",
        "outputId": "7bb5a6b3-da29-4828-8868-8b424b32c741"
      },
      "source": [
        "# download sample work data\n",
        "! git clone https://github.com/databricks/Spark-The-Definitive-Guide.git\n",
        "! ls -U Spark-The-Definitive-Guide"
      ],
      "execution_count": null,
      "outputs": [
        {
          "output_type": "stream",
          "name": "stdout",
          "text": [
            "fatal: destination path 'Spark-The-Definitive-Guide' already exists and is not an empty directory.\n",
            "data  code  project-templates  license.md  README.md\n"
          ]
        }
      ]
    },
    {
      "cell_type": "code",
      "metadata": {
        "id": "dwVa_CsIZVC5"
      },
      "source": [
        "datapath = \"Spark-The-Definitive-Guide/data/\""
      ],
      "execution_count": null,
      "outputs": []
    },
    {
      "cell_type": "code",
      "metadata": {
        "id": "x490TSMITfRn"
      },
      "source": [
        "# load json to data frame (schema on read, auto detect data types)\n",
        "# df = spark.read.format(\"json\").load(\"data/flight-data/json/2015-summary.json\")\n",
        "df = spark.read.json(datapath+ 'flight-data/json/2015-summary.json')"
      ],
      "execution_count": null,
      "outputs": []
    },
    {
      "cell_type": "code",
      "metadata": {
        "colab": {
          "base_uri": "https://localhost:8080/"
        },
        "id": "nV0LBPrGa9sk",
        "outputId": "e1f7b421-a0ef-4cf7-930e-802940156620"
      },
      "source": [
        "%%shell\n",
        "head -3 \"Spark-The-Definitive-Guide/data/flight-data/json/2015-summary.json\""
      ],
      "execution_count": null,
      "outputs": [
        {
          "output_type": "stream",
          "name": "stdout",
          "text": [
            "{\"ORIGIN_COUNTRY_NAME\":\"Romania\",\"DEST_COUNTRY_NAME\":\"United States\",\"count\":15}\n",
            "{\"ORIGIN_COUNTRY_NAME\":\"Croatia\",\"DEST_COUNTRY_NAME\":\"United States\",\"count\":1}\n",
            "{\"ORIGIN_COUNTRY_NAME\":\"Ireland\",\"DEST_COUNTRY_NAME\":\"United States\",\"count\":344}\n"
          ]
        },
        {
          "output_type": "execute_result",
          "data": {
            "text/plain": [
              ""
            ]
          },
          "metadata": {},
          "execution_count": 12
        }
      ]
    },
    {
      "cell_type": "code",
      "metadata": {
        "colab": {
          "base_uri": "https://localhost:8080/"
        },
        "id": "I8aZr9mBTfRn",
        "outputId": "9a0e3a03-7d17-44e4-f289-89e61f4eb24b"
      },
      "source": [
        "df.show(5)"
      ],
      "execution_count": null,
      "outputs": [
        {
          "output_type": "stream",
          "name": "stdout",
          "text": [
            "+-----------------+-------------------+-----+\n",
            "|DEST_COUNTRY_NAME|ORIGIN_COUNTRY_NAME|count|\n",
            "+-----------------+-------------------+-----+\n",
            "|    United States|            Romania|   15|\n",
            "|    United States|            Croatia|    1|\n",
            "|    United States|            Ireland|  344|\n",
            "|            Egypt|      United States|   15|\n",
            "|    United States|              India|   62|\n",
            "+-----------------+-------------------+-----+\n",
            "only showing top 5 rows\n",
            "\n"
          ]
        }
      ]
    },
    {
      "cell_type": "code",
      "metadata": {
        "colab": {
          "base_uri": "https://localhost:8080/"
        },
        "id": "j7939eRtTfRo",
        "outputId": "89f2fe18-d151-4d7b-f7b5-b8c9dfc91d6c"
      },
      "source": [
        "# print shape of dataframe : ROW x Column\n",
        "print((df.count(), len(df.columns)))"
      ],
      "execution_count": null,
      "outputs": [
        {
          "output_type": "stream",
          "name": "stdout",
          "text": [
            "(256, 3)\n"
          ]
        }
      ]
    },
    {
      "cell_type": "markdown",
      "metadata": {
        "id": "uvaZe7ZETfRo"
      },
      "source": [
        "### **View schema**  \n",
        "A schema is a StructType made up of a number of fields, \n",
        "- StructFields, that have a name type \n",
        "- Boolean flag which specifies whether that column can contain missing or null values \n",
        "- Meta data where users store information about this column\n",
        "\n",
        "**Then we can use this output schema to create schema when load**"
      ]
    },
    {
      "cell_type": "code",
      "metadata": {
        "colab": {
          "base_uri": "https://localhost:8080/"
        },
        "id": "C8GkgzVxTfRo",
        "outputId": "935d6cda-bcfd-4138-e176-73ece2746e6d"
      },
      "source": [
        "df.schema"
      ],
      "execution_count": null,
      "outputs": [
        {
          "output_type": "execute_result",
          "data": {
            "text/plain": [
              "StructType(List(StructField(DEST_COUNTRY_NAME,StringType,true),StructField(ORIGIN_COUNTRY_NAME,StringType,true),StructField(count,LongType,true)))"
            ]
          },
          "metadata": {},
          "execution_count": 15
        }
      ]
    },
    {
      "cell_type": "code",
      "metadata": {
        "id": "pXH9OvXlTfRo"
      },
      "source": [
        "# create manually schema (schema on write) programmatically\n",
        "from pyspark.sql.types import StructField, StructType, StringType, LongType\n",
        "myManualSchema = StructType([\n",
        "                            StructField(\"DEST_COUNTRY_NAME\", StringType(), True),\n",
        "                            StructField(\"ORIGIN_COUNTRY_NAME\", StringType(), True),\n",
        "                            StructField(\"count\", LongType(), False, metadata={\"hello\":\"world\"})\n",
        "                            ])\n",
        "\n",
        "# df = spark.read.format(\"json\").schema(myManualSchema).load(\"data/flight-data/json/2015-summary.json\")\n",
        "df = spark.read.json(\n",
        "    datapath+ 'flight-data/json/2015-summary.json'\n",
        "    ,schema = myManualSchema\n",
        ")"
      ],
      "execution_count": null,
      "outputs": []
    },
    {
      "cell_type": "code",
      "metadata": {
        "colab": {
          "base_uri": "https://localhost:8080/"
        },
        "id": "1SOXLfSVTfRo",
        "outputId": "358155e6-a061-45f5-ee45-47f32b955ad7"
      },
      "source": [
        "df.schema"
      ],
      "execution_count": null,
      "outputs": [
        {
          "output_type": "execute_result",
          "data": {
            "text/plain": [
              "StructType(List(StructField(DEST_COUNTRY_NAME,StringType,true),StructField(ORIGIN_COUNTRY_NAME,StringType,true),StructField(count,LongType,true)))"
            ]
          },
          "metadata": {},
          "execution_count": 23
        }
      ]
    },
    {
      "cell_type": "code",
      "metadata": {
        "colab": {
          "base_uri": "https://localhost:8080/"
        },
        "id": "ayGiIzxLc4vj",
        "outputId": "5e989714-cf25-41e2-bd53-19dd79590850"
      },
      "source": [
        "# create schema using DDL langauge\n",
        "DDLSchema = \"\"\"\n",
        "    DEST_COUNTRY_NAME STRING \n",
        "    ,ORIGIN_COUNTRY_NAME STRING\n",
        "    ,count LONG\n",
        "\"\"\"\n",
        "df_dml = spark.read.json(\n",
        "    datapath+ 'flight-data/json/2015-summary.json'\n",
        "    ,schema = DDLSchema\n",
        ")\n",
        "df_dml.schema == df.schema"
      ],
      "execution_count": null,
      "outputs": [
        {
          "output_type": "execute_result",
          "data": {
            "text/plain": [
              "True"
            ]
          },
          "metadata": {},
          "execution_count": 24
        }
      ]
    },
    {
      "cell_type": "markdown",
      "metadata": {
        "id": "EEf0GSP5TfRp"
      },
      "source": [
        "### Define and Columns"
      ]
    },
    {
      "cell_type": "markdown",
      "metadata": {
        "id": "ImWjqdSvTfRp"
      },
      "source": [
        "construct and refer to columns with two simplest ways by using the $col$ or $column$ functions by pass in column name"
      ]
    },
    {
      "cell_type": "code",
      "metadata": {
        "id": "c112uR9lTfRp",
        "outputId": "dad63b58-506b-49c0-b9fe-48d7a48deebe"
      },
      "source": [
        "# construct column\n",
        "from pyspark.sql.functions import col, column\n",
        "col('SomeColumnNme') #or\n",
        "column('xyz')"
      ],
      "execution_count": null,
      "outputs": [
        {
          "data": {
            "text/plain": [
              "Column<b'xyz'>"
            ]
          },
          "execution_count": 5,
          "metadata": {},
          "output_type": "execute_result"
        }
      ]
    },
    {
      "cell_type": "markdown",
      "metadata": {
        "id": "36JlGq-ETfRp"
      },
      "source": [
        "**Column as expression**  \n",
        "is a set of transformations on one or more values in a record in a DataFrame.  \n",
        "In the simplest case, expr(\"someCol\") is equivalent to col(\"someCol\")."
      ]
    },
    {
      "cell_type": "code",
      "metadata": {
        "id": "gTHXuz7QTfRp",
        "outputId": "41d25241-b94b-4d5d-c53c-eae743ee03b4"
      },
      "source": [
        "(((col(\"someCol\") + 5) * 200) - 6) < col(\"otherCol\")"
      ],
      "execution_count": null,
      "outputs": [
        {
          "data": {
            "text/plain": [
              "Column<b'((((someCol + 5) * 200) - 6) < otherCol)'>"
            ]
          },
          "execution_count": 35,
          "metadata": {},
          "output_type": "execute_result"
        }
      ]
    },
    {
      "cell_type": "code",
      "metadata": {
        "id": "dFiW1VM1TfRq",
        "outputId": "f049b63f-6906-421a-fa8e-3d9d3a4f3794"
      },
      "source": [
        "from pyspark.sql.functions import expr\n",
        "expr(\"(((someCol + 5) * 200) - 6) < otherCol\")"
      ],
      "execution_count": null,
      "outputs": [
        {
          "data": {
            "text/plain": [
              "Column<b'((((someCol + 5) * 200) - 6) < otherCol)'>"
            ]
          },
          "execution_count": 36,
          "metadata": {},
          "output_type": "execute_result"
        }
      ]
    },
    {
      "cell_type": "markdown",
      "metadata": {
        "id": "8R-WuQ25TfRq"
      },
      "source": [
        "**Accessing a DataFrame’s columns**  "
      ]
    },
    {
      "cell_type": "code",
      "metadata": {
        "id": "EBv8ElagTfRq",
        "outputId": "fa0321d9-adcc-4141-a26c-f1066d0a37b4"
      },
      "source": [
        "df.printSchema()"
      ],
      "execution_count": null,
      "outputs": [
        {
          "name": "stdout",
          "output_type": "stream",
          "text": [
            "root\n",
            " |-- DEST_COUNTRY_NAME: string (nullable = true)\n",
            " |-- ORIGIN_COUNTRY_NAME: string (nullable = true)\n",
            " |-- count: long (nullable = true)\n",
            "\n"
          ]
        }
      ]
    },
    {
      "cell_type": "code",
      "metadata": {
        "id": "o_wZ96liTfRq",
        "outputId": "e7af48c0-8fe7-4ec1-dadb-63c13723ed46"
      },
      "source": [
        "#or get list of the name of each columns\n",
        "df.columns"
      ],
      "execution_count": null,
      "outputs": [
        {
          "data": {
            "text/plain": [
              "['DEST_COUNTRY_NAME', 'ORIGIN_COUNTRY_NAME', 'count']"
            ]
          },
          "execution_count": 41,
          "metadata": {},
          "output_type": "execute_result"
        }
      ]
    },
    {
      "cell_type": "markdown",
      "metadata": {
        "id": "flc5iNFaTfRr"
      },
      "source": [
        "### Rows and Records\n",
        "\n",
        "Spark represents this record as an object of\n",
        "type Row. Spark manipulates Row objects using column expressions in order to produce usable\n",
        "values. Row objects internally represent arrays of bytes."
      ]
    },
    {
      "cell_type": "code",
      "metadata": {
        "id": "luhnV9fvTfRr",
        "outputId": "1454a531-933f-409e-c50b-93fa5459741f"
      },
      "source": [
        "# calling first row on our DataFrame:\n",
        "df.first()"
      ],
      "execution_count": null,
      "outputs": [
        {
          "data": {
            "text/plain": [
              "Row(DEST_COUNTRY_NAME='United States', ORIGIN_COUNTRY_NAME='Romania', count=15)"
            ]
          },
          "execution_count": 44,
          "metadata": {},
          "output_type": "execute_result"
        }
      ]
    },
    {
      "cell_type": "markdown",
      "metadata": {
        "id": "UXKhWX9CTfRr"
      },
      "source": [
        "#### Create Rows\n",
        "\n",
        "if you create a Row manually, you must specify the values in the same\n",
        "order as the schema of the DataFrame to which they might be appended"
      ]
    },
    {
      "cell_type": "code",
      "metadata": {
        "id": "3urpf6joTfRr"
      },
      "source": [
        "from pyspark.sql import Row\n",
        "\n",
        "myRow = Row('Hello',None,1,False) # by position in rows"
      ],
      "execution_count": null,
      "outputs": []
    },
    {
      "cell_type": "markdown",
      "metadata": {
        "id": "yllxkjxBTfRs"
      },
      "source": [
        "**Accessing Data in rows**\n",
        "\n",
        "Specify the position of row to access"
      ]
    },
    {
      "cell_type": "code",
      "metadata": {
        "id": "Sf5wGl4yTfRs",
        "outputId": "4411bb7a-1949-4257-d4ab-5cfdf6343b0b"
      },
      "source": [
        "myRow[0],myRow[1],myRow[2]"
      ],
      "execution_count": null,
      "outputs": [
        {
          "data": {
            "text/plain": [
              "('Hello', None, 1)"
            ]
          },
          "execution_count": 56,
          "metadata": {},
          "output_type": "execute_result"
        }
      ]
    },
    {
      "cell_type": "markdown",
      "metadata": {
        "id": "BMWwwhLiTfRs"
      },
      "source": [
        "## DataFrame Transformations"
      ]
    },
    {
      "cell_type": "markdown",
      "metadata": {
        "id": "GAxKx79CTfRs"
      },
      "source": [
        "### Creating DataFrames"
      ]
    },
    {
      "cell_type": "code",
      "metadata": {
        "id": "bDDEygw9TfRs"
      },
      "source": [
        "# read from json\n",
        "df = spark.read.format('json').load(datapath + '/flight-data/json/2015-summary.json') # schema on the read\n",
        "#register it as a temporary view so that we can query it with SQL\n",
        "df.createOrReplaceTempView(\"dfTable\")"
      ],
      "execution_count": null,
      "outputs": []
    },
    {
      "cell_type": "code",
      "metadata": {
        "id": "sebKtLToTfRs",
        "outputId": "3f1578f3-1c8f-424c-af21-3c2270c2082e"
      },
      "source": [
        "# or create schema and data frame manually\n",
        "myManualSchema = StructType([ \n",
        "                            StructField(\"some\", StringType(), True),  # column name, type, can contain None\n",
        "                            StructField(\"col\", StringType(), True),\n",
        "                            StructField(\"names\", LongType(), False)\n",
        "                            ])\n",
        "myRow = Row('Hello',None,1)\n",
        "myDf = spark.createDataFrame([myRow], myManualSchema)\n",
        "myDf.show()"
      ],
      "execution_count": null,
      "outputs": [
        {
          "name": "stdout",
          "output_type": "stream",
          "text": [
            "+-----+----+-----+\n",
            "| some| col|names|\n",
            "+-----+----+-----+\n",
            "|Hello|null|    1|\n",
            "+-----+----+-----+\n",
            "\n"
          ]
        }
      ]
    },
    {
      "cell_type": "markdown",
      "metadata": {
        "id": "4Ue1jql1TfRt"
      },
      "source": [
        "### select and selectExpr"
      ]
    },
    {
      "cell_type": "code",
      "metadata": {
        "colab": {
          "base_uri": "https://localhost:8080/"
        },
        "id": "m6AD67dvF-e9",
        "outputId": "e780cd2e-7808-4ea8-b705-928ce32f2ce3"
      },
      "source": [
        "# multiple ways to select column in Spark DataFrame\n",
        "df = spark.range(30).toDF('number') # create spark DataFrame from range\n",
        "\n",
        "# below code have the same result\n",
        "# select col\n",
        "df.select(F.col('number') + 10).show(2)\n",
        "# F.expr\n",
        "df.select(F.expr('number + 10')).show(2)\n",
        "# panda liked\n",
        "df.select(df['number'] + 10).show(2)\n",
        "df.select(df.number + 10).show(2)\n",
        "# selectExpr\n",
        "df.selectExpr('number + 10').show(2)"
      ],
      "execution_count": null,
      "outputs": [
        {
          "output_type": "stream",
          "name": "stdout",
          "text": [
            "+-------------+\n",
            "|(number + 10)|\n",
            "+-------------+\n",
            "|           10|\n",
            "|           11|\n",
            "+-------------+\n",
            "only showing top 2 rows\n",
            "\n"
          ]
        }
      ]
    },
    {
      "cell_type": "code",
      "metadata": {
        "colab": {
          "base_uri": "https://localhost:8080/"
        },
        "id": "AUsATgJzGRtr",
        "outputId": "b350bf9b-91bb-4821-b6c9-d11251698029"
      },
      "source": [
        "df.show(3)"
      ],
      "execution_count": null,
      "outputs": [
        {
          "output_type": "stream",
          "name": "stdout",
          "text": [
            "+-----------------+-------------------+-----+\n",
            "|DEST_COUNTRY_NAME|ORIGIN_COUNTRY_NAME|count|\n",
            "+-----------------+-------------------+-----+\n",
            "|    United States|            Romania|   15|\n",
            "|    United States|            Croatia|    1|\n",
            "|    United States|            Ireland|  344|\n",
            "+-----------------+-------------------+-----+\n",
            "only showing top 3 rows\n",
            "\n"
          ]
        }
      ]
    },
    {
      "cell_type": "code",
      "metadata": {
        "colab": {
          "base_uri": "https://localhost:8080/"
        },
        "id": "t6XWO6MTTfRt",
        "outputId": "cba20868-08a6-43a0-bbef-fd08afdde3a3"
      },
      "source": [
        "# select(column name) == SQL (SELECT * FROM DEST_COUNTRY_NAME LIMIT 2)\n",
        "df.select('Dest_country_name').show(2) "
      ],
      "execution_count": null,
      "outputs": [
        {
          "output_type": "stream",
          "name": "stdout",
          "text": [
            "+-----------------+\n",
            "|Dest_country_name|\n",
            "+-----------------+\n",
            "|    United States|\n",
            "|    United States|\n",
            "+-----------------+\n",
            "only showing top 2 rows\n",
            "\n"
          ]
        }
      ]
    },
    {
      "cell_type": "code",
      "metadata": {
        "id": "pnzBnsoWTfRt",
        "outputId": "ab919a6e-4c7a-4ce8-a724-9498089ff2d8"
      },
      "source": [
        "# select multiple columns\n",
        "df.select('Dest_country_name','count').show(3)"
      ],
      "execution_count": null,
      "outputs": [
        {
          "name": "stdout",
          "output_type": "stream",
          "text": [
            "+-----------------+-----+\n",
            "|Dest_country_name|count|\n",
            "+-----------------+-----+\n",
            "|    United States|   15|\n",
            "|    United States|    1|\n",
            "|    United States|  344|\n",
            "+-----------------+-----+\n",
            "only showing top 3 rows\n",
            "\n"
          ]
        }
      ]
    },
    {
      "cell_type": "code",
      "metadata": {
        "id": "sSY9J4jfTfRt",
        "outputId": "4f0b302d-4642-4c6d-9a9c-20c02d4df7e2"
      },
      "source": [
        "# Use interchangeably between expr(),col(),column() is equivalent\n",
        "df.select(expr('Dest_country_name'),\n",
        "          col('Dest_country_name'),\n",
        "          column('Dest_country_name')).show(2)"
      ],
      "execution_count": null,
      "outputs": [
        {
          "name": "stdout",
          "output_type": "stream",
          "text": [
            "+-----------------+-----------------+-----------------+\n",
            "|Dest_country_name|Dest_country_name|Dest_country_name|\n",
            "+-----------------+-----------------+-----------------+\n",
            "|    United States|    United States|    United States|\n",
            "|    United States|    United States|    United States|\n",
            "+-----------------+-----------------+-----------------+\n",
            "only showing top 2 rows\n",
            "\n"
          ]
        }
      ]
    },
    {
      "cell_type": "code",
      "metadata": {
        "id": "6tKq_LICTfRu",
        "outputId": "cd9bf1d6-06fb-4629-9dd5-6528aeabb687"
      },
      "source": [
        "# expr() is the most flexible (can change column name) using as  == SELECT DEST_COUNTRY_NAME as Destination FROM dfTable LIMIT 2\n",
        "df.select(\n",
        "        expr('Dest_country_name AS Destination')\n",
        "        ).show(2)"
      ],
      "execution_count": null,
      "outputs": [
        {
          "name": "stdout",
          "output_type": "stream",
          "text": [
            "+-------------+\n",
            "|  Destination|\n",
            "+-------------+\n",
            "|United States|\n",
            "|United States|\n",
            "+-------------+\n",
            "only showing top 2 rows\n",
            "\n"
          ]
        }
      ]
    },
    {
      "cell_type": "code",
      "metadata": {
        "id": "A2WRC6F0TfRu",
        "outputId": "c6209b6c-d4c5-4e2a-f782-b5e1f890411b"
      },
      "source": [
        "# or use alias to change name. This will overwrite as\n",
        "df.select(expr(\"DEST_COUNTRY_NAME as destination\").alias(\"To\"),\n",
        "         expr('ORIGIN_COUNTRY_NAME').alias('FROM')).show(2)"
      ],
      "execution_count": null,
      "outputs": [
        {
          "name": "stdout",
          "output_type": "stream",
          "text": [
            "+-------------+-------+\n",
            "|           To|   FROM|\n",
            "+-------------+-------+\n",
            "|United States|Romania|\n",
            "|United States|Croatia|\n",
            "+-------------+-------+\n",
            "only showing top 2 rows\n",
            "\n"
          ]
        }
      ]
    },
    {
      "cell_type": "markdown",
      "metadata": {
        "id": "B1qPCN47TfRu"
      },
      "source": [
        "Simple example that\n",
        "adds a new column withinCountry to our DataFrame that specifies whether the destination and\n",
        "origin are the same:"
      ]
    },
    {
      "cell_type": "code",
      "metadata": {
        "colab": {
          "base_uri": "https://localhost:8080/"
        },
        "id": "f1zVnC9DTfRu",
        "outputId": "564e98a7-32b0-4d5a-9091-468d5835d91c"
      },
      "source": [
        "# expression to check origin == destination\n",
        "df.select(F.expr('DEST_COUNTRY_NAME == ORIGIN_COUNTRY_NAME').alias('Is travel within same country')).show(3)"
      ],
      "execution_count": null,
      "outputs": [
        {
          "output_type": "stream",
          "name": "stdout",
          "text": [
            "+-----------------------------+\n",
            "|Is travel within same country|\n",
            "+-----------------------------+\n",
            "|                        false|\n",
            "|                        false|\n",
            "|                        false|\n",
            "+-----------------------------+\n",
            "only showing top 3 rows\n",
            "\n"
          ]
        }
      ]
    },
    {
      "cell_type": "code",
      "metadata": {
        "colab": {
          "base_uri": "https://localhost:8080/"
        },
        "id": "YGh9HNcAGpas",
        "outputId": "7b2c5518-90f5-4a65-f2ba-6c019f50a4be"
      },
      "source": [
        "# using selectExpr\n",
        "df.selectExpr('DEST_COUNTRY_NAME == ORIGIN_COUNTRY_NAME AS Is_same' ).show(3)"
      ],
      "execution_count": null,
      "outputs": [
        {
          "output_type": "stream",
          "name": "stdout",
          "text": [
            "+-------+\n",
            "|Is_same|\n",
            "+-------+\n",
            "|  false|\n",
            "|  false|\n",
            "|  false|\n",
            "+-------+\n",
            "only showing top 3 rows\n",
            "\n"
          ]
        }
      ]
    },
    {
      "cell_type": "code",
      "metadata": {
        "colab": {
          "base_uri": "https://localhost:8080/"
        },
        "id": "mgTgtPQcTfRu",
        "outputId": "a9cae3b7-0889-484c-fc62-64801395851f"
      },
      "source": [
        "# return all(*) + check\n",
        "df.selectExpr(\"*\", # all original columns\n",
        "                \"(DEST_COUNTRY_NAME == ORIGIN_COUNTRY_NAME) as withinCountry\").show(2)"
      ],
      "execution_count": null,
      "outputs": [
        {
          "output_type": "stream",
          "name": "stdout",
          "text": [
            "+-----------------+-------------------+-----+-------------+\n",
            "|DEST_COUNTRY_NAME|ORIGIN_COUNTRY_NAME|count|withinCountry|\n",
            "+-----------------+-------------------+-----+-------------+\n",
            "|    United States|            Romania|   15|        false|\n",
            "|    United States|            Croatia|    1|        false|\n",
            "+-----------------+-------------------+-----+-------------+\n",
            "only showing top 2 rows\n",
            "\n"
          ]
        }
      ]
    },
    {
      "cell_type": "code",
      "metadata": {
        "colab": {
          "base_uri": "https://localhost:8080/"
        },
        "id": "eBCZNlwaG9LF",
        "outputId": "d1b2a14c-c774-4519-9605-7ac206e21384"
      },
      "source": [
        "#using withcolumn\n",
        "df.withColumn('withinCountry', F.col(\"DEST_COUNTRY_NAME\") == F.col(\"ORIGIN_COUNTRY_NAME\")).show(2)"
      ],
      "execution_count": null,
      "outputs": [
        {
          "output_type": "stream",
          "name": "stdout",
          "text": [
            "+-----------------+-------------------+-----+-------------+\n",
            "|DEST_COUNTRY_NAME|ORIGIN_COUNTRY_NAME|count|withinCountry|\n",
            "+-----------------+-------------------+-----+-------------+\n",
            "|    United States|            Romania|   15|        false|\n",
            "|    United States|            Croatia|    1|        false|\n",
            "+-----------------+-------------------+-----+-------------+\n",
            "only showing top 2 rows\n",
            "\n"
          ]
        }
      ]
    },
    {
      "cell_type": "code",
      "metadata": {
        "id": "e3c9AbTbTfRv",
        "outputId": "89536e25-e599-4038-c4cc-ab945771a4eb"
      },
      "source": [
        "# aggregation\n",
        "df.selectExpr('count(distinct(DEST_COUNTRY_NAME)) as total_country', 'avg(count) as count_average').show(2)"
      ],
      "execution_count": null,
      "outputs": [
        {
          "name": "stdout",
          "output_type": "stream",
          "text": [
            "+-------------+-------------+\n",
            "|total_country|count_average|\n",
            "+-------------+-------------+\n",
            "|          132|  1770.765625|\n",
            "+-------------+-------------+\n",
            "\n"
          ]
        }
      ]
    },
    {
      "cell_type": "markdown",
      "metadata": {
        "id": "odTrSDLkTfRv"
      },
      "source": [
        "### Converting to Spark Types (Literals)\n",
        "\n",
        "To pass explicit values into Spark that are just a value for all the rows.  \n",
        "This will come up when you might need to check whether a value is greater than some constant\n",
        "or other programmatically created variable."
      ]
    },
    {
      "cell_type": "code",
      "metadata": {
        "id": "O9jrvY8uTfRv",
        "outputId": "75671377-e719-455b-8aea-8bb45d6a2986"
      },
      "source": [
        "from pyspark.sql.functions import lit # lit for all rows\n",
        "# use select\n",
        "df.select(expr(\"*\"), lit(1).alias(\"One\")).show(3) # == SELECT *, 1 as One FROM dfTable LIMIT 3"
      ],
      "execution_count": null,
      "outputs": [
        {
          "name": "stdout",
          "output_type": "stream",
          "text": [
            "+-----------------+-------------------+-----+---+\n",
            "|DEST_COUNTRY_NAME|ORIGIN_COUNTRY_NAME|count|One|\n",
            "+-----------------+-------------------+-----+---+\n",
            "|    United States|            Romania|   15|  1|\n",
            "|    United States|            Croatia|    1|  1|\n",
            "|    United States|            Ireland|  344|  1|\n",
            "+-----------------+-------------------+-----+---+\n",
            "only showing top 3 rows\n",
            "\n"
          ]
        }
      ]
    },
    {
      "cell_type": "markdown",
      "metadata": {
        "id": "pRzjbsvzTfRv"
      },
      "source": [
        "### Adding Columns\n",
        "using the\n",
        "$withColumn$ method on our DataFrame.  \n",
        "Remember that this is just result from query and not able to modify original dataframe"
      ]
    },
    {
      "cell_type": "code",
      "metadata": {
        "id": "KuPcLsprTfRv",
        "outputId": "1ace5c23-c60b-4596-d3eb-87613ea4c999"
      },
      "source": [
        "df.withColumn('One',lit(1)).show(2) # return all column plus new adds"
      ],
      "execution_count": null,
      "outputs": [
        {
          "name": "stdout",
          "output_type": "stream",
          "text": [
            "+-----------------+-------------------+-----+---+\n",
            "|DEST_COUNTRY_NAME|ORIGIN_COUNTRY_NAME|count|One|\n",
            "+-----------------+-------------------+-----+---+\n",
            "|    United States|            Romania|   15|  1|\n",
            "|    United States|            Croatia|    1|  1|\n",
            "+-----------------+-------------------+-----+---+\n",
            "only showing top 2 rows\n",
            "\n"
          ]
        }
      ]
    },
    {
      "cell_type": "markdown",
      "metadata": {
        "id": "caA2ppo4TfRw"
      },
      "source": [
        "### Renaming Columns\n",
        "use the $withColumnRenamed$ method"
      ]
    },
    {
      "cell_type": "code",
      "metadata": {
        "id": "QvjeS5KETfRw",
        "outputId": "9459d222-6957-4cdb-9d6c-9465dd7a9faf"
      },
      "source": [
        "df.withColumnRenamed('DEST_COUNTRY_NAME','new name').show(1)"
      ],
      "execution_count": null,
      "outputs": [
        {
          "name": "stdout",
          "output_type": "stream",
          "text": [
            "+-------------+-------------------+-----+\n",
            "|     new name|ORIGIN_COUNTRY_NAME|count|\n",
            "+-------------+-------------------+-----+\n",
            "|United States|            Romania|   15|\n",
            "+-------------+-------------------+-----+\n",
            "only showing top 1 row\n",
            "\n"
          ]
        }
      ]
    },
    {
      "cell_type": "markdown",
      "metadata": {
        "id": "TbxLJ2rpTfRw"
      },
      "source": [
        "### Reserved Characters and Keywords\n",
        "\n",
        "using backtick ( \\` ) when come across any reserved characters like spaces or dashes in column\n",
        "names when referencing a column in an expression"
      ]
    },
    {
      "cell_type": "code",
      "metadata": {
        "id": "-8uM35QjTfRw"
      },
      "source": [
        "# new column with space\n",
        "dfWithLongColName = df.withColumn(\n",
        "                                \"This Long Column-Name\", # no need back tick cause not expression\n",
        "                                F.expr(\"ORIGIN_COUNTRY_NAME\"))"
      ],
      "execution_count": null,
      "outputs": []
    },
    {
      "cell_type": "code",
      "metadata": {
        "colab": {
          "base_uri": "https://localhost:8080/"
        },
        "id": "yRlQ1UGDTfRw",
        "outputId": "6bfab6c5-3e38-41c6-f810-af87ff69e841"
      },
      "source": [
        "dfWithLongColName.selectExpr(\n",
        "\"`This Long Column-Name`\", # when ref name with space alway put backtick ` in\n",
        "\"`This Long Column-Name` as `new col`\").show(2)"
      ],
      "execution_count": null,
      "outputs": [
        {
          "output_type": "stream",
          "name": "stdout",
          "text": [
            "+---------------------+-------+\n",
            "|This Long Column-Name|new col|\n",
            "+---------------------+-------+\n",
            "|              Romania|Romania|\n",
            "|              Croatia|Croatia|\n",
            "+---------------------+-------+\n",
            "only showing top 2 rows\n",
            "\n"
          ]
        }
      ]
    },
    {
      "cell_type": "code",
      "metadata": {
        "id": "olFWm9LVTfRw"
      },
      "source": [
        "dfWithLongColName.createOrReplaceTempView(\"dfTableLong\")"
      ],
      "execution_count": null,
      "outputs": []
    },
    {
      "cell_type": "code",
      "metadata": {
        "id": "FD0386HwTfRx",
        "outputId": "3b82de18-d2c0-4864-abc5-5f27bf253846"
      },
      "source": [
        "# need back tick( `) in expression\n",
        "dfWithLongColName.select(expr(\"`This Long Column-Name`\")).show(1)"
      ],
      "execution_count": null,
      "outputs": [
        {
          "name": "stdout",
          "output_type": "stream",
          "text": [
            "+---------------------+\n",
            "|This Long Column-Name|\n",
            "+---------------------+\n",
            "|              Romania|\n",
            "+---------------------+\n",
            "only showing top 1 row\n",
            "\n"
          ]
        }
      ]
    },
    {
      "cell_type": "code",
      "metadata": {
        "id": "FLP6a7F8TfRx",
        "outputId": "83eebc65-9a3b-4749-eb2f-f2886761116d"
      },
      "source": [
        "# no need when select\n",
        "dfWithLongColName.select('This Long Column-Name').show(1)"
      ],
      "execution_count": null,
      "outputs": [
        {
          "name": "stdout",
          "output_type": "stream",
          "text": [
            "+---------------------+\n",
            "|This Long Column-Name|\n",
            "+---------------------+\n",
            "|              Romania|\n",
            "+---------------------+\n",
            "only showing top 1 row\n",
            "\n"
          ]
        }
      ]
    },
    {
      "cell_type": "markdown",
      "metadata": {
        "id": "_CYCIzhITfRx"
      },
      "source": [
        "### Removing Columns"
      ]
    },
    {
      "cell_type": "code",
      "metadata": {
        "id": "pY4QcnyfTfRx",
        "outputId": "8684d2db-681e-4e72-8c57-9447791e3226"
      },
      "source": [
        "df.drop(\"ORIGIN_COUNTRY_NAME\").columns"
      ],
      "execution_count": null,
      "outputs": [
        {
          "data": {
            "text/plain": [
              "['DEST_COUNTRY_NAME', 'count']"
            ]
          },
          "execution_count": 135,
          "metadata": {},
          "output_type": "execute_result"
        }
      ]
    },
    {
      "cell_type": "code",
      "metadata": {
        "id": "v21XvgPUTfRx",
        "outputId": "77a68ede-5c07-466a-edb5-720962f61828"
      },
      "source": [
        "# drop multiple columns\n",
        "dfWithLongColName.drop(\"ORIGIN_COUNTRY_NAME\", \"DEST_COUNTRY_NAME\").columns"
      ],
      "execution_count": null,
      "outputs": [
        {
          "data": {
            "text/plain": [
              "['count', 'This Long Column-Name']"
            ]
          },
          "execution_count": 137,
          "metadata": {},
          "output_type": "execute_result"
        }
      ]
    },
    {
      "cell_type": "markdown",
      "metadata": {
        "id": "txP19emITfRy"
      },
      "source": [
        "### Changing a Column’s Type (cast)\n",
        "\n",
        "Lets convert our count column from\n",
        "an integer to a type Long:"
      ]
    },
    {
      "cell_type": "code",
      "metadata": {
        "colab": {
          "base_uri": "https://localhost:8080/"
        },
        "id": "MeKMo4rbH0qE",
        "outputId": "bf92942d-9618-46f0-adb5-cd7e65fe4033"
      },
      "source": [
        "df.printSchema()"
      ],
      "execution_count": null,
      "outputs": [
        {
          "output_type": "stream",
          "name": "stdout",
          "text": [
            "root\n",
            " |-- DEST_COUNTRY_NAME: string (nullable = true)\n",
            " |-- ORIGIN_COUNTRY_NAME: string (nullable = true)\n",
            " |-- count: long (nullable = true)\n",
            "\n"
          ]
        }
      ]
    },
    {
      "cell_type": "code",
      "metadata": {
        "colab": {
          "base_uri": "https://localhost:8080/"
        },
        "id": "W0YK0ksQTfRy",
        "outputId": "12385918-e241-4657-939e-4b3efafa3734"
      },
      "source": [
        "df.withColumn(\"count2\", F.col(\"count\").cast(\"string\")).printSchema()"
      ],
      "execution_count": null,
      "outputs": [
        {
          "output_type": "stream",
          "name": "stdout",
          "text": [
            "root\n",
            " |-- DEST_COUNTRY_NAME: string (nullable = true)\n",
            " |-- ORIGIN_COUNTRY_NAME: string (nullable = true)\n",
            " |-- count: long (nullable = true)\n",
            " |-- count2: string (nullable = true)\n",
            "\n"
          ]
        }
      ]
    },
    {
      "cell_type": "markdown",
      "metadata": {
        "id": "AnwI1ks0TfRy"
      },
      "source": [
        "### Filtering Rows"
      ]
    },
    {
      "cell_type": "code",
      "metadata": {
        "colab": {
          "base_uri": "https://localhost:8080/"
        },
        "id": "_V3juycXTfRy",
        "outputId": "66522d8f-db0c-4db5-e64a-fe4b19c3a80b"
      },
      "source": [
        "df.where('count < 2').show(2) # ==SELECT * FROM dfTable WHERE count < 2 LIMIT 2\n",
        "df.filter(\"count <2\").show(2) # filter and count use interchangebly"
      ],
      "execution_count": null,
      "outputs": [
        {
          "output_type": "stream",
          "name": "stdout",
          "text": [
            "+-----------------+-------------------+-----+\n",
            "|DEST_COUNTRY_NAME|ORIGIN_COUNTRY_NAME|count|\n",
            "+-----------------+-------------------+-----+\n",
            "|    United States|            Croatia|    1|\n",
            "|    United States|          Singapore|    1|\n",
            "+-----------------+-------------------+-----+\n",
            "only showing top 2 rows\n",
            "\n",
            "+-----------------+-------------------+-----+\n",
            "|DEST_COUNTRY_NAME|ORIGIN_COUNTRY_NAME|count|\n",
            "+-----------------+-------------------+-----+\n",
            "|    United States|            Croatia|    1|\n",
            "|    United States|          Singapore|    1|\n",
            "+-----------------+-------------------+-----+\n",
            "only showing top 2 rows\n",
            "\n"
          ]
        }
      ]
    },
    {
      "cell_type": "code",
      "metadata": {
        "id": "jDVUnEWwTfRy",
        "outputId": "14a42264-9ee2-47fe-e0f2-c95ad70c26e2"
      },
      "source": [
        "# chain filter\n",
        "df.where('count < 2').where('ORIGIN_COUNTRY_NAME == \"Croatia\"').show()\n",
        "# same thing with below\n",
        "# df.where(col(\"count\") < 2).where(col(\"ORIGIN_COUNTRY_NAME\") != \"Croatia\").show(2)"
      ],
      "execution_count": null,
      "outputs": [
        {
          "name": "stdout",
          "output_type": "stream",
          "text": [
            "+-----------------+-------------------+-----+\n",
            "|DEST_COUNTRY_NAME|ORIGIN_COUNTRY_NAME|count|\n",
            "+-----------------+-------------------+-----+\n",
            "|    United States|            Croatia|    1|\n",
            "+-----------------+-------------------+-----+\n",
            "\n"
          ]
        }
      ]
    },
    {
      "cell_type": "markdown",
      "metadata": {
        "id": "xrkRBuS2IUAv"
      },
      "source": [
        "### Getting Unique Rows (distinct)"
      ]
    },
    {
      "cell_type": "code",
      "metadata": {
        "colab": {
          "base_uri": "https://localhost:8080/"
        },
        "id": "5r-ybtk5IXJZ",
        "outputId": "c4982eae-dd01-4eba-96fb-4eae84dabea6"
      },
      "source": [
        "df.select(F.col(\"ORIGIN_COUNTRY_NAME\")).distinct().show(3)\n",
        "# same with\n",
        "spark.sql(\"SELECT  DISTINCT(ORIGIN_COUNTRY_NAME) FROM dftable limit 3\").show(3)"
      ],
      "execution_count": null,
      "outputs": [
        {
          "output_type": "stream",
          "name": "stdout",
          "text": [
            "+-------------------+\n",
            "|ORIGIN_COUNTRY_NAME|\n",
            "+-------------------+\n",
            "|           Paraguay|\n",
            "|             Russia|\n",
            "|           Anguilla|\n",
            "+-------------------+\n",
            "only showing top 3 rows\n",
            "\n",
            "+-------------------+\n",
            "|ORIGIN_COUNTRY_NAME|\n",
            "+-------------------+\n",
            "|           Paraguay|\n",
            "|             Russia|\n",
            "|           Anguilla|\n",
            "+-------------------+\n",
            "\n"
          ]
        }
      ]
    },
    {
      "cell_type": "markdown",
      "metadata": {
        "id": "oDH-vUFiTfRy"
      },
      "source": [
        "### Random Samples and Splits\n",
        "Random splits can be helpful when you need to break up your DataFrame into a random “splits”\n",
        "of the original DataFrame."
      ]
    },
    {
      "cell_type": "code",
      "metadata": {
        "colab": {
          "base_uri": "https://localhost:8080/"
        },
        "id": "HNabxQ4WJAg_",
        "outputId": "fe5b92fc-1bb7-4d1a-d122-c7b99ed03945"
      },
      "source": [
        "seed = 5\n",
        "df.sample(withReplacement= False, fraction=0.4, seed = seed).show(3)"
      ],
      "execution_count": null,
      "outputs": [
        {
          "output_type": "stream",
          "name": "stdout",
          "text": [
            "+-----------------+-------------------+-----+\n",
            "|DEST_COUNTRY_NAME|ORIGIN_COUNTRY_NAME|count|\n",
            "+-----------------+-------------------+-----+\n",
            "|    United States|            Romania|   15|\n",
            "|    United States|            Croatia|    1|\n",
            "|    United States|              India|   62|\n",
            "+-----------------+-------------------+-----+\n",
            "only showing top 3 rows\n",
            "\n"
          ]
        }
      ]
    },
    {
      "cell_type": "code",
      "metadata": {
        "id": "yIh61UtrTfRz",
        "outputId": "ccd2c696-bacb-4739-f6b7-890383b0c366"
      },
      "source": [
        "seed = 99\n",
        "dataFrames = df.randomSplit([0.25, 0.75], seed) # set weight\n",
        "dataFrames[0].count() > dataFrames[1].count() # 2 splits in a list called dataFrames"
      ],
      "execution_count": null,
      "outputs": [
        {
          "data": {
            "text/plain": [
              "False"
            ]
          },
          "execution_count": 153,
          "metadata": {},
          "output_type": "execute_result"
        }
      ]
    },
    {
      "cell_type": "markdown",
      "metadata": {
        "id": "lgfBp_1RTfRz"
      },
      "source": [
        "### Concatenating and Appending Rows (Union)\n",
        "must be sure that they have the same schema and\n",
        "number of columns; otherwise, the union will fail."
      ]
    },
    {
      "cell_type": "code",
      "metadata": {
        "id": "V5_ZUYTaTfRz",
        "outputId": "2621ef9b-92b3-4866-878b-161dd434c35b"
      },
      "source": [
        "from pyspark.sql import Row\n",
        "schema = df.schema\n",
        "newRows = [Row(\"New Country\", \"Other Country\", 1),\n",
        "            Row(\"New Country 2\", \"Other Country 3\", 1)]\n",
        "parallelizedRows = spark.sparkContext.parallelize(newRows)\n",
        "newDF = spark.createDataFrame(parallelizedRows, schema)\n",
        "# Union\n",
        "df.union(newDF)\\\n",
        ".where(\"count = 1\")\\\n",
        ".where(col(\"ORIGIN_COUNTRY_NAME\") != \"United States\")\\\n",
        ".show()"
      ],
      "execution_count": null,
      "outputs": [
        {
          "name": "stdout",
          "output_type": "stream",
          "text": [
            "+-----------------+-------------------+-----+\n",
            "|DEST_COUNTRY_NAME|ORIGIN_COUNTRY_NAME|count|\n",
            "+-----------------+-------------------+-----+\n",
            "|    United States|            Croatia|    1|\n",
            "|    United States|          Singapore|    1|\n",
            "|    United States|          Gibraltar|    1|\n",
            "|    United States|             Cyprus|    1|\n",
            "|    United States|            Estonia|    1|\n",
            "|    United States|          Lithuania|    1|\n",
            "|    United States|           Bulgaria|    1|\n",
            "|    United States|            Georgia|    1|\n",
            "|    United States|            Bahrain|    1|\n",
            "|    United States|   Papua New Guinea|    1|\n",
            "|    United States|         Montenegro|    1|\n",
            "|    United States|            Namibia|    1|\n",
            "|      New Country|      Other Country|    1|\n",
            "|    New Country 2|    Other Country 3|    1|\n",
            "+-----------------+-------------------+-----+\n",
            "\n"
          ]
        }
      ]
    },
    {
      "cell_type": "markdown",
      "metadata": {
        "id": "RBQWKuVYTfRz"
      },
      "source": [
        "### Sorting Rows"
      ]
    },
    {
      "cell_type": "code",
      "metadata": {
        "id": "xVRBxMi7TfR0",
        "outputId": "bf1fdc7c-398d-4cce-ac5a-9917f1c74776"
      },
      "source": [
        "df.sort('count',ascending=False).show(3)\n",
        "df.orderBy(\"count\", \"DEST_COUNTRY_NAME\").show(3)"
      ],
      "execution_count": null,
      "outputs": [
        {
          "name": "stdout",
          "output_type": "stream",
          "text": [
            "+-----------------+-------------------+------+\n",
            "|DEST_COUNTRY_NAME|ORIGIN_COUNTRY_NAME| count|\n",
            "+-----------------+-------------------+------+\n",
            "|    United States|      United States|370002|\n",
            "|    United States|             Canada|  8483|\n",
            "|           Canada|      United States|  8399|\n",
            "+-----------------+-------------------+------+\n",
            "only showing top 3 rows\n",
            "\n",
            "+-----------------+-------------------+-----+\n",
            "|DEST_COUNTRY_NAME|ORIGIN_COUNTRY_NAME|count|\n",
            "+-----------------+-------------------+-----+\n",
            "|     Burkina Faso|      United States|    1|\n",
            "|    Cote d'Ivoire|      United States|    1|\n",
            "|           Cyprus|      United States|    1|\n",
            "+-----------------+-------------------+-----+\n",
            "only showing top 3 rows\n",
            "\n"
          ]
        }
      ]
    },
    {
      "cell_type": "code",
      "metadata": {
        "id": "2k9ekhRGTfR0",
        "outputId": "1dcf0b94-17c3-44ef-9f34-5d360e7f3805"
      },
      "source": [
        "from pyspark.sql.functions import desc, asc\n",
        "df.orderBy(expr(\"count desc\"),expr('DEST_COUNTRY_NAME asc')).show(2)\n",
        "df.orderBy(col(\"count\").desc(), col(\"DEST_COUNTRY_NAME\").asc()).show(2)"
      ],
      "execution_count": null,
      "outputs": [
        {
          "name": "stdout",
          "output_type": "stream",
          "text": [
            "+-----------------+-------------------+-----+\n",
            "|DEST_COUNTRY_NAME|ORIGIN_COUNTRY_NAME|count|\n",
            "+-----------------+-------------------+-----+\n",
            "|     Burkina Faso|      United States|    1|\n",
            "|    Cote d'Ivoire|      United States|    1|\n",
            "+-----------------+-------------------+-----+\n",
            "only showing top 2 rows\n",
            "\n",
            "+-----------------+-------------------+------+\n",
            "|DEST_COUNTRY_NAME|ORIGIN_COUNTRY_NAME| count|\n",
            "+-----------------+-------------------+------+\n",
            "|    United States|      United States|370002|\n",
            "|    United States|             Canada|  8483|\n",
            "+-----------------+-------------------+------+\n",
            "only showing top 2 rows\n",
            "\n"
          ]
        }
      ]
    },
    {
      "cell_type": "markdown",
      "metadata": {
        "id": "VbziZcqcTfR0"
      },
      "source": [
        "### Repartition and Coalesce\n",
        "Another important optimization opportunity is to partition the data according to some frequently\n",
        "filtered columns, which control the physical layout of data across the cluster including the\n",
        "partitioning scheme and the number of partitions.\n",
        "\n",
        "Repartition will incur a full shuffle of the data, regardless of whether one is necessary. This\n",
        "means that you should typically only repartition when the future number of partitions is greater\n",
        "than your current number of partitions or when you are looking to partition by a set of columns"
      ]
    },
    {
      "cell_type": "code",
      "metadata": {
        "colab": {
          "base_uri": "https://localhost:8080/"
        },
        "id": "fXSHywzgTfR0",
        "outputId": "9cc86e7b-1f4e-4e56-a2af-321335a2c1ce"
      },
      "source": [
        "# get the numbe of current partition\n",
        "df.rdd.getNumPartitions() # 1"
      ],
      "execution_count": null,
      "outputs": [
        {
          "output_type": "execute_result",
          "data": {
            "text/plain": [
              "1"
            ]
          },
          "metadata": {},
          "execution_count": 65
        }
      ]
    },
    {
      "cell_type": "code",
      "metadata": {
        "colab": {
          "base_uri": "https://localhost:8080/"
        },
        "id": "D5AHtMsoTfR0",
        "outputId": "9f0f18a9-0ad7-4314-9ecc-d6d501d7e92d"
      },
      "source": [
        "# partition to five \n",
        "df.repartition(5).rdd.getNumPartitions()"
      ],
      "execution_count": null,
      "outputs": [
        {
          "output_type": "execute_result",
          "data": {
            "text/plain": [
              "5"
            ]
          },
          "metadata": {},
          "execution_count": 66
        }
      ]
    },
    {
      "cell_type": "markdown",
      "metadata": {
        "id": "A2PCanQyTfR1"
      },
      "source": [
        "If you know that you’re going to be filtering by a certain column often, it can be worth\n",
        "repartitioning based on that column:"
      ]
    },
    {
      "cell_type": "code",
      "metadata": {
        "colab": {
          "base_uri": "https://localhost:8080/"
        },
        "id": "5S1C3psdTfR1",
        "outputId": "3af2d989-5e18-47c3-cb6c-c6a359999321"
      },
      "source": [
        "df.repartition(5, F.col(\"DEST_COUNTRY_NAME\"))"
      ],
      "execution_count": null,
      "outputs": [
        {
          "output_type": "execute_result",
          "data": {
            "text/plain": [
              "DataFrame[DEST_COUNTRY_NAME: string, ORIGIN_COUNTRY_NAME: string, count: bigint]"
            ]
          },
          "metadata": {},
          "execution_count": 68
        }
      ]
    },
    {
      "cell_type": "markdown",
      "metadata": {
        "id": "FQQN2iMKTfR1"
      },
      "source": [
        "Coalesce, on the other hand, will not incur a full shuffle and will try to combine partitions. This\n",
        "operation will shuffle your data into five partitions based on the destination country name, and\n",
        "then coalesce them (without a full shuffle):"
      ]
    },
    {
      "cell_type": "code",
      "metadata": {
        "id": "YFjutRlNTfR1",
        "outputId": "ad2bb60a-5e2c-4050-9fa8-180738ead3da"
      },
      "source": [
        "df.repartition(5, col(\"DEST_COUNTRY_NAME\")).coalesce(2)"
      ],
      "execution_count": null,
      "outputs": [
        {
          "data": {
            "text/plain": [
              "DataFrame[DEST_COUNTRY_NAME: string, ORIGIN_COUNTRY_NAME: string, count: bigint]"
            ]
          },
          "execution_count": 193,
          "metadata": {},
          "output_type": "execute_result"
        }
      ]
    },
    {
      "cell_type": "markdown",
      "metadata": {
        "id": "MWdjP08mTfR1"
      },
      "source": [
        "### Collecting Rows to the Driver (to local machine)\n",
        "There are\n",
        "times when you’ll want to collect some of your data to the driver in order to manipulate it on\n",
        "your **local machine.**\n",
        "\n",
        "$collect()$ gets all data from the entire DataFrame  \n",
        "$take()$ selects the first N rows  \n",
        "$show()$ prints out a number of rows nicely."
      ]
    },
    {
      "cell_type": "code",
      "metadata": {
        "id": "KvtmFbEpTfR2",
        "outputId": "77400c07-3f96-4e82-c216-39dd8a99909e"
      },
      "source": [
        "collectDF = df.limit(10)\n",
        "collectDF.take(5) # take works with an Integer count"
      ],
      "execution_count": null,
      "outputs": [
        {
          "data": {
            "text/plain": [
              "[Row(DEST_COUNTRY_NAME='United States', ORIGIN_COUNTRY_NAME='Romania', count=15),\n",
              " Row(DEST_COUNTRY_NAME='United States', ORIGIN_COUNTRY_NAME='Croatia', count=1),\n",
              " Row(DEST_COUNTRY_NAME='United States', ORIGIN_COUNTRY_NAME='Ireland', count=344),\n",
              " Row(DEST_COUNTRY_NAME='Egypt', ORIGIN_COUNTRY_NAME='United States', count=15),\n",
              " Row(DEST_COUNTRY_NAME='United States', ORIGIN_COUNTRY_NAME='India', count=62)]"
            ]
          },
          "execution_count": 205,
          "metadata": {},
          "output_type": "execute_result"
        }
      ]
    },
    {
      "cell_type": "code",
      "metadata": {
        "id": "OaM5T4aaTfR2",
        "outputId": "73ce2d44-7825-416d-a636-315aef43a390"
      },
      "source": [
        "collectDF.show(5,  truncate=False)\n",
        "#######\n",
        "collectDF.collect()"
      ],
      "execution_count": null,
      "outputs": [
        {
          "name": "stdout",
          "output_type": "stream",
          "text": [
            "+-----------------+-------------------+-----+\n",
            "|DEST_COUNTRY_NAME|ORIGIN_COUNTRY_NAME|count|\n",
            "+-----------------+-------------------+-----+\n",
            "|United States    |Romania            |15   |\n",
            "|United States    |Croatia            |1    |\n",
            "|United States    |Ireland            |344  |\n",
            "|Egypt            |United States      |15   |\n",
            "|United States    |India              |62   |\n",
            "+-----------------+-------------------+-----+\n",
            "only showing top 5 rows\n",
            "\n"
          ]
        },
        {
          "data": {
            "text/plain": [
              "[Row(DEST_COUNTRY_NAME='United States', ORIGIN_COUNTRY_NAME='Romania', count=15),\n",
              " Row(DEST_COUNTRY_NAME='United States', ORIGIN_COUNTRY_NAME='Croatia', count=1),\n",
              " Row(DEST_COUNTRY_NAME='United States', ORIGIN_COUNTRY_NAME='Ireland', count=344),\n",
              " Row(DEST_COUNTRY_NAME='Egypt', ORIGIN_COUNTRY_NAME='United States', count=15),\n",
              " Row(DEST_COUNTRY_NAME='United States', ORIGIN_COUNTRY_NAME='India', count=62),\n",
              " Row(DEST_COUNTRY_NAME='United States', ORIGIN_COUNTRY_NAME='Singapore', count=1),\n",
              " Row(DEST_COUNTRY_NAME='United States', ORIGIN_COUNTRY_NAME='Grenada', count=62),\n",
              " Row(DEST_COUNTRY_NAME='Costa Rica', ORIGIN_COUNTRY_NAME='United States', count=588),\n",
              " Row(DEST_COUNTRY_NAME='Senegal', ORIGIN_COUNTRY_NAME='United States', count=40),\n",
              " Row(DEST_COUNTRY_NAME='Moldova', ORIGIN_COUNTRY_NAME='United States', count=1)]"
            ]
          },
          "execution_count": 209,
          "metadata": {},
          "output_type": "execute_result"
        }
      ]
    },
    {
      "cell_type": "markdown",
      "metadata": {
        "id": "5lpqrVYkTfR2"
      },
      "source": [
        "# Part 6. Working with Different Types of Data"
      ]
    },
    {
      "cell_type": "markdown",
      "metadata": {
        "id": "urLxsXTaTfR2"
      },
      "source": [
        "Resources fro Spark API doc\n",
        "- DataFrame(Dataset) [Link](http://spark.apache.org/docs/latest/api/scala/index.html#org.apache.spark.sql.Dataset)\n",
        "    - DataFrameStatFunctions :Stat related functions [Link](http://spark.apache.org/docs/latest/api/scala/index.html#org.apache.spark.sql.DataFrameStatFunctions)\n",
        "    - DataFrameNaFunctions :when working with null data [Link](http://spark.apache.org/docs/latest/api/scala/index.html#org.apache.spark.sql.DataFrameNaFunctions)\n",
        "- Column Method: like alias/ contain\n",
        "[Link](http://spark.apache.org/docs/latest/api/scala/index.html#org.apache.spark.sql.Column)\n",
        "- spark.sql.functions  [Link](http://spark.apache.org/docs/latest/api/scala/index.html#org.apache.spark.sql.functions$)"
      ]
    },
    {
      "cell_type": "code",
      "metadata": {
        "colab": {
          "base_uri": "https://localhost:8080/"
        },
        "id": "3ALg9hN-TfR2",
        "outputId": "0b7215af-1168-4c37-bbc4-ffa5b42ed0f5"
      },
      "source": [
        "# read sample dataframe\n",
        "# df = spark.read.format(\"csv\")\\\n",
        "# .option('header','true')\\\n",
        "# .option('inferSchema','true')\\\n",
        "# .load(\"data/retail-data/by-day/2010-12-01.csv\")\n",
        "\n",
        "df = spark.read.csv( \n",
        "    datapath + 'retail-data/by-day/2010-12-01.csv'\n",
        "    ,header=  True\n",
        "    ,inferSchema = True\n",
        ")\n",
        "\n",
        "df.printSchema()\n",
        "df.createOrReplaceTempView(\"dfTable\")"
      ],
      "execution_count": null,
      "outputs": [
        {
          "output_type": "stream",
          "name": "stdout",
          "text": [
            "root\n",
            " |-- InvoiceNo: string (nullable = true)\n",
            " |-- StockCode: string (nullable = true)\n",
            " |-- Description: string (nullable = true)\n",
            " |-- Quantity: integer (nullable = true)\n",
            " |-- InvoiceDate: string (nullable = true)\n",
            " |-- UnitPrice: double (nullable = true)\n",
            " |-- CustomerID: double (nullable = true)\n",
            " |-- Country: string (nullable = true)\n",
            "\n"
          ]
        }
      ]
    },
    {
      "cell_type": "code",
      "metadata": {
        "colab": {
          "base_uri": "https://localhost:8080/"
        },
        "id": "z-77dHT7TfR2",
        "outputId": "9df849b5-523f-4e92-a6c7-dd2df58fa638"
      },
      "source": [
        "df.selectExpr('*').show(3)"
      ],
      "execution_count": null,
      "outputs": [
        {
          "output_type": "stream",
          "name": "stdout",
          "text": [
            "+---------+---------+--------------------+--------+-------------------+---------+----------+--------------+\n",
            "|InvoiceNo|StockCode|         Description|Quantity|        InvoiceDate|UnitPrice|CustomerID|       Country|\n",
            "+---------+---------+--------------------+--------+-------------------+---------+----------+--------------+\n",
            "|   536365|   85123A|WHITE HANGING HEA...|       6|2010-12-01 08:26:00|     2.55|   17850.0|United Kingdom|\n",
            "|   536365|    71053| WHITE METAL LANTERN|       6|2010-12-01 08:26:00|     3.39|   17850.0|United Kingdom|\n",
            "|   536365|   84406B|CREAM CUPID HEART...|       8|2010-12-01 08:26:00|     2.75|   17850.0|United Kingdom|\n",
            "+---------+---------+--------------------+--------+-------------------+---------+----------+--------------+\n",
            "only showing top 3 rows\n",
            "\n"
          ]
        }
      ]
    },
    {
      "cell_type": "markdown",
      "metadata": {
        "id": "F5byyLZuTfR3"
      },
      "source": [
        "## Booleans\n",
        "specify equality as well as\n",
        "less-than or greater-than:\n",
        "Boolean statements consist of four elements: *and*, *or*, *true*, and *false*"
      ]
    },
    {
      "cell_type": "markdown",
      "metadata": {
        "id": "P6KptV5_TfR3"
      },
      "source": [
        "### AND operation\n",
        "The reason for this is that even if Boolean statements are expressed serially (one after the other),\n",
        "Spark will flatten all of these filters into one statement and perform the filter at the same time,\n",
        "creating the and statement for us."
      ]
    },
    {
      "cell_type": "code",
      "metadata": {
        "id": "b4J3_4tRTfR3",
        "outputId": "e2c0527a-216b-4036-cb27-96ff5d850848"
      },
      "source": [
        "# boolean as a filter\n",
        "df.where(col('InvoiceNo') == 536365).where(col('UnitPrice') == 2.55)\\ # Filter\n",
        ".select(col('InvoiceNo').alias('Number_of_Invoice'),col('UnitPrice'),col('Quantity'))\\ # select columns\n",
        ".show(5,False) # False  == no truncate column"
      ],
      "execution_count": null,
      "outputs": [
        {
          "name": "stdout",
          "output_type": "stream",
          "text": [
            "+-----------------+---------+--------+\n",
            "|Number_of_Invoice|UnitPrice|Quantity|\n",
            "+-----------------+---------+--------+\n",
            "|536365           |2.55     |6       |\n",
            "+-----------------+---------+--------+\n",
            "\n"
          ]
        }
      ]
    },
    {
      "cell_type": "code",
      "metadata": {
        "id": "NLrDTf2VTfR3",
        "outputId": "c757d775-78ba-49ed-a38b-cb7c5b9286fb"
      },
      "source": [
        "# or specify in expression  \n",
        "df.where('InvoiceNo == 536365').where('UnitPrice == 2.55')\\\n",
        ".selectExpr('InvoiceNo as NUmber_of_Invoice','UnitPrice','Quantity')\\\n",
        ".show(5,False)"
      ],
      "execution_count": null,
      "outputs": [
        {
          "name": "stdout",
          "output_type": "stream",
          "text": [
            "+-----------------+---------+--------+\n",
            "|NUmber_of_Invoice|UnitPrice|Quantity|\n",
            "+-----------------+---------+--------+\n",
            "|536365           |2.55     |6       |\n",
            "+-----------------+---------+--------+\n",
            "\n"
          ]
        }
      ]
    },
    {
      "cell_type": "code",
      "metadata": {
        "colab": {
          "base_uri": "https://localhost:8080/"
        },
        "id": "kg3NgD68LXxc",
        "outputId": "ccc61fba-d44c-4963-d18e-87578551337f"
      },
      "source": [
        "# You can also using & instead of serialize operation\n",
        "df.where(\n",
        "    (F.col('InvoiceNo') == 536365) & (F.col('UnitPrice') == 2.55)\n",
        ").selectExpr('InvoiceNo as NUmber_of_Invoice','UnitPrice','Quantity')\\\n",
        ".show(5,False)"
      ],
      "execution_count": null,
      "outputs": [
        {
          "output_type": "stream",
          "name": "stdout",
          "text": [
            "+-----------------+---------+--------+\n",
            "|NUmber_of_Invoice|UnitPrice|Quantity|\n",
            "+-----------------+---------+--------+\n",
            "|536365           |2.55     |6       |\n",
            "+-----------------+---------+--------+\n",
            "\n"
          ]
        }
      ]
    },
    {
      "cell_type": "markdown",
      "metadata": {
        "id": "338A9hSDTfR3"
      },
      "source": [
        "### OR operation\n",
        "OR need to have separate variable to store filter rules\n",
        "\n",
        "\n",
        "```\n",
        "use |\n",
        "```\n",
        "\n"
      ]
    },
    {
      "cell_type": "code",
      "metadata": {
        "id": "DP7f8apfTfR3",
        "outputId": "2eaf4990-e938-40eb-c875-665cde844e5c"
      },
      "source": [
        "from pyspark.sql.functions import instr # == number of position in the string\n",
        "# create filter\n",
        "price_filter = col('UnitPrice') > 600\n",
        "description_filter = instr(df['Description'],'POSTAGE') >= 1 # Postage is not the first word in the description\n",
        "\n",
        "df.where(df.StockCode.isin('DOT'))\\ # have word 'DOT' in StockCode \n",
        ".where(price_filter | description_filter).show()"
      ],
      "execution_count": null,
      "outputs": [
        {
          "name": "stdout",
          "output_type": "stream",
          "text": [
            "+---------+---------+--------------+--------+-------------------+---------+----------+--------------+\n",
            "|InvoiceNo|StockCode|   Description|Quantity|        InvoiceDate|UnitPrice|CustomerID|       Country|\n",
            "+---------+---------+--------------+--------+-------------------+---------+----------+--------------+\n",
            "|   536544|      DOT|DOTCOM POSTAGE|       1|2010-12-01 14:32:00|   569.77|      null|United Kingdom|\n",
            "|   536592|      DOT|DOTCOM POSTAGE|       1|2010-12-01 17:06:00|   607.49|      null|United Kingdom|\n",
            "+---------+---------+--------------+--------+-------------------+---------+----------+--------------+\n",
            "\n"
          ]
        }
      ]
    },
    {
      "cell_type": "markdown",
      "metadata": {
        "id": "A7lDJsTHTfR3"
      },
      "source": [
        "To filter a DataFrame, you can also just\n",
        "specify a Boolean column:\n"
      ]
    },
    {
      "cell_type": "code",
      "metadata": {
        "id": "29IroYjnTfR5",
        "outputId": "c00cfb30-13aa-47c9-db21-3c1108b2ed95"
      },
      "source": [
        "# Sample query with boolean column in SQL\n",
        "# create temp view for quary in sql\n",
        "df.createOrReplaceTempView('SQL_table1')\n",
        "spark.sql('''\n",
        "SELECT *, (StockCode = 'DOT' AND  \n",
        "    (UnitPrice > 600 OR instr(Description, \"POSTAGE\") >= 1)) as isExpensive  \n",
        "FROM dfTable  \n",
        "WHERE (StockCode = 'DOT' AND (UnitPrice > 600 OR instr(Description, \"POSTAGE\") >= 1))\n",
        "''').show()"
      ],
      "execution_count": null,
      "outputs": [
        {
          "name": "stdout",
          "output_type": "stream",
          "text": [
            "+---------+---------+--------------+--------+-------------------+---------+----------+--------------+-----------+\n",
            "|InvoiceNo|StockCode|   Description|Quantity|        InvoiceDate|UnitPrice|CustomerID|       Country|isExpensive|\n",
            "+---------+---------+--------------+--------+-------------------+---------+----------+--------------+-----------+\n",
            "|   536544|      DOT|DOTCOM POSTAGE|       1|2010-12-01 14:32:00|   569.77|      null|United Kingdom|       true|\n",
            "|   536592|      DOT|DOTCOM POSTAGE|       1|2010-12-01 17:06:00|   607.49|      null|United Kingdom|       true|\n",
            "+---------+---------+--------------+--------+-------------------+---------+----------+--------------+-----------+\n",
            "\n"
          ]
        }
      ]
    },
    {
      "cell_type": "code",
      "metadata": {
        "id": "XLokzlK8TfR5",
        "outputId": "8c1b353c-250e-4b57-c664-fa0b43df0e6f"
      },
      "source": [
        "# can also be done in data frame like\n",
        "# init filter\n",
        "price_filter = col('UnitPrice') > 600\n",
        "description_filter = instr(df['Description'],'POSTAGE') >= 1 \n",
        "dot_filter = df.StockCode.isin('DOT')\n",
        "# query\n",
        "df.where(dot_filter).where(price_filter | description_filter)\\\n",
        ".select(col('*'),(dot_filter & dot_filter | description_filter).alias('isExpensive'))\\\n",
        ".show()"
      ],
      "execution_count": null,
      "outputs": [
        {
          "name": "stdout",
          "output_type": "stream",
          "text": [
            "+---------+---------+--------------+--------+-------------------+---------+----------+--------------+-----------+\n",
            "|InvoiceNo|StockCode|   Description|Quantity|        InvoiceDate|UnitPrice|CustomerID|       Country|isExpensive|\n",
            "+---------+---------+--------------+--------+-------------------+---------+----------+--------------+-----------+\n",
            "|   536544|      DOT|DOTCOM POSTAGE|       1|2010-12-01 14:32:00|   569.77|      null|United Kingdom|       true|\n",
            "|   536592|      DOT|DOTCOM POSTAGE|       1|2010-12-01 17:06:00|   607.49|      null|United Kingdom|       true|\n",
            "+---------+---------+--------------+--------+-------------------+---------+----------+--------------+-----------+\n",
            "\n"
          ]
        }
      ]
    },
    {
      "cell_type": "code",
      "metadata": {
        "id": "4r8wIpwGTfR5",
        "outputId": "d3db5297-faa5-4511-ffb7-494760a88327"
      },
      "source": [
        "# or use withColumn to add new column\n",
        "df.withColumn(\"isExpensive\", dot_filter  & (price_filter | description_filter))\\ # add true and false base on condition\n",
        ".where(\"isExpensive\")\\ # filter only true\n",
        ".show(5)"
      ],
      "execution_count": null,
      "outputs": [
        {
          "name": "stdout",
          "output_type": "stream",
          "text": [
            "+---------+---------+--------------+--------+-------------------+---------+----------+--------------+-----------+\n",
            "|InvoiceNo|StockCode|   Description|Quantity|        InvoiceDate|UnitPrice|CustomerID|       Country|isExpensive|\n",
            "+---------+---------+--------------+--------+-------------------+---------+----------+--------------+-----------+\n",
            "|   536544|      DOT|DOTCOM POSTAGE|       1|2010-12-01 14:32:00|   569.77|      null|United Kingdom|       true|\n",
            "|   536592|      DOT|DOTCOM POSTAGE|       1|2010-12-01 17:06:00|   607.49|      null|United Kingdom|       true|\n",
            "+---------+---------+--------------+--------+-------------------+---------+----------+--------------+-----------+\n",
            "\n"
          ]
        }
      ]
    },
    {
      "cell_type": "markdown",
      "metadata": {
        "id": "j97fpci-TfR5"
      },
      "source": [
        "## Numbers"
      ]
    },
    {
      "cell_type": "markdown",
      "metadata": {
        "id": "zFfIR82VTfR6"
      },
      "source": [
        "Manipulate number with df functions  \n",
        "For example try $(Quantity * UnitPrice)^2 +5$"
      ]
    },
    {
      "cell_type": "code",
      "metadata": {
        "id": "Ap74ANVaTfR6",
        "outputId": "f1dcfeb1-d2f5-4151-ceff-2f61c9508c79"
      },
      "source": [
        "square_quantity = pow(col('Quantity') * col('UnitPrice'),2) +5\n",
        "df.select(expr('CustomerID'),square_quantity.alias('revenue'))\\\n",
        ".show(3)"
      ],
      "execution_count": null,
      "outputs": [
        {
          "name": "stdout",
          "output_type": "stream",
          "text": [
            "+----------+------------------+\n",
            "|CustomerID|           revenue|\n",
            "+----------+------------------+\n",
            "|   17850.0|239.08999999999997|\n",
            "|   17850.0|          418.7156|\n",
            "|   17850.0|             489.0|\n",
            "+----------+------------------+\n",
            "only showing top 3 rows\n",
            "\n"
          ]
        }
      ]
    },
    {
      "cell_type": "code",
      "metadata": {
        "id": "ymf_1W1_TfR6",
        "outputId": "c0d0d731-07b0-48d9-ac92-1db0d9860245"
      },
      "source": [
        "# in expression\n",
        "df.selectExpr('CustomerID',\n",
        "             'POWER((Quantity * UnitPrice),2.0) +5 as revenue').show(3) # POWER is SQL function that can use in expression"
      ],
      "execution_count": null,
      "outputs": [
        {
          "name": "stdout",
          "output_type": "stream",
          "text": [
            "+----------+------------------+\n",
            "|CustomerID|           revenue|\n",
            "+----------+------------------+\n",
            "|   17850.0|239.08999999999997|\n",
            "|   17850.0|          418.7156|\n",
            "|   17850.0|             489.0|\n",
            "+----------+------------------+\n",
            "only showing top 3 rows\n",
            "\n"
          ]
        }
      ]
    },
    {
      "cell_type": "code",
      "metadata": {
        "id": "EKkDA6euTfR6",
        "outputId": "3b541a2a-8896-4d03-ecaf-eb3190e75e6c"
      },
      "source": [
        "# inSQL\n",
        "spark.sql('''\n",
        "SELECT CustomerID, POWER((Quantity * UnitPrice),2.0) +5 as revenue\n",
        "FROM SQL_table1 ''').show(3)"
      ],
      "execution_count": null,
      "outputs": [
        {
          "name": "stdout",
          "output_type": "stream",
          "text": [
            "+----------+------------------+\n",
            "|CustomerID|           revenue|\n",
            "+----------+------------------+\n",
            "|   17850.0|239.08999999999997|\n",
            "|   17850.0|          418.7156|\n",
            "|   17850.0|             489.0|\n",
            "+----------+------------------+\n",
            "only showing top 3 rows\n",
            "\n"
          ]
        }
      ]
    },
    {
      "cell_type": "markdown",
      "metadata": {
        "id": "JuYFAvhKTfR6"
      },
      "source": [
        "Rounding up with round and round down with bround"
      ]
    },
    {
      "cell_type": "code",
      "metadata": {
        "id": "3JqEpEpgTfR7",
        "outputId": "923f9067-d06e-487f-8a7c-889c2f43aa60"
      },
      "source": [
        "from pyspark.sql.functions import lit, round, bround\n",
        "df.select(round(lit(\"2.5\")), bround(lit(\"2.5\"))).show(2)"
      ],
      "execution_count": null,
      "outputs": [
        {
          "name": "stdout",
          "output_type": "stream",
          "text": [
            "+-------------+--------------+\n",
            "|round(2.5, 0)|bround(2.5, 0)|\n",
            "+-------------+--------------+\n",
            "|          3.0|           2.0|\n",
            "|          3.0|           2.0|\n",
            "+-------------+--------------+\n",
            "only showing top 2 rows\n",
            "\n"
          ]
        }
      ]
    },
    {
      "cell_type": "markdown",
      "metadata": {
        "id": "BEUZZqv2TfR7"
      },
      "source": [
        "compute the correlation of two columns using stat methods"
      ]
    },
    {
      "cell_type": "code",
      "metadata": {
        "id": "vD8Qcf85TfR7",
        "outputId": "6be06d66-ad97-4205-a2b1-785d41735c99"
      },
      "source": [
        "# Using stat method\n",
        "df.stat.corr('Quantity','UnitPrice')"
      ],
      "execution_count": null,
      "outputs": [
        {
          "data": {
            "text/plain": [
              "-0.04112314436835551"
            ]
          },
          "execution_count": 87,
          "metadata": {},
          "output_type": "execute_result"
        }
      ]
    },
    {
      "cell_type": "code",
      "metadata": {
        "id": "PqUT7PqaTfR7",
        "outputId": "958b52e8-045c-4425-b3eb-0b5fb55e273a"
      },
      "source": [
        "# in query\n",
        "from pyspark.sql.functions import corr\n",
        "df.select(corr(\"Quantity\", \"UnitPrice\")).show()"
      ],
      "execution_count": null,
      "outputs": [
        {
          "name": "stdout",
          "output_type": "stream",
          "text": [
            "+-------------------------+\n",
            "|corr(Quantity, UnitPrice)|\n",
            "+-------------------------+\n",
            "|     -0.04112314436835551|\n",
            "+-------------------------+\n",
            "\n"
          ]
        }
      ]
    },
    {
      "cell_type": "markdown",
      "metadata": {
        "id": "rT3SzqGPTfR7"
      },
      "source": [
        "### Compute statistics (using describe())\n",
        "[link text](https://)compute summary statistics for a column or set of columns"
      ]
    },
    {
      "cell_type": "code",
      "metadata": {
        "colab": {
          "base_uri": "https://localhost:8080/"
        },
        "id": "mOKEBcaUTfR7",
        "outputId": "48d2b082-c370-43de-fce0-e077521f889c"
      },
      "source": [
        "df.describe().show()"
      ],
      "execution_count": null,
      "outputs": [
        {
          "output_type": "stream",
          "name": "stdout",
          "text": [
            "+-------+-----------------+------------------+--------------------+------------------+-------------------+------------------+------------------+--------------+\n",
            "|summary|        InvoiceNo|         StockCode|         Description|          Quantity|        InvoiceDate|         UnitPrice|        CustomerID|       Country|\n",
            "+-------+-----------------+------------------+--------------------+------------------+-------------------+------------------+------------------+--------------+\n",
            "|  count|             3108|              3108|                3098|              3108|               3108|              3108|              1968|          3108|\n",
            "|   mean| 536516.684944841|27834.304044117645|                null| 8.627413127413128|               null| 4.151946589446603|15661.388719512195|          null|\n",
            "| stddev|72.89447869788873|17407.897548583845|                null|26.371821677029203|               null|15.638659854603892|1854.4496996893627|          null|\n",
            "|    min|           536365|             10002| 4 PURPLE FLOCK D...|               -24|2010-12-01 08:26:00|               0.0|           12431.0|     Australia|\n",
            "|    max|          C536548|              POST|ZINC WILLIE WINKI...|               600|2010-12-01 17:35:00|            607.49|           18229.0|United Kingdom|\n",
            "+-------+-----------------+------------------+--------------------+------------------+-------------------+------------------+------------------+--------------+\n",
            "\n"
          ]
        }
      ]
    },
    {
      "cell_type": "code",
      "metadata": {
        "id": "QzBFwB-DTfR8"
      },
      "source": [
        "# or compute with these functions\n",
        "from pyspark.sql.functions import count, mean, stddev_pop, min, max"
      ],
      "execution_count": null,
      "outputs": []
    },
    {
      "cell_type": "markdown",
      "metadata": {
        "id": "fCCLoclHTfR8"
      },
      "source": [
        "calculate either exact or\n",
        "approximate quantiles of your data using the approxQuantile method:"
      ]
    },
    {
      "cell_type": "code",
      "metadata": {
        "id": "1PXzMC1NTfR8",
        "outputId": "cc49df53-6eac-49a6-8f0f-5bfaf3841a91"
      },
      "source": [
        "colName = 'UnitPrice'\n",
        "quantileProbs = [0.5]\n",
        "relError = 0.05\n",
        "df.stat.approxQuantile('UnitPrice',quantileProbs,relError)"
      ],
      "execution_count": null,
      "outputs": [
        {
          "data": {
            "text/plain": [
              "[2.51]"
            ]
          },
          "execution_count": 98,
          "metadata": {},
          "output_type": "execute_result"
        }
      ]
    },
    {
      "cell_type": "markdown",
      "metadata": {
        "id": "V0vpyFN4TfSA"
      },
      "source": [
        "### Generate ROW number (running number)\n",
        "we can also add a unique ID to each row by using the function\n",
        "monotonically_increasing_id. This function generates a unique value for each row, starting\n",
        "with 0:"
      ]
    },
    {
      "cell_type": "code",
      "metadata": {
        "id": "Sf_ANNo1TfSA",
        "outputId": "6c56cb8b-baf0-49d7-d397-374990a5b7a5"
      },
      "source": [
        "from pyspark.sql.functions import monotonically_increasing_id\n",
        "df.select(col('CustomerID'),monotonically_increasing_id()).show(2)"
      ],
      "execution_count": null,
      "outputs": [
        {
          "name": "stdout",
          "output_type": "stream",
          "text": [
            "+----------+-----------------------------+\n",
            "|CustomerID|monotonically_increasing_id()|\n",
            "+----------+-----------------------------+\n",
            "|   17850.0|                            0|\n",
            "|   17850.0|                            1|\n",
            "+----------+-----------------------------+\n",
            "only showing top 2 rows\n",
            "\n"
          ]
        }
      ]
    },
    {
      "cell_type": "markdown",
      "metadata": {
        "id": "I_0baRLoTfSA"
      },
      "source": [
        "## Strings\n"
      ]
    },
    {
      "cell_type": "markdown",
      "metadata": {
        "id": "r13lSWAJTfSA"
      },
      "source": [
        "initcap sets the first letter of each word in uppercase, all other letters in lowercase."
      ]
    },
    {
      "cell_type": "code",
      "metadata": {
        "id": "HozK1QpkTfSA",
        "outputId": "1252a362-acd2-4454-91d2-0e21b0b48866"
      },
      "source": [
        "from pyspark.sql.functions import initcap\n",
        "df.select(initcap(col('Country'))).show(2)"
      ],
      "execution_count": null,
      "outputs": [
        {
          "name": "stdout",
          "output_type": "stream",
          "text": [
            "+----------------+\n",
            "|initcap(Country)|\n",
            "+----------------+\n",
            "|  United Kingdom|\n",
            "|  United Kingdom|\n",
            "+----------------+\n",
            "only showing top 2 rows\n",
            "\n"
          ]
        }
      ]
    },
    {
      "cell_type": "markdown",
      "metadata": {
        "id": "92L6RhKpTfSB"
      },
      "source": [
        "Making all strings uppercase or lower case"
      ]
    },
    {
      "cell_type": "code",
      "metadata": {
        "id": "z7t7HMpOTfSB",
        "outputId": "7c3a5cbb-373a-426d-e0f0-bf487d644bd2"
      },
      "source": [
        "from pyspark.sql.functions import upper, lower\n",
        "df.select(col('Country'),upper(col('Country')),lower(col('Country'))).show(2)"
      ],
      "execution_count": null,
      "outputs": [
        {
          "name": "stdout",
          "output_type": "stream",
          "text": [
            "+--------------+--------------+--------------+\n",
            "|       Country|upper(Country)|lower(Country)|\n",
            "+--------------+--------------+--------------+\n",
            "|United Kingdom|UNITED KINGDOM|united kingdom|\n",
            "|United Kingdom|UNITED KINGDOM|united kingdom|\n",
            "+--------------+--------------+--------------+\n",
            "only showing top 2 rows\n",
            "\n"
          ]
        }
      ]
    },
    {
      "cell_type": "markdown",
      "metadata": {
        "id": "JqwEJ6xcTfSB"
      },
      "source": [
        "adding or removing spaces around a string. You can do this by using lpad,\n",
        "ltrim, rpad and rtrim, trim:"
      ]
    },
    {
      "cell_type": "code",
      "metadata": {
        "id": "A2bjF5Q8TfSB",
        "outputId": "b29b66e3-f9d2-4564-dfdc-5bf1773c4559"
      },
      "source": [
        "from pyspark.sql.functions import lit, ltrim, rtrim, rpad, lpad, trim\n",
        "df.select(\n",
        "ltrim(lit(\" HELLO \")).alias(\"ltrim\"),\n",
        "rtrim(lit(\" HELLO \")).alias(\"rtrim\"),\n",
        "trim(lit(\" HELLO \")).alias(\"trim\"),\n",
        "lpad(lit(\"HELLO\"), 3, \"*\").alias(\"lp\"), # padding the left side of a string with a specific set of characters.\n",
        "rpad(lit(\"HELLO\"), 10, \"*\").alias(\"rp\")).show(2) # padding the right side of a string with a specific set of characters."
      ],
      "execution_count": null,
      "outputs": [
        {
          "name": "stdout",
          "output_type": "stream",
          "text": [
            "+------+------+-----+---+----------+\n",
            "| ltrim| rtrim| trim| lp|        rp|\n",
            "+------+------+-----+---+----------+\n",
            "|HELLO | HELLO|HELLO|HEL|HELLO*****|\n",
            "|HELLO | HELLO|HELLO|HEL|HELLO*****|\n",
            "+------+------+-----+---+----------+\n",
            "only showing top 2 rows\n",
            "\n"
          ]
        }
      ]
    },
    {
      "cell_type": "markdown",
      "metadata": {
        "id": "zQ01ycVcTfSB"
      },
      "source": [
        "### Regular Expression"
      ]
    },
    {
      "cell_type": "markdown",
      "metadata": {
        "id": "alvFJQZnTfSB"
      },
      "source": [
        "There are two key functions in Spark that you’ll need in\n",
        "order to perform regular expression tasks: regexp_extract and regexp_replace. These\n",
        "functions extract values and replace values, respectively."
      ]
    },
    {
      "cell_type": "markdown",
      "metadata": {
        "id": "sJwZuw2xTfSC"
      },
      "source": [
        "Let’s explore how to use the regexp_replace function to replace substitute color names in our\n",
        "description column:"
      ]
    },
    {
      "cell_type": "code",
      "metadata": {
        "colab": {
          "base_uri": "https://localhost:8080/"
        },
        "id": "oa7B5sAXN_Gz",
        "outputId": "cddd418e-07ef-4ef9-fb33-0d941b3ef0fe"
      },
      "source": [
        "df.show(3)"
      ],
      "execution_count": null,
      "outputs": [
        {
          "output_type": "stream",
          "name": "stdout",
          "text": [
            "+---------+---------+--------------------+--------+-------------------+---------+----------+--------------+\n",
            "|InvoiceNo|StockCode|         Description|Quantity|        InvoiceDate|UnitPrice|CustomerID|       Country|\n",
            "+---------+---------+--------------------+--------+-------------------+---------+----------+--------------+\n",
            "|   536365|   85123A|WHITE HANGING HEA...|       6|2010-12-01 08:26:00|     2.55|   17850.0|United Kingdom|\n",
            "|   536365|    71053| WHITE METAL LANTERN|       6|2010-12-01 08:26:00|     3.39|   17850.0|United Kingdom|\n",
            "|   536365|   84406B|CREAM CUPID HEART...|       8|2010-12-01 08:26:00|     2.75|   17850.0|United Kingdom|\n",
            "+---------+---------+--------------------+--------+-------------------+---------+----------+--------------+\n",
            "only showing top 3 rows\n",
            "\n"
          ]
        }
      ]
    },
    {
      "cell_type": "code",
      "metadata": {
        "colab": {
          "base_uri": "https://localhost:8080/"
        },
        "id": "Vnxx39vuTfSC",
        "outputId": "144a0e70-fdd9-4d4e-c02d-64f439e6c818"
      },
      "source": [
        "from pyspark.sql.functions import regexp_replace, regexp_extract, col\n",
        "# replace any words in description that match word in strings to COLOR\n",
        "strings= \"(BLACK|WHITE|RED|GREEN|BLUE)\" # replace any of this\n",
        "df.select(regexp_replace(col('Description'),strings,'COLOR').alias('color_clean'), \n",
        "            col('Description')).show(2,False)"
      ],
      "execution_count": null,
      "outputs": [
        {
          "output_type": "stream",
          "name": "stdout",
          "text": [
            "+----------------------------------+----------------------------------+\n",
            "|color_clean                       |Description                       |\n",
            "+----------------------------------+----------------------------------+\n",
            "|COLOR HANGING HEART T-LIGHT HOLDER|WHITE HANGING HEART T-LIGHT HOLDER|\n",
            "|COLOR METAL LANTERN               |WHITE METAL LANTERN               |\n",
            "+----------------------------------+----------------------------------+\n",
            "only showing top 2 rows\n",
            "\n"
          ]
        }
      ]
    },
    {
      "cell_type": "markdown",
      "metadata": {
        "id": "v87vwWIlTfSC"
      },
      "source": [
        "Another task might be to replace given characters with other characters using translate Building this as a\n",
        "regular expression could be tedious, so Spark also provides the translate function to replace these\n",
        "values.  \n",
        "This is done character by character 'ABCD' , '1234' mean replace A with 1 and replace B with 2 and so on.."
      ]
    },
    {
      "cell_type": "code",
      "metadata": {
        "id": "NdIjM5xOTfSC",
        "outputId": "a23e0b3a-26f4-4b74-e852-252fc9b4ac4a"
      },
      "source": [
        "from pyspark.sql.functions import translate\n",
        "df.select(translate(col('Description'),'ABCD','1234'),'Description').show(2,False)"
      ],
      "execution_count": null,
      "outputs": [
        {
          "name": "stdout",
          "output_type": "stream",
          "text": [
            "+----------------------------------+----------------------------------+\n",
            "|translate(Description, ABCD, 1234)|Description                       |\n",
            "+----------------------------------+----------------------------------+\n",
            "|WHITE H1NGING HE1RT T-LIGHT HOL4ER|WHITE HANGING HEART T-LIGHT HOLDER|\n",
            "|WHITE MET1L L1NTERN               |WHITE METAL LANTERN               |\n",
            "+----------------------------------+----------------------------------+\n",
            "only showing top 2 rows\n",
            "\n"
          ]
        }
      ]
    },
    {
      "cell_type": "markdown",
      "metadata": {
        "id": "KV8nDGzWTfSC"
      },
      "source": [
        "pulling out the first mentioned color using regexp_extract"
      ]
    },
    {
      "cell_type": "code",
      "metadata": {
        "colab": {
          "base_uri": "https://localhost:8080/"
        },
        "id": "2EzZnyd8TfSC",
        "outputId": "78440efa-afa1-499a-bcf0-2625bad226af"
      },
      "source": [
        "extract_str = \"(BLACK|WHITE|RED|GREEN|BLUE)\" # pull out any of this\n",
        "df.select(\n",
        "regexp_extract(col(\"Description\"), extract_str, 1).alias(\"color_clean\"),\n",
        "col(\"Description\")).show(2,False)"
      ],
      "execution_count": null,
      "outputs": [
        {
          "output_type": "stream",
          "name": "stdout",
          "text": [
            "+-----------+----------------------------------+\n",
            "|color_clean|Description                       |\n",
            "+-----------+----------------------------------+\n",
            "|WHITE      |WHITE HANGING HEART T-LIGHT HOLDER|\n",
            "|WHITE      |WHITE METAL LANTERN               |\n",
            "+-----------+----------------------------------+\n",
            "only showing top 2 rows\n",
            "\n"
          ]
        }
      ]
    },
    {
      "cell_type": "markdown",
      "metadata": {
        "id": "YF_BDgHFTfSD"
      },
      "source": [
        "check for their existence. We can do\n",
        "this with the contains method on each column."
      ]
    },
    {
      "cell_type": "code",
      "metadata": {
        "colab": {
          "base_uri": "https://localhost:8080/"
        },
        "id": "EQFp-PW_TfSD",
        "outputId": "a22e070d-c77e-4bd9-d3b1-c96591b91716"
      },
      "source": [
        "# create column to check has black or white then use boolean result to filter \n",
        "from pyspark.sql.functions import instr\n",
        "containsBlack = instr(col(\"Description\"), \"BLACK\") >= 1\n",
        "containsWhite = instr(col(\"Description\"), \"WHITE\") >= 1\n",
        "df.withColumn(\"hasSimpleColor\", containsBlack | containsWhite)\\\n",
        ".where(\"hasSimpleColor\")\\\n",
        ".select(col(\"Description\"),col(\"hasSimpleColor\")).show(3, False)"
      ],
      "execution_count": null,
      "outputs": [
        {
          "output_type": "stream",
          "name": "stdout",
          "text": [
            "+----------------------------------+--------------+\n",
            "|Description                       |hasSimpleColor|\n",
            "+----------------------------------+--------------+\n",
            "|WHITE HANGING HEART T-LIGHT HOLDER|true          |\n",
            "|WHITE METAL LANTERN               |true          |\n",
            "|RED WOOLLY HOTTIE WHITE HEART.    |true          |\n",
            "+----------------------------------+--------------+\n",
            "only showing top 3 rows\n",
            "\n"
          ]
        }
      ]
    },
    {
      "cell_type": "markdown",
      "metadata": {
        "id": "MtGrvFrbTfSD"
      },
      "source": [
        "What about 3 or more values  \n",
        "we’re going to use a different function,\n",
        "locate, that returns the integer location (1 based location). We then convert that to a Boolean\n",
        "before using it as the same basic feature:"
      ]
    },
    {
      "cell_type": "code",
      "metadata": {
        "id": "tZ2Lo6EuTfSD",
        "outputId": "6ac623cb-d46c-47ea-c634-2cbecef5babd"
      },
      "source": [
        "from pyspark.sql.functions import  locate\n",
        "simpleColors = [\"black\", \"white\", \"red\", \"green\", \"blue\"]\n",
        "def color_locator(column, color_string):\n",
        "  return locate(color_string.upper(), column).cast(\"boolean\").alias(\"is_\" + color_string)\n",
        "\n",
        "selectedColumns = [color_locator(df.Description, c) for c in simpleColors]\n",
        "selectedColumns.append(expr(\"*\")) # has to a be Column type\n",
        "\n",
        "df.select(*selectedColumns).where(expr(\"is_white OR is_red\"))\\\n",
        "  .select(\"Description\").show(3, False)"
      ],
      "execution_count": null,
      "outputs": [
        {
          "name": "stdout",
          "output_type": "stream",
          "text": [
            "+----------------------------------+\n",
            "|Description                       |\n",
            "+----------------------------------+\n",
            "|WHITE HANGING HEART T-LIGHT HOLDER|\n",
            "|WHITE METAL LANTERN               |\n",
            "|RED WOOLLY HOTTIE WHITE HEART.    |\n",
            "+----------------------------------+\n",
            "only showing top 3 rows\n",
            "\n"
          ]
        }
      ]
    },
    {
      "cell_type": "markdown",
      "metadata": {
        "id": "i4EGfHT9TfSD"
      },
      "source": [
        "## Dates and Timestamps"
      ]
    },
    {
      "cell_type": "markdown",
      "metadata": {
        "id": "G_nJ4rQ2TfSE"
      },
      "source": [
        "There\n",
        "are dates, which focus exclusively on calendar dates, and timestamps, which include both date\n",
        "and time information.\n",
        "\n",
        "Let’s begin with the basics and get the current date and the current\n",
        "timestamps:"
      ]
    },
    {
      "cell_type": "code",
      "metadata": {
        "colab": {
          "base_uri": "https://localhost:8080/"
        },
        "id": "mIDWblPgTfSE",
        "outputId": "5efa6ebe-fb10-4cbc-9080-392f82c29fa2"
      },
      "source": [
        "from pyspark.sql.functions import current_date,current_timestamp\n",
        "dateDF = spark.range(10)\\\n",
        ".withColumn('today',current_date())\\\n",
        ".withColumn('now',current_timestamp())\n",
        "\n",
        "dateDF.printSchema()"
      ],
      "execution_count": null,
      "outputs": [
        {
          "output_type": "stream",
          "name": "stdout",
          "text": [
            "root\n",
            " |-- id: long (nullable = false)\n",
            " |-- today: date (nullable = false)\n",
            " |-- now: timestamp (nullable = false)\n",
            "\n"
          ]
        }
      ]
    },
    {
      "cell_type": "code",
      "metadata": {
        "colab": {
          "base_uri": "https://localhost:8080/"
        },
        "id": "tmjtyBJXTfSE",
        "outputId": "c131af50-3910-43ea-88af-0ac4ab71d5ea"
      },
      "source": [
        "dateDF.show(3,False)"
      ],
      "execution_count": null,
      "outputs": [
        {
          "output_type": "stream",
          "name": "stdout",
          "text": [
            "+---+----------+-----------------------+\n",
            "|id |today     |now                    |\n",
            "+---+----------+-----------------------+\n",
            "|0  |2021-11-13|2021-11-13 21:38:13.754|\n",
            "|1  |2021-11-13|2021-11-13 21:38:13.754|\n",
            "|2  |2021-11-13|2021-11-13 21:38:13.754|\n",
            "+---+----------+-----------------------+\n",
            "only showing top 3 rows\n",
            "\n"
          ]
        }
      ]
    },
    {
      "cell_type": "markdown",
      "metadata": {
        "id": "0VOxulA8TfSE"
      },
      "source": [
        "let’s add and subtract days from today.\n",
        "These functions take a column and then the number of days to either add or subtract as the\n",
        "arguments:"
      ]
    },
    {
      "cell_type": "code",
      "metadata": {
        "colab": {
          "base_uri": "https://localhost:8080/"
        },
        "id": "C4icUaljTfSE",
        "outputId": "7a64714d-230e-480e-e473-178774003df6"
      },
      "source": [
        "from pyspark.sql.functions import date_add,date_sub\n",
        "dateDF.select('id','today',date_add(dateDF.today,5), date_sub(dateDF.today,9))\\\n",
        ".show(3,False)"
      ],
      "execution_count": null,
      "outputs": [
        {
          "output_type": "stream",
          "name": "stdout",
          "text": [
            "+---+----------+------------------+------------------+\n",
            "|id |today     |date_add(today, 5)|date_sub(today, 9)|\n",
            "+---+----------+------------------+------------------+\n",
            "|0  |2021-11-13|2021-11-18        |2021-11-04        |\n",
            "|1  |2021-11-13|2021-11-18        |2021-11-04        |\n",
            "|2  |2021-11-13|2021-11-18        |2021-11-04        |\n",
            "+---+----------+------------------+------------------+\n",
            "only showing top 3 rows\n",
            "\n"
          ]
        }
      ]
    },
    {
      "cell_type": "markdown",
      "metadata": {
        "id": "7rgm0fpLTfSE"
      },
      "source": [
        "Another common task is to take a look at the difference between two dates. We can do this with\n",
        "the datediff function that will return the number of days in between two dates"
      ]
    },
    {
      "cell_type": "code",
      "metadata": {
        "id": "WbFB58dWTfSF",
        "outputId": "a3259f9d-6b2c-4194-bba6-5ce1f481ffeb"
      },
      "source": [
        "from pyspark.sql.functions import datediff\n",
        "dateDF.withColumn('week_ago', date_sub(col('today'),7))\\\n",
        ".select('today','week_ago',datediff(col('today'),col('week_ago'))).show(3)"
      ],
      "execution_count": null,
      "outputs": [
        {
          "name": "stdout",
          "output_type": "stream",
          "text": [
            "+----------+----------+-------------------------+\n",
            "|     today|  week_ago|datediff(today, week_ago)|\n",
            "+----------+----------+-------------------------+\n",
            "|2020-05-10|2020-05-03|                        7|\n",
            "|2020-05-10|2020-05-03|                        7|\n",
            "|2020-05-10|2020-05-03|                        7|\n",
            "+----------+----------+-------------------------+\n",
            "only showing top 3 rows\n",
            "\n"
          ]
        }
      ]
    },
    {
      "cell_type": "markdown",
      "metadata": {
        "id": "8LG9h-ivTfSF"
      },
      "source": [
        "The to_date function allows\n",
        "you to convert a string to a date, optionally with a specified forma"
      ]
    },
    {
      "cell_type": "code",
      "metadata": {
        "id": "q-tV5J1TTfSF",
        "outputId": "c01b9728-417f-4861-b936-81829dbe91cf"
      },
      "source": [
        "from pyspark.sql.functions import to_date\n",
        "spark.range(5).withColumn('date',lit('2020-01-01'))\\\n",
        ".select(to_date(col('date')).alias('Cast_string_to_date')).printSchema()"
      ],
      "execution_count": null,
      "outputs": [
        {
          "name": "stdout",
          "output_type": "stream",
          "text": [
            "root\n",
            " |-- Cast_string_to_date: date (nullable = true)\n",
            "\n"
          ]
        }
      ]
    },
    {
      "cell_type": "code",
      "metadata": {
        "id": "R5m2HV8TTfSF",
        "outputId": "369ca31a-5b18-4cd0-93d0-3e58548f64c1"
      },
      "source": [
        "# if Spark cannot parse the date; it will just return null.\n",
        "# format should be year-month-day -> month 20 is error and return null\n",
        "dateDF.select(to_date(lit(\"2016-20-12\")),to_date(lit(\"2017-12-11\"))).show(1)"
      ],
      "execution_count": null,
      "outputs": [
        {
          "name": "stdout",
          "output_type": "stream",
          "text": [
            "+---------------------+---------------------+\n",
            "|to_date('2016-20-12')|to_date('2017-12-11')|\n",
            "+---------------------+---------------------+\n",
            "|                 null|           2017-12-11|\n",
            "+---------------------+---------------------+\n",
            "only showing top 1 row\n",
            "\n"
          ]
        }
      ]
    },
    {
      "cell_type": "markdown",
      "metadata": {
        "id": "S-iDviMPTfSF"
      },
      "source": [
        "Let’s fix this pipeline, step by step, and come up with a robust way to avoid these issues entirely.\n",
        "The first step is to remember that we need to specify our date format according to the Java\n",
        "SimpleDateFormat standard. (year - month - date)\n",
        "\n",
        "We will use two functions to fix this: to_date and to_timestamp. The former optionally\n",
        "expects a format, whereas the latter requires one:"
      ]
    },
    {
      "cell_type": "code",
      "metadata": {
        "id": "bDT8i4KuTfSG",
        "outputId": "210b863f-19c0-44a8-93a5-c56c3d4c9a74"
      },
      "source": [
        "# if the data comes in year -date- month, we must specify format explicitly\n",
        "dateFormat = 'yyyy-dd-MM'\n",
        "cleanDateDF = spark.range(1).select(\n",
        "                        to_date(lit('2017-12-11'), dateFormat).alias('date1'), # yyyy-dd-MM to yyyy-MM-dd\n",
        "                        to_date(lit('2017-20-05'), dateFormat).alias('date2')\n",
        ").show(3)"
      ],
      "execution_count": null,
      "outputs": [
        {
          "name": "stdout",
          "output_type": "stream",
          "text": [
            "+----------+----------+\n",
            "|     date1|     date2|\n",
            "+----------+----------+\n",
            "|2017-11-12|2017-05-20|\n",
            "+----------+----------+\n",
            "\n"
          ]
        }
      ]
    },
    {
      "cell_type": "code",
      "metadata": {
        "id": "Ou85b0teTfSG",
        "outputId": "fd6dfca1-14d9-4742-d925-7954fb193877"
      },
      "source": [
        "# time stamp always require format to specify\n",
        "from pyspark.sql.functions import to_timestamp\n",
        "dateDF.select(col('today'),to_timestamp(col('today'),dateFormat)).show(3)"
      ],
      "execution_count": null,
      "outputs": [
        {
          "name": "stdout",
          "output_type": "stream",
          "text": [
            "+----------+-----------------------------------+\n",
            "|     today|to_timestamp(`today`, 'yyyy-dd-MM')|\n",
            "+----------+-----------------------------------+\n",
            "|2020-05-10|                2020-05-10 00:00:00|\n",
            "|2020-05-10|                2020-05-10 00:00:00|\n",
            "|2020-05-10|                2020-05-10 00:00:00|\n",
            "+----------+-----------------------------------+\n",
            "only showing top 3 rows\n",
            "\n"
          ]
        }
      ]
    },
    {
      "cell_type": "markdown",
      "metadata": {
        "id": "sCvhDspKTfSG"
      },
      "source": [
        "## Working with Nulls in Data\n",
        "There are two things you can do with null values: you can explicitly drop nulls or you can fill\n",
        "them with a value (globally or on a per-column basis)."
      ]
    },
    {
      "cell_type": "markdown",
      "metadata": {
        "id": "pHULlLYdTfSG"
      },
      "source": [
        "#### Coalesce\n",
        "Returns the value from the first column that is not null. If first column is null then return second and so on\n",
        "\n"
      ]
    },
    {
      "cell_type": "code",
      "metadata": {
        "colab": {
          "base_uri": "https://localhost:8080/"
        },
        "id": "rlN6KXyVTfSG",
        "outputId": "c9d5edfe-af48-4539-eaf4-9d69e49dc4fe"
      },
      "source": [
        "cDf = spark.createDataFrame([(None, None,'James'), (8, 5,'Peak'), (None, 2,'High')], (\"a\", \"b\",'c'))\n",
        "cDf.show()"
      ],
      "execution_count": null,
      "outputs": [
        {
          "output_type": "stream",
          "name": "stdout",
          "text": [
            "+----+----+-----+\n",
            "|   a|   b|    c|\n",
            "+----+----+-----+\n",
            "|null|null|James|\n",
            "|   8|   5| Peak|\n",
            "|null|   2| High|\n",
            "+----+----+-----+\n",
            "\n"
          ]
        }
      ]
    },
    {
      "cell_type": "code",
      "metadata": {
        "colab": {
          "base_uri": "https://localhost:8080/"
        },
        "id": "oSZV1XNtTfSH",
        "outputId": "7d77e809-aa80-4f84-aa5c-ad97db81968b"
      },
      "source": [
        "cDf.select(F.coalesce(cDf[\"a\"], cDf[\"b\"])).show()"
      ],
      "execution_count": null,
      "outputs": [
        {
          "output_type": "stream",
          "name": "stdout",
          "text": [
            "+--------------+\n",
            "|coalesce(a, b)|\n",
            "+--------------+\n",
            "|          null|\n",
            "|             8|\n",
            "|             2|\n",
            "+--------------+\n",
            "\n"
          ]
        }
      ]
    },
    {
      "cell_type": "markdown",
      "metadata": {
        "id": "gaDkpoqyTfSH"
      },
      "source": [
        "#### Using SQL functions to manipulate NUll values\n",
        "Naturally, we can use these in select expressions on DataFrames, as well.\n",
        "\n",
        "ifnull \n",
        "- select the second value if the first is null, and defaults to the first.  \n",
        "\n",
        "nullif\n",
        "- returns null if the two values are equal or else returns the second if they are not.\n",
        "\n",
        "nvl \n",
        "- returns the second value if the first is null, but defaults to the first\n",
        "\n",
        "nvl2 \n",
        "- returns the second value if the first is not null; otherwise, it will return the last specified value"
      ]
    },
    {
      "cell_type": "code",
      "metadata": {
        "id": "M4r59sSOTfSH",
        "outputId": "c2f0f874-3c57-4c14-ac3c-676caf4a097f"
      },
      "source": [
        "spark.sql('''\n",
        "SELECT\n",
        "ifnull(null, 'return_value'),\n",
        "nullif('value', 'value'),\n",
        "nvl(null, 'return_value'),\n",
        "nvl2('not_null', 'return_value', \"else_value\")\n",
        "FROM dfTable LIMIT 1\n",
        "''').show(5)"
      ],
      "execution_count": null,
      "outputs": [
        {
          "name": "stdout",
          "output_type": "stream",
          "text": [
            "+----------------------------+------------------------+-------------------------+----------------------------------------------+\n",
            "|ifnull(NULL, 'return_value')|nullif('value', 'value')|nvl(NULL, 'return_value')|nvl2('not_null', 'return_value', 'else_value')|\n",
            "+----------------------------+------------------------+-------------------------+----------------------------------------------+\n",
            "|                return_value|                    null|             return_value|                                  return_value|\n",
            "+----------------------------+------------------------+-------------------------+----------------------------------------------+\n",
            "\n"
          ]
        }
      ]
    },
    {
      "cell_type": "markdown",
      "metadata": {
        "id": "DCZxMv_NTfSH"
      },
      "source": [
        "#### Drop na\n",
        "The simplest function is drop, which removes rows that contain nulls. The default is to drop any\n",
        "row in which any value is null:"
      ]
    },
    {
      "cell_type": "code",
      "metadata": {
        "colab": {
          "base_uri": "https://localhost:8080/"
        },
        "id": "F8xBTKclTfSH",
        "outputId": "1a17ada6-de89-412f-d227-e9a51a3fbbb1"
      },
      "source": [
        "# original shape\n",
        "print((df.count(), len(df.columns)))"
      ],
      "execution_count": null,
      "outputs": [
        {
          "output_type": "stream",
          "name": "stdout",
          "text": [
            "(3108, 8)\n"
          ]
        }
      ]
    },
    {
      "cell_type": "code",
      "metadata": {
        "colab": {
          "base_uri": "https://localhost:8080/"
        },
        "id": "fEp4m_sVTfSI",
        "outputId": "a485de48-d0a4-42bc-bb70-313f2953cb2b"
      },
      "source": [
        "# df.na.drop()\n",
        "print((df.na.drop().count(), len(df.na.drop().columns)))"
      ],
      "execution_count": null,
      "outputs": [
        {
          "output_type": "stream",
          "name": "stdout",
          "text": [
            "(1968, 8)\n"
          ]
        }
      ]
    },
    {
      "cell_type": "markdown",
      "metadata": {
        "id": "8TLiQgbVTfSI"
      },
      "source": [
        "Using “all” drops the row only if all values are null or NaN for that row:"
      ]
    },
    {
      "cell_type": "code",
      "metadata": {
        "colab": {
          "base_uri": "https://localhost:8080/"
        },
        "id": "0W9Wfo_UTfSI",
        "outputId": "7ee26e9b-879e-42a9-8343-8d88479a8eda"
      },
      "source": [
        "print((df.na.drop('all').count(), len(df.na.drop('all').columns)))"
      ],
      "execution_count": null,
      "outputs": [
        {
          "output_type": "stream",
          "name": "stdout",
          "text": [
            "(3108, 8)\n"
          ]
        }
      ]
    },
    {
      "cell_type": "code",
      "metadata": {
        "colab": {
          "base_uri": "https://localhost:8080/"
        },
        "id": "zDzI_7BiTNDh",
        "outputId": "666712e0-1a8c-4074-b8ab-05b2b6189f99"
      },
      "source": [
        "from pyspark.sql import Row\n",
        "\n",
        "na_row  = spark.sql(\"select NULL,NULL,NULL,NULL,NULL,NULL,NULL,NULL\")\n",
        "na_row.show()\n",
        "# add null rows\n",
        "print((df.unionAll(na_row).count(), len(df.unionAll(na_row).columns)))\n",
        "# drop only all NULL\n",
        "print((df.unionAll(na_row).na.drop('all').count(), len(df.unionAll(na_row).na.drop('all').columns)))"
      ],
      "execution_count": null,
      "outputs": [
        {
          "output_type": "stream",
          "name": "stdout",
          "text": [
            "+----+----+----+----+----+----+----+----+\n",
            "|NULL|NULL|NULL|NULL|NULL|NULL|NULL|NULL|\n",
            "+----+----+----+----+----+----+----+----+\n",
            "|null|null|null|null|null|null|null|null|\n",
            "+----+----+----+----+----+----+----+----+\n",
            "\n",
            "(3109, 8)\n",
            "(3108, 8)\n"
          ]
        }
      ]
    },
    {
      "cell_type": "markdown",
      "metadata": {
        "id": "wPBrzcP-TfSI"
      },
      "source": [
        "#### Fill na\n",
        "For example, to fill all null values in columns of type String, you might specify the following"
      ]
    },
    {
      "cell_type": "code",
      "metadata": {
        "id": "pLmeVLhnTfSJ",
        "outputId": "bbec74d5-ed8f-46e2-95d8-78e1fe5d3d8d"
      },
      "source": [
        "df.na.fill(\"All Null values become this string\")"
      ],
      "execution_count": null,
      "outputs": [
        {
          "data": {
            "text/plain": [
              "DataFrame[InvoiceNo: string, StockCode: string, Description: string, Quantity: int, InvoiceDate: timestamp, UnitPrice: double, CustomerID: double, Country: string]"
            ]
          },
          "execution_count": 226,
          "metadata": {},
          "output_type": "execute_result"
        }
      ]
    },
    {
      "cell_type": "markdown",
      "metadata": {
        "id": "0R9VdsjHTfSJ"
      },
      "source": [
        "To specify columns, we just pass in an array of column names\n",
        "like we did in the previous example:"
      ]
    },
    {
      "cell_type": "code",
      "metadata": {
        "id": "VQ8HlWdkTfSJ",
        "outputId": "3ee43cf5-2b24-4707-eca0-90070b4faff3"
      },
      "source": [
        "df.na.fill(0, subset=[\"StockCode\", \"InvoiceNo\"])"
      ],
      "execution_count": null,
      "outputs": [
        {
          "data": {
            "text/plain": [
              "DataFrame[InvoiceNo: string, StockCode: string, Description: string, Quantity: int, InvoiceDate: timestamp, UnitPrice: double, CustomerID: double, Country: string]"
            ]
          },
          "execution_count": 232,
          "metadata": {},
          "output_type": "execute_result"
        }
      ]
    },
    {
      "cell_type": "markdown",
      "metadata": {
        "id": "ohaFVr6QTfSJ"
      },
      "source": [
        "#### Replace\n",
        "Value and replacement must be same type"
      ]
    },
    {
      "cell_type": "code",
      "metadata": {
        "id": "NYF76Gr0TfSJ",
        "outputId": "bd9db969-2e39-431e-8883-93fe2bf85d13"
      },
      "source": [
        "cDf.show()"
      ],
      "execution_count": null,
      "outputs": [
        {
          "name": "stdout",
          "output_type": "stream",
          "text": [
            "+----+----+-----+\n",
            "|   a|   b|    c|\n",
            "+----+----+-----+\n",
            "|null|null|James|\n",
            "|   8|   5| Peak|\n",
            "|null|   2| High|\n",
            "+----+----+-----+\n",
            "\n"
          ]
        }
      ]
    },
    {
      "cell_type": "code",
      "metadata": {
        "id": "Hc1b5jkJTfSJ",
        "outputId": "d4408830-2daf-4d8a-b4ef-621b4d998aca"
      },
      "source": [
        "# replace Peak with New and High with Maru only in the 'c' column\n",
        "cDf.na.replace(['Peak','High'],['New','Maru'],'c').show()"
      ],
      "execution_count": null,
      "outputs": [
        {
          "name": "stdout",
          "output_type": "stream",
          "text": [
            "+----+----+-----+\n",
            "|   a|   b|    c|\n",
            "+----+----+-----+\n",
            "|null|null|James|\n",
            "|   8|   5|  New|\n",
            "|null|   2| Maru|\n",
            "+----+----+-----+\n",
            "\n"
          ]
        }
      ]
    },
    {
      "cell_type": "markdown",
      "metadata": {
        "id": "PJCxXy3YTfSK"
      },
      "source": [
        "## Structs, Arrays, Maps(Dictionary)"
      ]
    },
    {
      "cell_type": "markdown",
      "metadata": {
        "id": "m2STqsRUTfSK"
      },
      "source": [
        "#### Structs (DataFrame within DataFrame)\n",
        "We can create a struct by wrapping a set of columns in parenthesis in a query"
      ]
    },
    {
      "cell_type": "code",
      "metadata": {
        "colab": {
          "base_uri": "https://localhost:8080/"
        },
        "id": "Q2o_bpWOTfSK",
        "outputId": "789d86dd-2b10-4c05-8c91-4266c08ad3c2"
      },
      "source": [
        "from pyspark.sql.functions import struct\n",
        "complexDF = df.select(struct(\"Description\", \"InvoiceNo\").alias(\"complex\"), col('Quantity'))\n",
        "complexDF.createOrReplaceTempView(\"complexDF\")\n",
        "complexDF.show(5,False)"
      ],
      "execution_count": 157,
      "outputs": [
        {
          "output_type": "stream",
          "name": "stdout",
          "text": [
            "+---------------------------------------------+--------+\n",
            "|complex                                      |Quantity|\n",
            "+---------------------------------------------+--------+\n",
            "|[WHITE HANGING HEART T-LIGHT HOLDER, 536365] |6       |\n",
            "|[WHITE METAL LANTERN, 536365]                |6       |\n",
            "|[CREAM CUPID HEARTS COAT HANGER, 536365]     |8       |\n",
            "|[KNITTED UNION FLAG HOT WATER BOTTLE, 536365]|6       |\n",
            "|[RED WOOLLY HOTTIE WHITE HEART., 536365]     |6       |\n",
            "+---------------------------------------------+--------+\n",
            "only showing top 5 rows\n",
            "\n"
          ]
        }
      ]
    },
    {
      "cell_type": "markdown",
      "metadata": {
        "id": "SpvGyFr1TfSK"
      },
      "source": [
        "We can query it just as we might another\n",
        "DataFrame, the only difference is that we use a dot syntax to do so, or the column method\n",
        "getField:"
      ]
    },
    {
      "cell_type": "code",
      "metadata": {
        "colab": {
          "base_uri": "https://localhost:8080/"
        },
        "id": "2zryp4-KTfSL",
        "outputId": "060fd975-02d6-4ff2-a48b-d491f7c6034f"
      },
      "source": [
        "complexDF.select(\"complex.Description\",'complex.InvoiceNo','Quantity').show(5,False)"
      ],
      "execution_count": 158,
      "outputs": [
        {
          "output_type": "stream",
          "name": "stdout",
          "text": [
            "+-----------------------------------+---------+--------+\n",
            "|Description                        |InvoiceNo|Quantity|\n",
            "+-----------------------------------+---------+--------+\n",
            "|WHITE HANGING HEART T-LIGHT HOLDER |536365   |6       |\n",
            "|WHITE METAL LANTERN                |536365   |6       |\n",
            "|CREAM CUPID HEARTS COAT HANGER     |536365   |8       |\n",
            "|KNITTED UNION FLAG HOT WATER BOTTLE|536365   |6       |\n",
            "|RED WOOLLY HOTTIE WHITE HEART.     |536365   |6       |\n",
            "+-----------------------------------+---------+--------+\n",
            "only showing top 5 rows\n",
            "\n"
          ]
        }
      ]
    },
    {
      "cell_type": "markdown",
      "metadata": {
        "id": "U6wp1gVjTfSL"
      },
      "source": [
        "We can also query all values in the struct by using *. This brings up all the columns to the toplevel\n",
        "DataFrame:"
      ]
    },
    {
      "cell_type": "code",
      "metadata": {
        "id": "BXImDrL2TfSM",
        "outputId": "c0d68f31-9bbc-4cd4-d60c-85ba83117905"
      },
      "source": [
        "complexDF.select(\"complex.*\",'*').show(3,False)"
      ],
      "execution_count": null,
      "outputs": [
        {
          "name": "stdout",
          "output_type": "stream",
          "text": [
            "+----------------------------------+---------+--------------------------------------------+\n",
            "|Description                       |InvoiceNo|complex                                     |\n",
            "+----------------------------------+---------+--------------------------------------------+\n",
            "|WHITE HANGING HEART T-LIGHT HOLDER|536365   |[WHITE HANGING HEART T-LIGHT HOLDER, 536365]|\n",
            "|WHITE METAL LANTERN               |536365   |[WHITE METAL LANTERN, 536365]               |\n",
            "|CREAM CUPID HEARTS COAT HANGER    |536365   |[CREAM CUPID HEARTS COAT HANGER, 536365]    |\n",
            "+----------------------------------+---------+--------------------------------------------+\n",
            "only showing top 3 rows\n",
            "\n"
          ]
        }
      ]
    },
    {
      "cell_type": "code",
      "metadata": {
        "id": "I0MPBzfzTfSM",
        "outputId": "51aed439-688f-4678-879a-a935cd471633"
      },
      "source": [
        "complexDF.select(\"complex.*\",'*').printSchema()"
      ],
      "execution_count": null,
      "outputs": [
        {
          "name": "stdout",
          "output_type": "stream",
          "text": [
            "root\n",
            " |-- Description: string (nullable = true)\n",
            " |-- InvoiceNo: string (nullable = true)\n",
            " |-- complex: struct (nullable = false)\n",
            " |    |-- Description: string (nullable = true)\n",
            " |    |-- InvoiceNo: string (nullable = true)\n",
            "\n"
          ]
        }
      ]
    },
    {
      "cell_type": "markdown",
      "metadata": {
        "id": "tmwkwa8MTfSM"
      },
      "source": [
        "#### Arrays\n",
        "Start by convert column of string in the array of words in column"
      ]
    },
    {
      "cell_type": "code",
      "metadata": {
        "id": "SIE6z2K0TfSM",
        "outputId": "6336ef28-b095-4c6d-c36a-70f109af3a11"
      },
      "source": [
        "from pyspark.sql.functions import split\n",
        "# split description by \" \"\n",
        "tmp = df.select(split(col('Description'),\" \").alias('Des_split'))\n",
        "tmp.show(3,False)"
      ],
      "execution_count": null,
      "outputs": [
        {
          "name": "stdout",
          "output_type": "stream",
          "text": [
            "+----------------------------------------+\n",
            "|Des_split                               |\n",
            "+----------------------------------------+\n",
            "|[WHITE, HANGING, HEART, T-LIGHT, HOLDER]|\n",
            "|[WHITE, METAL, LANTERN]                 |\n",
            "|[CREAM, CUPID, HEARTS, COAT, HANGER]    |\n",
            "+----------------------------------------+\n",
            "only showing top 3 rows\n",
            "\n"
          ]
        }
      ]
    },
    {
      "cell_type": "code",
      "metadata": {
        "id": "9oEKx8_TTfSN",
        "outputId": "781bcafa-857b-4189-9c25-bb4ff04f31f4"
      },
      "source": [
        "tmp.selectExpr('Des_split[0]').show(3)"
      ],
      "execution_count": null,
      "outputs": [
        {
          "name": "stdout",
          "output_type": "stream",
          "text": [
            "+------------+\n",
            "|Des_split[0]|\n",
            "+------------+\n",
            "|       WHITE|\n",
            "|       WHITE|\n",
            "|       CREAM|\n",
            "+------------+\n",
            "only showing top 3 rows\n",
            "\n"
          ]
        }
      ]
    },
    {
      "cell_type": "markdown",
      "metadata": {
        "id": "sj4xqKA_TfSN"
      },
      "source": [
        "##### Array Length\n",
        "determine the array’s length by querying for its size"
      ]
    },
    {
      "cell_type": "code",
      "metadata": {
        "id": "oc5LuoHdTfSN",
        "outputId": "4edbf55d-ce7c-44cd-8a9e-d147d3e574b6"
      },
      "source": [
        "df.select(F.size(split(col('Description'),' ')).alias('Number_of_words(len)')).show(3)"
      ],
      "execution_count": null,
      "outputs": [
        {
          "name": "stdout",
          "output_type": "stream",
          "text": [
            "+--------------------+\n",
            "|Number_of_words(len)|\n",
            "+--------------------+\n",
            "|                   5|\n",
            "|                   3|\n",
            "|                   5|\n",
            "+--------------------+\n",
            "only showing top 3 rows\n",
            "\n"
          ]
        }
      ]
    },
    {
      "cell_type": "markdown",
      "metadata": {
        "id": "-8vzoO7uTfSN"
      },
      "source": [
        "##### array_contains\n",
        "see whether this array contains a value:"
      ]
    },
    {
      "cell_type": "code",
      "metadata": {
        "id": "M99bmxNwTfSN",
        "outputId": "723f2181-8bf3-4195-d321-9fc04b59f96d"
      },
      "source": [
        "df.select(pyf.array_contains(split(col('Description'),' '),'CREAM')).show(3)"
      ],
      "execution_count": null,
      "outputs": [
        {
          "name": "stdout",
          "output_type": "stream",
          "text": [
            "+--------------------------------------------+\n",
            "|array_contains(split(Description,  ), CREAM)|\n",
            "+--------------------------------------------+\n",
            "|                                       false|\n",
            "|                                       false|\n",
            "|                                        true|\n",
            "+--------------------------------------------+\n",
            "only showing top 3 rows\n",
            "\n"
          ]
        }
      ]
    },
    {
      "cell_type": "markdown",
      "metadata": {
        "id": "m3-R3hYuTfSN"
      },
      "source": [
        "##### Explode \n",
        "To convert a complex type into a set of rows\n",
        "(one per value in our array), we need to use the explode function.\n",
        "The explode function takes a column that consists of arrays and creates one row (with the rest of\n",
        "the values duplicated) per value in the array"
      ]
    },
    {
      "cell_type": "code",
      "metadata": {
        "id": "a5soxSi4TfSN",
        "outputId": "e7902ca8-95d2-4761-f512-ab286b9a5bd2"
      },
      "source": [
        "from pyspark.sql.functions import split, explode\n",
        "df.withColumn(\"splitted\", split(col(\"Description\"), \" \"))\\\n",
        ".withColumn(\"exploded\", explode(col(\"splitted\")))\\\n",
        ".select(\"Description\", \"InvoiceNo\", \"exploded\").show(5,False)"
      ],
      "execution_count": null,
      "outputs": [
        {
          "name": "stdout",
          "output_type": "stream",
          "text": [
            "+----------------------------------+---------+--------+\n",
            "|Description                       |InvoiceNo|exploded|\n",
            "+----------------------------------+---------+--------+\n",
            "|WHITE HANGING HEART T-LIGHT HOLDER|536365   |WHITE   |\n",
            "|WHITE HANGING HEART T-LIGHT HOLDER|536365   |HANGING |\n",
            "|WHITE HANGING HEART T-LIGHT HOLDER|536365   |HEART   |\n",
            "|WHITE HANGING HEART T-LIGHT HOLDER|536365   |T-LIGHT |\n",
            "|WHITE HANGING HEART T-LIGHT HOLDER|536365   |HOLDER  |\n",
            "+----------------------------------+---------+--------+\n",
            "only showing top 5 rows\n",
            "\n"
          ]
        }
      ]
    },
    {
      "cell_type": "markdown",
      "metadata": {
        "id": "o4nTor3KTfSO"
      },
      "source": [
        "##### Map\n",
        "map function and key-value pairs of columns. You then can select\n",
        "them just like you might select from an array"
      ]
    },
    {
      "cell_type": "code",
      "metadata": {
        "id": "ek0KRnKSTfSO",
        "outputId": "53d1d1cf-f955-4cf6-8a64-18625f50f923"
      },
      "source": [
        "from pyspark.sql.functions import create_map\n",
        "df.select(create_map(col('Description'),col('InvoiceNo')).alias('Complex_map')).show(3,False)"
      ],
      "execution_count": null,
      "outputs": [
        {
          "name": "stdout",
          "output_type": "stream",
          "text": [
            "+----------------------------------------------+\n",
            "|Complex_map                                   |\n",
            "+----------------------------------------------+\n",
            "|[WHITE HANGING HEART T-LIGHT HOLDER -> 536365]|\n",
            "|[WHITE METAL LANTERN -> 536365]               |\n",
            "|[CREAM CUPID HEARTS COAT HANGER -> 536365]    |\n",
            "+----------------------------------------------+\n",
            "only showing top 3 rows\n",
            "\n"
          ]
        }
      ]
    },
    {
      "cell_type": "markdown",
      "metadata": {
        "id": "YXMzVrqITfSO"
      },
      "source": [
        "query them by using the proper key. A missing key returns null:"
      ]
    },
    {
      "cell_type": "code",
      "metadata": {
        "id": "D68JPk0PTfSO",
        "outputId": "67b42ad4-f6ce-4ec6-b9b1-58642711bd9c"
      },
      "source": [
        "df.select(create_map(col('Description'),col('InvoiceNo')).alias('Complex_map'))\\\n",
        ".selectExpr(\"Complex_map['WHITE METAL LANTERN']\").show(3)"
      ],
      "execution_count": null,
      "outputs": [
        {
          "name": "stdout",
          "output_type": "stream",
          "text": [
            "+--------------------------------+\n",
            "|Complex_map[WHITE METAL LANTERN]|\n",
            "+--------------------------------+\n",
            "|                            null|\n",
            "|                          536365|\n",
            "|                            null|\n",
            "+--------------------------------+\n",
            "only showing top 3 rows\n",
            "\n"
          ]
        }
      ]
    },
    {
      "cell_type": "markdown",
      "metadata": {
        "id": "NJPUb8RXTfSO"
      },
      "source": [
        "### Working with JSON"
      ]
    },
    {
      "cell_type": "markdown",
      "metadata": {
        "id": "dEfkljLeTfSO"
      },
      "source": [
        "begin by creating a JSON\n",
        "column:"
      ]
    },
    {
      "cell_type": "code",
      "metadata": {
        "id": "pactTH3PTfSO",
        "outputId": "c8c13eec-acc0-4feb-dfd3-ab1f9659aebf"
      },
      "source": [
        "jsonDF = spark.range(1).selectExpr(\"\"\"\n",
        "                        '{\"myJSONKey\" : {\"myJSONValue\" : [1, 2, 3]}}' as jsonString\"\"\")\n",
        "jsonDF.show(1,False)"
      ],
      "execution_count": null,
      "outputs": [
        {
          "name": "stdout",
          "output_type": "stream",
          "text": [
            "+-------------------------------------------+\n",
            "|jsonString                                 |\n",
            "+-------------------------------------------+\n",
            "|{\"myJSONKey\" : {\"myJSONValue\" : [1, 2, 3]}}|\n",
            "+-------------------------------------------+\n",
            "\n"
          ]
        }
      ]
    },
    {
      "cell_type": "markdown",
      "metadata": {
        "id": "A7JtdZWvTfSP"
      },
      "source": [
        "Use get_json_object to inline query a JSON object  \n",
        "Use json_tuple if this object has only one level of nesting:"
      ]
    },
    {
      "cell_type": "code",
      "metadata": {
        "id": "ZfhYra7PTfSP",
        "outputId": "9b21c0f4-e227-427f-d8c4-50fb9a36404b"
      },
      "source": [
        "from pyspark.sql.functions import get_json_object, json_tuple\n",
        "\n",
        "jsonDF.select(\n",
        "    get_json_object(col(\"jsonString\"), \"$.myJSONKey.myJSONValue[1]\").alias('Column'),\n",
        "    json_tuple(col(\"jsonString\"), \"myJSONKey\")).show(2,False)"
      ],
      "execution_count": null,
      "outputs": [
        {
          "name": "stdout",
          "output_type": "stream",
          "text": [
            "+------+-----------------------+\n",
            "|Column|c0                     |\n",
            "+------+-----------------------+\n",
            "|2     |{\"myJSONValue\":[1,2,3]}|\n",
            "+------+-----------------------+\n",
            "\n"
          ]
        }
      ]
    },
    {
      "cell_type": "markdown",
      "metadata": {
        "id": "xGokUaEzTfSP"
      },
      "source": [
        "turn a StructType into a JSON string by using the to_json function"
      ]
    },
    {
      "cell_type": "code",
      "metadata": {
        "id": "KzkU8KUwTfSP",
        "outputId": "bf164406-033b-4004-f10f-8c8e9e12f72d"
      },
      "source": [
        "from pyspark.sql.functions import to_json\n",
        "new_json = df.selectExpr(\"(InvoiceNo, Description) as myStruct\")\\\n",
        ".select(to_json(col(\"myStruct\")).alias('newJSON'))\n",
        "\n",
        "new_json.show(3,False)"
      ],
      "execution_count": null,
      "outputs": [
        {
          "name": "stdout",
          "output_type": "stream",
          "text": [
            "+-------------------------------------------------------------------------+\n",
            "|newJSON                                                                  |\n",
            "+-------------------------------------------------------------------------+\n",
            "|{\"InvoiceNo\":\"536365\",\"Description\":\"WHITE HANGING HEART T-LIGHT HOLDER\"}|\n",
            "|{\"InvoiceNo\":\"536365\",\"Description\":\"WHITE METAL LANTERN\"}               |\n",
            "|{\"InvoiceNo\":\"536365\",\"Description\":\"CREAM CUPID HEARTS COAT HANGER\"}    |\n",
            "+-------------------------------------------------------------------------+\n",
            "only showing top 3 rows\n",
            "\n"
          ]
        }
      ]
    },
    {
      "cell_type": "markdown",
      "metadata": {
        "id": "IgHJOK0UTfSP"
      },
      "source": [
        "This function also accepts a dictionary (map) of parameters that are the same as the JSON data\n",
        "source. You can use the from_json function to parse this (or other JSON data) back in. This\n",
        "naturally requires you to specify a schema, and optionally you can specify a map of options, as\n",
        "well:"
      ]
    },
    {
      "cell_type": "code",
      "metadata": {
        "id": "T1egdtp6TfSQ",
        "outputId": "753c9d66-5205-4e27-9dd2-d9efafd75ed3"
      },
      "source": [
        "from pyspark.sql.functions import from_json\n",
        "from pyspark.sql.types import *\n",
        "\n",
        "parseSchema = StructType((\n",
        "    StructField(\"InvoiceNo\",StringType(),True),\n",
        "    StructField(\"Description\",StringType(),True)))\n",
        "\n",
        "new_json.select(from_json(col(\"newJSON\"), parseSchema), col(\"newJSON\")).show(2,False)"
      ],
      "execution_count": null,
      "outputs": [
        {
          "name": "stdout",
          "output_type": "stream",
          "text": [
            "+--------------------------------------------+-------------------------------------------------------------------------+\n",
            "|jsontostructs(newJSON)                      |newJSON                                                                  |\n",
            "+--------------------------------------------+-------------------------------------------------------------------------+\n",
            "|[536365, WHITE HANGING HEART T-LIGHT HOLDER]|{\"InvoiceNo\":\"536365\",\"Description\":\"WHITE HANGING HEART T-LIGHT HOLDER\"}|\n",
            "|[536365, WHITE METAL LANTERN]               |{\"InvoiceNo\":\"536365\",\"Description\":\"WHITE METAL LANTERN\"}               |\n",
            "+--------------------------------------------+-------------------------------------------------------------------------+\n",
            "only showing top 2 rows\n",
            "\n"
          ]
        }
      ]
    },
    {
      "cell_type": "markdown",
      "metadata": {
        "id": "u78ZOXCRTfSQ"
      },
      "source": [
        "###  User-Defined Functions UDF\n",
        "UDFs write your own custom\n",
        "transformations using Python.  \n",
        "UDFs can take and return\n",
        "one or more columns as input."
      ]
    },
    {
      "cell_type": "markdown",
      "metadata": {
        "id": "ehtWkjsnTfSQ"
      },
      "source": [
        "The first step is the actual function. We’ll create a simple one for this example. Let’s write a\n",
        "power3 function that takes a number and raises it to a power of three:"
      ]
    },
    {
      "cell_type": "code",
      "metadata": {
        "id": "JGwdPkcOTfSQ",
        "outputId": "30ddd2f7-0684-41f8-d0dc-f275e84a4bf9"
      },
      "source": [
        "udfExampleDF = spark.range(5).toDF('num')\n",
        "def power3(double_value):\n",
        "    return double_value**3\n",
        "power3(2.0)"
      ],
      "execution_count": null,
      "outputs": [
        {
          "data": {
            "text/plain": [
              "8.0"
            ]
          },
          "execution_count": 338,
          "metadata": {},
          "output_type": "execute_result"
        }
      ]
    },
    {
      "cell_type": "markdown",
      "metadata": {
        "id": "ehb8Z8pKTfSQ"
      },
      "source": [
        "Then register the UDFs with Spark to use it on all of our worker machines."
      ]
    },
    {
      "cell_type": "code",
      "metadata": {
        "id": "HI_WSu5zTfSQ"
      },
      "source": [
        "from pyspark.sql.functions import udf\n",
        "power3udf = udf(power3)"
      ],
      "execution_count": null,
      "outputs": []
    },
    {
      "cell_type": "markdown",
      "metadata": {
        "id": "gEAYZkSXTfSQ"
      },
      "source": [
        "Then apply function on column in Dataframe"
      ]
    },
    {
      "cell_type": "code",
      "metadata": {
        "id": "XMft6MybTfSR",
        "outputId": "5b8a9b99-1135-4cd9-9cf0-e06449652463"
      },
      "source": [
        "udfExampleDF.select(power3udf(col('num'))).show(3)"
      ],
      "execution_count": null,
      "outputs": [
        {
          "name": "stdout",
          "output_type": "stream",
          "text": [
            "+-----------+\n",
            "|power3(num)|\n",
            "+-----------+\n",
            "|          0|\n",
            "|          1|\n",
            "|          8|\n",
            "+-----------+\n",
            "only showing top 3 rows\n",
            "\n"
          ]
        }
      ]
    },
    {
      "cell_type": "markdown",
      "metadata": {
        "id": "bJaJrFpwTfSR"
      },
      "source": [
        "Register function with Spark SQL to be able to use in expression or Spark SQL"
      ]
    },
    {
      "cell_type": "code",
      "metadata": {
        "id": "ZGmZLHs2TfSR",
        "outputId": "85b108fc-afe2-4787-a8cb-4c67a5f7b39e"
      },
      "source": [
        "# register function power3 as 'power3'\n",
        "spark.udf.register('power3',power3)"
      ],
      "execution_count": null,
      "outputs": [
        {
          "data": {
            "text/plain": [
              "<function __main__.power3(double_value)>"
            ]
          },
          "execution_count": 346,
          "metadata": {},
          "output_type": "execute_result"
        }
      ]
    },
    {
      "cell_type": "code",
      "metadata": {
        "id": "vMKqUi6cTfSR",
        "outputId": "f70bb7c9-46b1-4782-b019-f40c1d661b86"
      },
      "source": [
        "# use 'power3' in expression\n",
        "udfExampleDF.selectExpr(\"power3(num)\").show(2)"
      ],
      "execution_count": null,
      "outputs": [
        {
          "name": "stdout",
          "output_type": "stream",
          "text": [
            "+-----------+\n",
            "|power3(num)|\n",
            "+-----------+\n",
            "|          0|\n",
            "|          1|\n",
            "+-----------+\n",
            "only showing top 2 rows\n",
            "\n"
          ]
        }
      ]
    },
    {
      "cell_type": "code",
      "metadata": {
        "id": "e3q8sJLYTfSR",
        "outputId": "23410456-8e04-4327-fe3e-eacff983b450"
      },
      "source": [
        "udfExampleDF.createOrReplaceTempView('udfExampleDF')\n",
        "# use 'power3' in Spark SQL\n",
        "spark.sql(\"\"\"\n",
        "        SELECT *, power3(num) as POWER3\n",
        "        FROM udfExampleDF\n",
        "\"\"\").show()"
      ],
      "execution_count": null,
      "outputs": [
        {
          "name": "stdout",
          "output_type": "stream",
          "text": [
            "+---+-----------+\n",
            "|num|power3(num)|\n",
            "+---+-----------+\n",
            "|  0|          0|\n",
            "|  1|          1|\n",
            "|  2|          8|\n",
            "|  3|         27|\n",
            "|  4|         64|\n",
            "+---+-----------+\n",
            "\n"
          ]
        }
      ]
    },
    {
      "cell_type": "markdown",
      "metadata": {
        "id": "Tg3_dBatTfSR"
      },
      "source": [
        "It is best practice to define the return type\n",
        "of Python function when you define it because Spark type does not align exactly with Python’s types\n",
        "\n",
        "If you specify the type that doesn’t align with the actual type returned by the function, Spark will\n",
        "not throw an error but will just return null to designate a failure."
      ]
    },
    {
      "cell_type": "code",
      "metadata": {
        "id": "odWekEIzTfSS",
        "outputId": "be07af6d-e64f-49fd-843a-7c86c4597e77"
      },
      "source": [
        "# tell function to return in Double type\n",
        "from pyspark.sql.types import *\n",
        "spark.udf.register('power3py',power3,DoubleType()) # specify double type when register function\n",
        "# use function in expression\n",
        "udfExampleDF.selectExpr(\"power3py(num)\").show()\n",
        "# since the result are integer DoubleType(float) will split out null. This should be Longtype or fixed with cast return in function to float type"
      ],
      "execution_count": null,
      "outputs": [
        {
          "name": "stdout",
          "output_type": "stream",
          "text": [
            "+-------------+\n",
            "|power3py(num)|\n",
            "+-------------+\n",
            "|         null|\n",
            "|         null|\n",
            "|         null|\n",
            "|         null|\n",
            "|         null|\n",
            "+-------------+\n",
            "\n"
          ]
        }
      ]
    },
    {
      "cell_type": "markdown",
      "metadata": {
        "id": "wPjz9nmvYhwX"
      },
      "source": [
        "### Pandas UDFs"
      ]
    },
    {
      "cell_type": "code",
      "metadata": {
        "colab": {
          "base_uri": "https://localhost:8080/"
        },
        "id": "snqOxo8fYj9R",
        "outputId": "7361d47c-d116-428c-e39a-a6b4a5b3313f"
      },
      "source": [
        "import pandas as pd\n",
        "from pyspark.sql.functions import pandas_udf\n",
        "\n",
        "@pandas_udf('long')\n",
        "def panda_plus(v):\n",
        "    return v + 1\n",
        "\n",
        "df = spark.range(3)\n",
        "df.withColumn('plus_one', panda_plus('id')).show()"
      ],
      "execution_count": 330,
      "outputs": [
        {
          "output_type": "stream",
          "name": "stdout",
          "text": [
            "+---+--------+\n",
            "| id|plus_one|\n",
            "+---+--------+\n",
            "|  0|       1|\n",
            "|  1|       2|\n",
            "|  2|       3|\n",
            "+---+--------+\n",
            "\n"
          ]
        }
      ]
    },
    {
      "cell_type": "code",
      "metadata": {
        "colab": {
          "base_uri": "https://localhost:8080/"
        },
        "id": "0w_IPTGRYkcW",
        "outputId": "630a7d88-8281-476e-ddbd-bb517f54ad10"
      },
      "source": [
        "df1 = spark.createDataFrame(\n",
        "    [(1201, 1, 1.0), (1201, 2, 2.0), (1202, 1, 3.0), (1202, 2, 4.0)],\n",
        "    (\"time\", \"id\", \"v1\"))\n",
        "df2 = spark.createDataFrame(\n",
        "    [(1201, 1, \"x\"), (1201, 2, \"y\")], (\"time\", \"id\", \"v2\"))\n",
        "\n",
        "def asof_join(left: pd.DataFrame, right: pd.DataFrame) -> pd.DataFrame:\n",
        "    return pd.merge_asof(left, right, on=\"time\", by=\"id\")\n",
        "\n",
        "df1.groupby(\"id\").cogroup(\n",
        "    df2.groupby(\"id\")\n",
        ").applyInPandas(asof_join, \"time int, id int, v1 double, v2 string\").show()"
      ],
      "execution_count": 334,
      "outputs": [
        {
          "output_type": "stream",
          "name": "stdout",
          "text": [
            "+----+---+---+---+\n",
            "|time| id| v1| v2|\n",
            "+----+---+---+---+\n",
            "|1201|  1|1.0|  x|\n",
            "|1202|  1|3.0|  x|\n",
            "|1201|  2|2.0|  y|\n",
            "|1202|  2|4.0|  y|\n",
            "+----+---+---+---+\n",
            "\n"
          ]
        }
      ]
    },
    {
      "cell_type": "markdown",
      "metadata": {
        "id": "ayIhiEuDTfSS"
      },
      "source": [
        "# Part 7 Aggregations\n",
        "\n",
        "| Aggregation  | Description                                                                                                                                                                           |\n",
        "|--------------|---------------------------------------------------------------------------------------------------------------------------------------------------------------------------------------|\n",
        "| group by     | specify one or more keys as well as one or more aggregation functions to transform the value columns                                                                                  |\n",
        "| window       | specify one or more keys as well as one or more aggregation functions to transform the value columns. However, the rows input to the function are somehow related to the current row. |\n",
        "| grouping set | aggregate at multiple different levels. Grouping sets are available as a primitive in SQL and via rollups and cubes in DataFrames                                                     |\n",
        "| rollup       | specify one or more keys as well as one or more aggregation functions to transform the value columns, which will be summarized hierarchically.                                        |\n",
        "| cube         | specify one or more keys as well as one or more aggregation functions to transform the value columns, which will be summarized across all combinations of columns.                    |"
      ]
    },
    {
      "cell_type": "markdown",
      "metadata": {
        "id": "5M5PyznmTfSS"
      },
      "source": [
        "Let’s read, repartitioning the data to have far fewer\n",
        "partitions (because we know it’s a small volume of data stored in a lot of small files), and\n",
        "caching the results for rapid access"
      ]
    },
    {
      "cell_type": "code",
      "metadata": {
        "id": "y6dFDnljTfSS"
      },
      "source": [
        "datapath = 'Spark-The-Definitive-Guide/data/'\n",
        "df = spark.read.format('csv')\\\n",
        ".option('header','true')\\\n",
        ".option('inferShema','true')\\\n",
        ".load(datapath +\"retail-data/all/*.csv\")\\\n",
        ".coalesce(5)\n",
        "#This will put a copy of the intermediately transformed\n",
        "#dataset into memory, allowing us to repeatedly access it at much lower cost than running the\n",
        "# entire pipeline again.\n",
        "df.cache() \n",
        "df.createOrReplaceTempView(\"dfTable\")"
      ],
      "execution_count": 161,
      "outputs": []
    },
    {
      "cell_type": "markdown",
      "metadata": {
        "id": "ER_eJb9MTfSS"
      },
      "source": [
        "### Aggregation Functions\n",
        "Most functions are in pyspark.sql.function"
      ]
    },
    {
      "cell_type": "markdown",
      "metadata": {
        "id": "n4ABcaw6TfSS"
      },
      "source": [
        "#### Count\n"
      ]
    },
    {
      "cell_type": "code",
      "metadata": {
        "id": "-NC4KDWlTfSS",
        "outputId": "221abcb0-f014-459f-e161-485f5e307c6e"
      },
      "source": [
        "# Count as transformation\n",
        "from pyspark.sql.functions import count\n",
        "df.select(count(\"*\")).show()"
      ],
      "execution_count": null,
      "outputs": [
        {
          "name": "stdout",
          "output_type": "stream",
          "text": [
            "+--------+\n",
            "|count(1)|\n",
            "+--------+\n",
            "|  541909|\n",
            "+--------+\n",
            "\n"
          ]
        }
      ]
    },
    {
      "cell_type": "code",
      "metadata": {
        "id": "1vxPjYa5TfST",
        "colab": {
          "base_uri": "https://localhost:8080/"
        },
        "outputId": "323f9960-ea56-4360-95dc-14ff6bdf041f"
      },
      "source": [
        "# Count as action (return immediately) \n",
        "df.count()"
      ],
      "execution_count": 162,
      "outputs": [
        {
          "output_type": "execute_result",
          "data": {
            "text/plain": [
              "541909"
            ]
          },
          "metadata": {},
          "execution_count": 162
        }
      ]
    },
    {
      "cell_type": "markdown",
      "metadata": {
        "id": "Oc560XWITfST"
      },
      "source": [
        "Count distinct"
      ]
    },
    {
      "cell_type": "code",
      "metadata": {
        "id": "yRu7ipaKTfST",
        "colab": {
          "base_uri": "https://localhost:8080/"
        },
        "outputId": "5a477021-8058-40e0-aea9-54356f5223e1"
      },
      "source": [
        "from pyspark.sql.functions import countDistinct\n",
        "df.select(countDistinct(\"StockCode\")).show()"
      ],
      "execution_count": 163,
      "outputs": [
        {
          "output_type": "stream",
          "name": "stdout",
          "text": [
            "+-------------------------+\n",
            "|count(DISTINCT StockCode)|\n",
            "+-------------------------+\n",
            "|                     4070|\n",
            "+-------------------------+\n",
            "\n"
          ]
        }
      ]
    },
    {
      "cell_type": "markdown",
      "metadata": {
        "id": "wu-VqPC1TfST"
      },
      "source": [
        "When work with large datasets and the exact distinct count is irrelevant.  \n",
        "Use the approx_count_distinct function for an approximation to a certain degree of accuracy(less accuracy, faster performance)"
      ]
    },
    {
      "cell_type": "code",
      "metadata": {
        "id": "kKt7KbMiTfST",
        "colab": {
          "base_uri": "https://localhost:8080/"
        },
        "outputId": "5f716919-df8b-447b-91b1-2608fa16a9dd"
      },
      "source": [
        "from pyspark.sql.functions import approx_count_distinct\n",
        "df.select(approx_count_distinct('StockCode',rsd=0.04)).show() # less rsd, more accurate, more time to process"
      ],
      "execution_count": 164,
      "outputs": [
        {
          "output_type": "stream",
          "name": "stdout",
          "text": [
            "+--------------------------------+\n",
            "|approx_count_distinct(StockCode)|\n",
            "+--------------------------------+\n",
            "|                            4122|\n",
            "+--------------------------------+\n",
            "\n"
          ]
        }
      ]
    },
    {
      "cell_type": "markdown",
      "metadata": {
        "id": "OSdRiQUvTfST"
      },
      "source": [
        "#### First and last\n",
        "Get first and last value from DataFrame"
      ]
    },
    {
      "cell_type": "code",
      "metadata": {
        "id": "ELrrApWYTfST",
        "outputId": "4fc633fd-5b1e-45e2-bd57-67457b2a2682"
      },
      "source": [
        "from pyspark.sql.functions import first,last\n",
        "df.select(first('StockCode'),last('StockCode')).show()"
      ],
      "execution_count": null,
      "outputs": [
        {
          "name": "stdout",
          "output_type": "stream",
          "text": [
            "+-----------------------+----------------------+\n",
            "|first(StockCode, false)|last(StockCode, false)|\n",
            "+-----------------------+----------------------+\n",
            "|                 85123A|                 22138|\n",
            "+-----------------------+----------------------+\n",
            "\n"
          ]
        }
      ]
    },
    {
      "cell_type": "markdown",
      "metadata": {
        "id": "H5s9zzlETfST"
      },
      "source": [
        "#### Min and Max"
      ]
    },
    {
      "cell_type": "code",
      "metadata": {
        "id": "0YntohqATfSU",
        "outputId": "43f35629-290b-4b9e-e541-765becc46d7e"
      },
      "source": [
        "# from pyspark.sql.functions import min,max\n",
        "import pyspark.sql.functions as pyf\n",
        "\n",
        "df.select(pyf.min('Quantity'),pyf.max('Quantity')).show()"
      ],
      "execution_count": null,
      "outputs": [
        {
          "name": "stdout",
          "output_type": "stream",
          "text": [
            "+-------------+-------------+\n",
            "|min(Quantity)|max(Quantity)|\n",
            "+-------------+-------------+\n",
            "|           -1|          992|\n",
            "+-------------+-------------+\n",
            "\n"
          ]
        }
      ]
    },
    {
      "cell_type": "markdown",
      "metadata": {
        "id": "MvUhTKEaTfSU"
      },
      "source": [
        "#### Sum, sumDistinct\n"
      ]
    },
    {
      "cell_type": "code",
      "metadata": {
        "id": "QbrtEeBbTfSU",
        "outputId": "ba5566ec-a402-42a6-d937-b3b97125e3bc"
      },
      "source": [
        "df.select(pyf.sum('Quantity'), pyf.sumDistinct('Quantity')).show()"
      ],
      "execution_count": null,
      "outputs": [
        {
          "name": "stdout",
          "output_type": "stream",
          "text": [
            "+-------------+----------------------+\n",
            "|sum(Quantity)|sum(DISTINCT Quantity)|\n",
            "+-------------+----------------------+\n",
            "|    5176450.0|               29310.0|\n",
            "+-------------+----------------------+\n",
            "\n"
          ]
        }
      ]
    },
    {
      "cell_type": "markdown",
      "metadata": {
        "id": "fPvyEud_TfSU"
      },
      "source": [
        "#### avg(Average)\n",
        "Ways to compute average   \n",
        "1. sum(*)/count(*) \n",
        "2. avg(*)\n",
        "3. expr(mean(*)) #using sql functions 'mean' in expresssion"
      ]
    },
    {
      "cell_type": "code",
      "metadata": {
        "id": "8YcK_dcQTfSU",
        "outputId": "ef3ea63e-b45d-4fb7-dcf1-2fa4357696bc"
      },
      "source": [
        "df.select(\n",
        "    pyf.count(\"Quantity\").alias(\"total_transactions\"),\n",
        "    pyf.sum(\"Quantity\").alias(\"total_purchases\"),\n",
        "    pyf.avg(\"Quantity\").alias(\"avg_purchases\"),\n",
        "    expr(\"mean(Quantity)\").alias(\"mean_purchases\"))\\\n",
        ".selectExpr(\n",
        "    \"total_purchases/total_transactions\",\n",
        "    \"avg_purchases\",\n",
        "    \"mean_purchases\").show()"
      ],
      "execution_count": null,
      "outputs": [
        {
          "name": "stdout",
          "output_type": "stream",
          "text": [
            "+--------------------------------------+----------------+----------------+\n",
            "|(total_purchases / total_transactions)|   avg_purchases|  mean_purchases|\n",
            "+--------------------------------------+----------------+----------------+\n",
            "|                      9.55224954743324|9.55224954743324|9.55224954743324|\n",
            "+--------------------------------------+----------------+----------------+\n",
            "\n"
          ]
        }
      ]
    },
    {
      "cell_type": "markdown",
      "metadata": {
        "id": "nBZqbQ-FTfSU"
      },
      "source": [
        "#### Variance and Standard Deviation\n",
        "By default, Spark performs the formula for\n",
        "the sample standard deviation or variance if you use the $variance$ or $stddev$ functions.  \n",
        "You can also specify these explicitly or refer to the population standard deviation or variance:"
      ]
    },
    {
      "cell_type": "code",
      "metadata": {
        "id": "6ao-vRGMTfSU",
        "outputId": "953c0c7a-e885-49fe-f98e-63b526c25e6a"
      },
      "source": [
        "df.select(pyf.var_pop(\"Quantity\"), pyf.var_samp(\"Quantity\"), # sample statistic\n",
        "pyf.stddev_pop(\"Quantity\"), pyf.stddev_samp(\"Quantity\")).show()  # population statistic"
      ],
      "execution_count": null,
      "outputs": [
        {
          "name": "stdout",
          "output_type": "stream",
          "text": [
            "+-----------------+------------------+--------------------+---------------------+\n",
            "|var_pop(Quantity)|var_samp(Quantity)|stddev_pop(Quantity)|stddev_samp(Quantity)|\n",
            "+-----------------+------------------+--------------------+---------------------+\n",
            "|47559.30364660879| 47559.39140929848|  218.08095663447733|   218.08115785023355|\n",
            "+-----------------+------------------+--------------------+---------------------+\n",
            "\n"
          ]
        }
      ]
    },
    {
      "cell_type": "markdown",
      "metadata": {
        "id": "g9nT75wATfSU"
      },
      "source": [
        "#### Skewness and kurtosis\n",
        "both measurements of extreme points in your data.  \n",
        "Skewness \n",
        "measures the asymmetry of the values in your data around the mean, whereas kurtosis is a\n",
        "measure of the tail of data."
      ]
    },
    {
      "cell_type": "code",
      "metadata": {
        "id": "e8pWYWEYTfSU",
        "outputId": "8fc9cf74-1964-4413-9ae5-541255702a18"
      },
      "source": [
        "from pyspark.sql.functions import skewness, kurtosis\n",
        "df.select(skewness(\"Quantity\"), kurtosis(\"Quantity\")).show()"
      ],
      "execution_count": null,
      "outputs": [
        {
          "name": "stdout",
          "output_type": "stream",
          "text": [
            "+------------------+------------------+\n",
            "|skewness(Quantity)|kurtosis(Quantity)|\n",
            "+------------------+------------------+\n",
            "|-0.264075576105298|119768.05495534067|\n",
            "+------------------+------------------+\n",
            "\n"
          ]
        }
      ]
    },
    {
      "cell_type": "markdown",
      "metadata": {
        "id": "vCtcHUU2TfSV"
      },
      "source": [
        "#### Covariance and Correlation\n",
        "\n",
        "Correlation(corr) measures the Pearson correlation\n",
        "coefficient, which is scaled between –1 and +1.   \n",
        "The covariance(cov) is scaled according to the inputs\n",
        "in the data.\n",
        "\n"
      ]
    },
    {
      "cell_type": "code",
      "metadata": {
        "id": "kJ5mLZOWTfSV",
        "outputId": "ab6c8914-ef1f-40c1-f9d9-20d4dac0d2b9"
      },
      "source": [
        "from pyspark.sql.functions import corr, covar_pop, covar_samp,\n",
        "df.select(corr(\"InvoiceNo\", \"Quantity\"), covar_samp(\"InvoiceNo\", \"Quantity\"), # sample\n",
        "covar_pop(\"InvoiceNo\", \"Quantity\")).show() # population"
      ],
      "execution_count": null,
      "outputs": [
        {
          "name": "stdout",
          "output_type": "stream",
          "text": [
            "+-------------------------+-------------------------------+------------------------------+\n",
            "|corr(InvoiceNo, Quantity)|covar_samp(InvoiceNo, Quantity)|covar_pop(InvoiceNo, Quantity)|\n",
            "+-------------------------+-------------------------------+------------------------------+\n",
            "|     4.912186085636837E-4|             1052.7280543912716|            1052.7260778751674|\n",
            "+-------------------------+-------------------------------+------------------------------+\n",
            "\n"
          ]
        }
      ]
    },
    {
      "cell_type": "markdown",
      "metadata": {
        "id": "wXv9BegNTfSV"
      },
      "source": [
        "#### Aggregating to Complex Types\n",
        "collect_list = return all values in this column in single list  \n",
        "collect_set = return all **distinct** values in a set"
      ]
    },
    {
      "cell_type": "code",
      "metadata": {
        "id": "BNluC48jTfSV",
        "outputId": "c212ac60-a378-48d3-d986-ba83f0cffe2b"
      },
      "source": [
        "from pyspark.sql.functions import collect_set, collect_list\n",
        "df.agg(collect_set(\"Country\"), collect_list(\"Country\")).show(5)"
      ],
      "execution_count": null,
      "outputs": [
        {
          "name": "stdout",
          "output_type": "stream",
          "text": [
            "+--------------------+---------------------+\n",
            "|collect_set(Country)|collect_list(Country)|\n",
            "+--------------------+---------------------+\n",
            "|[Portugal, Italy,...| [United Kingdom, ...|\n",
            "+--------------------+---------------------+\n",
            "\n"
          ]
        }
      ]
    },
    {
      "cell_type": "markdown",
      "metadata": {
        "id": "9f7m578FTfSV"
      },
      "source": [
        "## Grouping\n",
        "calculations based on *groups*(categorical) in the data. "
      ]
    },
    {
      "cell_type": "code",
      "metadata": {
        "id": "6DMrxWOsTfSV",
        "colab": {
          "base_uri": "https://localhost:8080/"
        },
        "outputId": "48feaef6-d883-41a1-e008-04f202c408b7"
      },
      "source": [
        "#sample\n",
        "df.groupBy('InvoiceNo','CustomerId').count().show(3)"
      ],
      "execution_count": 165,
      "outputs": [
        {
          "output_type": "stream",
          "name": "stdout",
          "text": [
            "+---------+----------+-----+\n",
            "|InvoiceNo|CustomerId|count|\n",
            "+---------+----------+-----+\n",
            "|   536395|     13767|   14|\n",
            "|   536609|     17850|   16|\n",
            "|   536785|     15061|    6|\n",
            "+---------+----------+-----+\n",
            "only showing top 3 rows\n",
            "\n"
          ]
        }
      ]
    },
    {
      "cell_type": "markdown",
      "metadata": {
        "id": "mzVMe2oyTfSW"
      },
      "source": [
        "### Grouping with Expressions\n",
        "\n",
        "specify it as within agg makes it possible for you to pass-in\n",
        "arbitrary expressions that just need to have some aggregation specified"
      ]
    },
    {
      "cell_type": "code",
      "metadata": {
        "id": "fd4sVrtvTfSW",
        "outputId": "929efeca-6543-4c98-e969-f4b021ae776b"
      },
      "source": [
        "df.groupBy('InvoiceNo').agg(\n",
        "                pyf.count('Quantity').alias('quan'), # use count function\n",
        "                expr('count(Quantity)')).show(3) # count from SQL expression"
      ],
      "execution_count": null,
      "outputs": [
        {
          "name": "stdout",
          "output_type": "stream",
          "text": [
            "+---------+----+---------------+\n",
            "|InvoiceNo|quan|count(Quantity)|\n",
            "+---------+----+---------------+\n",
            "|   536596|   6|              6|\n",
            "|   536938|  14|             14|\n",
            "|   537252|   1|              1|\n",
            "+---------+----+---------------+\n",
            "only showing top 3 rows\n",
            "\n"
          ]
        }
      ]
    },
    {
      "cell_type": "markdown",
      "metadata": {
        "id": "b4HKNoxMTfSW"
      },
      "source": [
        "### Grouping with Maps\n",
        "\n",
        "series of Maps for which the key\n",
        "is the column, and the value is the aggregation function (as a string)."
      ]
    },
    {
      "cell_type": "code",
      "metadata": {
        "id": "czLzVVE2TfSW",
        "outputId": "8f4b7d17-4ee5-4d6a-8fd1-e0627de916fa"
      },
      "source": [
        "df.groupBy('InvoiceNo').agg(expr('avg(Quantity)'),expr('stddev_pop(Quantity)'))\\\n",
        ".show(3)"
      ],
      "execution_count": null,
      "outputs": [
        {
          "name": "stdout",
          "output_type": "stream",
          "text": [
            "+---------+------------------+--------------------+\n",
            "|InvoiceNo|     avg(Quantity)|stddev_pop(Quantity)|\n",
            "+---------+------------------+--------------------+\n",
            "|   536596|               1.5|  1.1180339887498947|\n",
            "|   536938|33.142857142857146|  20.698023172885524|\n",
            "|   537252|              31.0|                 0.0|\n",
            "+---------+------------------+--------------------+\n",
            "only showing top 3 rows\n",
            "\n"
          ]
        }
      ]
    },
    {
      "cell_type": "markdown",
      "metadata": {
        "id": "J7-Wyq6XTfSW"
      },
      "source": [
        "## Window Functions\n",
        "\n",
        "A group-by takes data, and every row can go only into one grouping. A window function\n",
        "calculates a return value for every input row of a table based on a group of rows, called a frame.\n",
        "\n",
        "Spark supports three kinds of window functions: ranking functions, analytic functions,\n",
        "and aggregate functions.\n",
        "\n",
        "Tasks like calculating a moving average, calculating a cumulative sum, or accessing the values of a row appearing before the current row"
      ]
    },
    {
      "cell_type": "markdown",
      "metadata": {
        "id": "1q-GPS7Xlfo6"
      },
      "source": [
        "**Ranking functions**\n",
        " rank() rank()\n",
        "dense_rank() denseRank()\n",
        "percent_rank() percentRank()\n",
        "ntile() ntile()\n",
        "row_number() rowNumber()  \n",
        "\n",
        "**Analytic functions**\n",
        "cume_dist() cumeDist()\n",
        "first_value() firstValue()\n",
        "last_value() lastValue()\n",
        "lag() lag()\n",
        "lead() lead()"
      ]
    },
    {
      "cell_type": "markdown",
      "metadata": {
        "id": "v_RlR9LzTfSW"
      },
      "source": [
        "![image.png](data:image/png;base64,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)"
      ]
    },
    {
      "cell_type": "code",
      "metadata": {
        "id": "zU77pX8wTfSW",
        "colab": {
          "base_uri": "https://localhost:8080/"
        },
        "outputId": "990b96d0-50d0-45c4-d97d-ec4a6e6bcf0e"
      },
      "source": [
        "# cast to date spark type\n",
        "from pyspark.sql.functions import col, to_date\n",
        "dfWithDate = df.withColumn(\"date\", to_date(col(\"InvoiceDate\"), \"MM/d/yyyy H:mm\"))\n",
        "dfWithDate.createOrReplaceTempView(\"dfWithDate\")\n",
        "dfWithDate.printSchema()"
      ],
      "execution_count": 186,
      "outputs": [
        {
          "output_type": "stream",
          "name": "stdout",
          "text": [
            "root\n",
            " |-- InvoiceNo: string (nullable = true)\n",
            " |-- StockCode: string (nullable = true)\n",
            " |-- Description: string (nullable = true)\n",
            " |-- Quantity: string (nullable = true)\n",
            " |-- InvoiceDate: string (nullable = true)\n",
            " |-- UnitPrice: string (nullable = true)\n",
            " |-- CustomerID: string (nullable = true)\n",
            " |-- Country: string (nullable = true)\n",
            " |-- date: date (nullable = true)\n",
            "\n"
          ]
        }
      ]
    },
    {
      "cell_type": "markdown",
      "metadata": {
        "id": "9JVNj3QOTfSX"
      },
      "source": [
        "The first step is to create a window specification.  \n",
        "The ordering determines\n",
        "the ordering within a given partition.  \n",
        "The frame specification (the rowsBetween\n",
        "statement) states which rows will be included in the frame based on its reference to the current\n",
        "input row."
      ]
    },
    {
      "cell_type": "code",
      "metadata": {
        "colab": {
          "base_uri": "https://localhost:8080/"
        },
        "id": "qduEVseMmNCf",
        "outputId": "76634855-1deb-457f-81b1-85c150133af2"
      },
      "source": [
        "simpleData = ((\"James\", \"Sales\", 3000), \\\n",
        "    (\"Michael\", \"Sales\", 4600),  \\\n",
        "    (\"Robert\", \"Sales\", 4100),   \\\n",
        "    (\"Maria\", \"Finance\", 3000),  \\\n",
        "    (\"James\", \"Sales\", 3000),    \\\n",
        "    (\"Scott\", \"Finance\", 3300),  \\\n",
        "    (\"Jen\", \"Finance\", 3900),    \\\n",
        "    (\"Jeff\", \"Marketing\", 3000), \\\n",
        "    (\"Kumar\", \"Marketing\", 2000),\\\n",
        "    (\"Saif\", \"Sales\", 4100) \\\n",
        "  )\n",
        " \n",
        "columns= [\"employee_name\", \"department\", \"salary\"]\n",
        "df = spark.createDataFrame(data = simpleData, schema = columns)\n",
        "df.printSchema()\n",
        "df.show(truncate=False)"
      ],
      "execution_count": 204,
      "outputs": [
        {
          "output_type": "stream",
          "name": "stdout",
          "text": [
            "root\n",
            " |-- employee_name: string (nullable = true)\n",
            " |-- department: string (nullable = true)\n",
            " |-- salary: long (nullable = true)\n",
            "\n",
            "+-------------+----------+------+\n",
            "|employee_name|department|salary|\n",
            "+-------------+----------+------+\n",
            "|James        |Sales     |3000  |\n",
            "|Michael      |Sales     |4600  |\n",
            "|Robert       |Sales     |4100  |\n",
            "|Maria        |Finance   |3000  |\n",
            "|James        |Sales     |3000  |\n",
            "|Scott        |Finance   |3300  |\n",
            "|Jen          |Finance   |3900  |\n",
            "|Jeff         |Marketing |3000  |\n",
            "|Kumar        |Marketing |2000  |\n",
            "|Saif         |Sales     |4100  |\n",
            "+-------------+----------+------+\n",
            "\n"
          ]
        }
      ]
    },
    {
      "cell_type": "code",
      "metadata": {
        "colab": {
          "base_uri": "https://localhost:8080/"
        },
        "id": "mVSPQ2CUmM_I",
        "outputId": "ef1fb33c-d324-4627-d47a-1319cb56c599"
      },
      "source": [
        "from pyspark.sql.window import Window\n",
        "from pyspark.sql.functions import row_number\n",
        "windowSpec  = Window.partitionBy(\"department\").orderBy(\"salary\")\n",
        "\n",
        "df.withColumn(\"row_number\",row_number().over(windowSpec)) \\\n",
        "    .withColumn('rank', rank().over(windowSpec))\\\n",
        "    .show(truncate=False)"
      ],
      "execution_count": 221,
      "outputs": [
        {
          "output_type": "stream",
          "name": "stdout",
          "text": [
            "+-------------+----------+------+----------+----+\n",
            "|employee_name|department|salary|row_number|rank|\n",
            "+-------------+----------+------+----------+----+\n",
            "|James        |Sales     |3000  |1         |1   |\n",
            "|James        |Sales     |3000  |2         |1   |\n",
            "|Robert       |Sales     |4100  |3         |3   |\n",
            "|Saif         |Sales     |4100  |4         |3   |\n",
            "|Michael      |Sales     |4600  |5         |5   |\n",
            "|Maria        |Finance   |3000  |1         |1   |\n",
            "|Scott        |Finance   |3300  |2         |2   |\n",
            "|Jen          |Finance   |3900  |3         |3   |\n",
            "|Kumar        |Marketing |2000  |1         |1   |\n",
            "|Jeff         |Marketing |3000  |2         |2   |\n",
            "+-------------+----------+------+----------+----+\n",
            "\n"
          ]
        }
      ]
    },
    {
      "cell_type": "code",
      "metadata": {
        "colab": {
          "base_uri": "https://localhost:8080/"
        },
        "id": "YAj5He7vnb09",
        "outputId": "ce3f41a8-c3b8-432a-da07-e16401da2479"
      },
      "source": [
        "# You can define window column and use it later in select\n",
        "max_salary = max(col('salary')).over(windowSpec)\n",
        "rank_salary = dense_rank().over(windowSpec)\n",
        "\n",
        "df.select(\n",
        "    F.expr('*')\n",
        "    ,max_salary.alias('max_salary')\n",
        "    ,rank_salary.alias('ranking')\n",
        ").show(truncate=False)\n"
      ],
      "execution_count": 224,
      "outputs": [
        {
          "output_type": "stream",
          "name": "stdout",
          "text": [
            "+-------------+----------+------+----------+-------+\n",
            "|employee_name|department|salary|max_salary|ranking|\n",
            "+-------------+----------+------+----------+-------+\n",
            "|James        |Sales     |3000  |3000      |1      |\n",
            "|James        |Sales     |3000  |3000      |1      |\n",
            "|Robert       |Sales     |4100  |4100      |2      |\n",
            "|Saif         |Sales     |4100  |4100      |2      |\n",
            "|Michael      |Sales     |4600  |4600      |3      |\n",
            "|Maria        |Finance   |3000  |3000      |1      |\n",
            "|Scott        |Finance   |3300  |3300      |2      |\n",
            "|Jen          |Finance   |3900  |3900      |3      |\n",
            "|Kumar        |Marketing |2000  |2000      |1      |\n",
            "|Jeff         |Marketing |3000  |3000      |2      |\n",
            "+-------------+----------+------+----------+-------+\n",
            "\n"
          ]
        }
      ]
    },
    {
      "cell_type": "markdown",
      "metadata": {
        "id": "Q2TWhCRKTfSX"
      },
      "source": [
        "## Grouping Sets\n",
        "\n",
        "grouping sets is an aggregation across multiple groups (only available in SQL ).  \n",
        "Grouping sets are a low-level tool for combining sets of aggregations together"
      ]
    },
    {
      "cell_type": "code",
      "metadata": {
        "id": "j4eUQ4miTfSY",
        "outputId": "ae4c9d73-6667-425c-f614-ea27be928ce0"
      },
      "source": [
        "dfNoNull = dfwithDate.drop()\n",
        "dfNoNull.createOrReplaceTempView(\"dfNoNull\")\n",
        "#sample with SQL // Sum quantity by customer id and stockcode\n",
        "spark.sql(\"\"\"\n",
        "SELECT CustomerID, StockCode, sum(Quantity) AS Quantity_by_id_code\n",
        "FROM dfNonull\n",
        "GROUP BY CustomerID, StockCode\n",
        "ORDER BY CustomerId DESC, StockCode DESC\"\"\").show(5)"
      ],
      "execution_count": null,
      "outputs": [
        {
          "name": "stdout",
          "output_type": "stream",
          "text": [
            "+----------+---------+-------------------+\n",
            "|CustomerID|StockCode|Quantity_by_id_code|\n",
            "+----------+---------+-------------------+\n",
            "|     18287|    85173|               48.0|\n",
            "|     18287|   85040A|               48.0|\n",
            "|     18287|   85039B|              120.0|\n",
            "|     18287|   85039A|               96.0|\n",
            "|     18287|    84920|                4.0|\n",
            "+----------+---------+-------------------+\n",
            "only showing top 5 rows\n",
            "\n"
          ]
        }
      ]
    },
    {
      "cell_type": "code",
      "metadata": {
        "id": "8O_GxrziTfSY",
        "outputId": "93544998-7f37-4c24-f032-1fddbfc6c827"
      },
      "source": [
        "# achieve same result using grouping set // need to filter out null value\n",
        "spark.sql(\"\"\"\n",
        "SELECT CustomerID, StockCode, sum(Quantity) AS Quantity_by_id_code\n",
        "FROM dfNonull\n",
        "GROUP BY GROUPING SETS((CustomerId,StockCode)) \n",
        "ORDER BY CustomerId DESC, StockCode DESC\"\"\").show(5)"
      ],
      "execution_count": null,
      "outputs": [
        {
          "name": "stdout",
          "output_type": "stream",
          "text": [
            "+----------+---------+-------------------+\n",
            "|CustomerId|StockCode|Quantity_by_id_code|\n",
            "+----------+---------+-------------------+\n",
            "|     18287|    85173|               48.0|\n",
            "|     18287|   85040A|               48.0|\n",
            "|     18287|   85039B|              120.0|\n",
            "|     18287|   85039A|               96.0|\n",
            "|     18287|    84920|                4.0|\n",
            "+----------+---------+-------------------+\n",
            "only showing top 5 rows\n",
            "\n"
          ]
        }
      ]
    },
    {
      "cell_type": "markdown",
      "metadata": {
        "id": "dul3eGpOTfSY"
      },
      "source": [
        "to include the total number of items, regardless of\n",
        "customer or stock code, you can union of several different groupings together"
      ]
    },
    {
      "cell_type": "code",
      "metadata": {
        "id": "KcgmPkKdTfSY",
        "outputId": "53f24ca9-e52a-46cc-81fb-1cb5b8e80aa4"
      },
      "source": [
        "spark.sql(\"\"\"\n",
        "SELECT CustomerID, StockCode, sum(Quantity) AS Quantity_by_id_code\n",
        "FROM dfNonull\n",
        "GROUP BY GROUPING SETS( (CustomerId,StockCode),() ) \n",
        "ORDER BY CustomerId DESC, StockCode DESC\"\"\").show(5)"
      ],
      "execution_count": null,
      "outputs": [
        {
          "name": "stdout",
          "output_type": "stream",
          "text": [
            "+----------+---------+-------------------+\n",
            "|CustomerId|StockCode|Quantity_by_id_code|\n",
            "+----------+---------+-------------------+\n",
            "|     18287|    85173|               48.0|\n",
            "|     18287|   85040A|               48.0|\n",
            "|     18287|   85039B|              120.0|\n",
            "|     18287|   85039A|               96.0|\n",
            "|     18287|    84920|                4.0|\n",
            "+----------+---------+-------------------+\n",
            "only showing top 5 rows\n",
            "\n"
          ]
        }
      ]
    },
    {
      "cell_type": "code",
      "metadata": {
        "id": "o-KE3I6wTfSY",
        "colab": {
          "base_uri": "https://localhost:8080/"
        },
        "outputId": "86c0a56e-493e-4d54-bcf7-681579d99332"
      },
      "source": [
        "# a better example is \n",
        "dfbrand = spark.createDataFrame([('LV', 'M',10), ('Uniqlo', 'S',5), ('LV', 'L',3), (\"Uniqlo\", 'S',8)],('Brand','Size','Sales'))\n",
        "dfbrand.createOrReplaceTempView(\"dfbrand\")\n",
        "dfbrand.show()"
      ],
      "execution_count": 225,
      "outputs": [
        {
          "output_type": "stream",
          "name": "stdout",
          "text": [
            "+------+----+-----+\n",
            "| Brand|Size|Sales|\n",
            "+------+----+-----+\n",
            "|    LV|   M|   10|\n",
            "|Uniqlo|   S|    5|\n",
            "|    LV|   L|    3|\n",
            "|Uniqlo|   S|    8|\n",
            "+------+----+-----+\n",
            "\n"
          ]
        }
      ]
    },
    {
      "cell_type": "code",
      "metadata": {
        "id": "Yp_nT4xMTfSY",
        "colab": {
          "base_uri": "https://localhost:8080/"
        },
        "outputId": "d3021d4a-08eb-4906-8eb6-8d51cd379cf5"
      },
      "source": [
        "# the result is union of each group where () = no group at all\n",
        "spark.sql(\"\"\"\n",
        "SELECT Brand, Size,sum(Sales)\n",
        "FROM dfbrand\n",
        "GROUP BY GROUPING SETS(   (Brand,Size) ,(Size) , ()   )\n",
        "ORDER BY BRAND desc, SIZE DESC\n",
        "\"\"\").show()"
      ],
      "execution_count": 226,
      "outputs": [
        {
          "output_type": "stream",
          "name": "stdout",
          "text": [
            "+------+----+----------+\n",
            "| Brand|Size|sum(Sales)|\n",
            "+------+----+----------+\n",
            "|Uniqlo|   S|        13|\n",
            "|    LV|   M|        10|\n",
            "|    LV|   L|         3|\n",
            "|  null|   S|        13|\n",
            "|  null|   M|        10|\n",
            "|  null|   L|         3|\n",
            "|  null|null|        26|\n",
            "+------+----+----------+\n",
            "\n"
          ]
        }
      ]
    },
    {
      "cell_type": "markdown",
      "metadata": {
        "id": "NPlpejLiTfSY"
      },
      "source": [
        "Row 1-3 is Grouping set by (Brand,size)  \n",
        "Row 4-6 is Grouping set by (size) regardless of brand, etc  \n",
        "Row 7 is Grouping set by none (just sum all)"
      ]
    },
    {
      "cell_type": "markdown",
      "metadata": {
        "id": "Vz83lpz4TfSY"
      },
      "source": [
        "## Rollups\n",
        "\n",
        "create a rollup(multidimensional aggregation) that looks across time (with our new Date column) and space (with the\n",
        "Country column) and   \n",
        "creates a new DataFrame that includes the grand total over all dates, the\n",
        "grand total for each date in the DataFrame, and the subtotal for each country on each date in the\n",
        "DataFrame:"
      ]
    },
    {
      "cell_type": "code",
      "metadata": {
        "id": "K4q4WTxDTfSZ",
        "outputId": "37336f36-b6b0-423d-94e2-7953b2bdb668"
      },
      "source": [
        "rolledUpDF = dfNoNull.rollup('Date','Country').agg(pyf.sum('Quantity'))\\\n",
        "    .selectExpr('Date','Country',\" `sum(Quantity)` as  total_quantity\").orderBy('Date')\n",
        "rolledUpDF.show(8)"
      ],
      "execution_count": null,
      "outputs": [
        {
          "name": "stdout",
          "output_type": "stream",
          "text": [
            "+----------+--------------+--------------+\n",
            "|      Date|       Country|total_quantity|\n",
            "+----------+--------------+--------------+\n",
            "|      null|          null|     5176450.0|\n",
            "|2010-12-01|United Kingdom|       23949.0|\n",
            "|2010-12-01|          EIRE|         243.0|\n",
            "|2010-12-01|     Australia|         107.0|\n",
            "|2010-12-01|        France|         449.0|\n",
            "|2010-12-01|          null|       26814.0|\n",
            "|2010-12-01|       Germany|         117.0|\n",
            "|2010-12-01|        Norway|        1852.0|\n",
            "+----------+--------------+--------------+\n",
            "only showing top 8 rows\n",
            "\n"
          ]
        }
      ]
    },
    {
      "cell_type": "markdown",
      "metadata": {
        "id": "LTNZO6ZaTfSZ"
      },
      "source": [
        "Now where you see the null values is where you’ll find the grand totals. A null in both rollup\n",
        "columns specifies the grand total across both of those columns:"
      ]
    },
    {
      "cell_type": "code",
      "metadata": {
        "id": "MuaYR9rrTfSZ",
        "outputId": "4886ad02-f6a7-4900-f8a0-2a28a4ae5def"
      },
      "source": [
        "# Total by date\n",
        "rolledUpDF.where(\"Country IS NULL\").show(5)"
      ],
      "execution_count": null,
      "outputs": [
        {
          "name": "stdout",
          "output_type": "stream",
          "text": [
            "+----------+-------+--------------+\n",
            "|      Date|Country|total_quantity|\n",
            "+----------+-------+--------------+\n",
            "|      null|   null|     5176450.0|\n",
            "|2010-12-01|   null|       26814.0|\n",
            "|2010-12-02|   null|       21023.0|\n",
            "|2010-12-03|   null|       14830.0|\n",
            "|2010-12-05|   null|       16395.0|\n",
            "+----------+-------+--------------+\n",
            "only showing top 5 rows\n",
            "\n"
          ]
        }
      ]
    },
    {
      "cell_type": "code",
      "metadata": {
        "id": "CGY2UjMUTfSZ",
        "outputId": "07afc520-1df6-4ef9-8393-ac7df1b568b9"
      },
      "source": [
        "# total for all\n",
        "rolledUpDF.where(\"Date IS NULL\").show()"
      ],
      "execution_count": null,
      "outputs": [
        {
          "name": "stdout",
          "output_type": "stream",
          "text": [
            "+----+-------+--------------+\n",
            "|Date|Country|total_quantity|\n",
            "+----+-------+--------------+\n",
            "|null|   null|     5176450.0|\n",
            "+----+-------+--------------+\n",
            "\n"
          ]
        }
      ]
    },
    {
      "cell_type": "markdown",
      "metadata": {
        "id": "0QACUjwjTfSZ"
      },
      "source": [
        "## Cube\n",
        "A cube takes the rollup to a level deeper. Rather than treating elements hierarchically, a cube\n",
        "does the same thing across all dimensions. This means that it won’t just go by date over the\n",
        "entire time period, but also the country"
      ]
    },
    {
      "cell_type": "code",
      "metadata": {
        "id": "uw0yQd1UTfSZ",
        "outputId": "f3cf342e-b7b6-4ffc-abcd-a9fbe5643e65"
      },
      "source": [
        "dfNoNull.cube(\"Date\", \"Country\").agg(pyf.sum(col(\"Quantity\")))\\\n",
        "    .select(\"Date\", \"Country\", \"sum(Quantity)\").orderBy(\"Date\").show(5)"
      ],
      "execution_count": null,
      "outputs": [
        {
          "name": "stdout",
          "output_type": "stream",
          "text": [
            "+----+------------------+-------------+\n",
            "|Date|           Country|sum(Quantity)|\n",
            "+----+------------------+-------------+\n",
            "|null|             Spain|      26824.0|\n",
            "|null|           Denmark|       8188.0|\n",
            "|null|    Czech Republic|        592.0|\n",
            "|null|European Community|        497.0|\n",
            "|null|            Norway|      19247.0|\n",
            "+----+------------------+-------------+\n",
            "only showing top 5 rows\n",
            "\n"
          ]
        }
      ]
    },
    {
      "cell_type": "code",
      "metadata": {
        "id": "wvNOuZ4WTfSZ",
        "outputId": "578aaf05-99bc-4a8b-dd63-1f1ec8549b54"
      },
      "source": [
        "from pyspark.sql import Row\n",
        "# more visualize example\n",
        "studentsDF = spark.createDataFrame([\n",
        "          (\"mario\", \"italy\", \"europe\",5),\n",
        "          (\"stefano\", \"italy\", \"europe\",8),\n",
        "          (\"victor\", \"spain\", \"europe\",8),\n",
        "          (\"li\", \"china\", \"asia\",10),\n",
        "          (\"yuki\", \"japan\", \"asia\",5),\n",
        "          (\"vito\", \"italy\", \"europe\",3)\n",
        "], [\"name\", \"country\", \"continent\",'sales'])\n",
        "#\n",
        "studentsDF.show()"
      ],
      "execution_count": null,
      "outputs": [
        {
          "name": "stdout",
          "output_type": "stream",
          "text": [
            "+-------+-------+---------+-----+\n",
            "|   name|country|continent|sales|\n",
            "+-------+-------+---------+-----+\n",
            "|  mario|  italy|   europe|    5|\n",
            "|stefano|  italy|   europe|    8|\n",
            "| victor|  spain|   europe|    8|\n",
            "|     li|  china|     asia|   10|\n",
            "|   yuki|  japan|     asia|    5|\n",
            "|   vito|  italy|   europe|    3|\n",
            "+-------+-------+---------+-----+\n",
            "\n"
          ]
        }
      ]
    },
    {
      "cell_type": "code",
      "metadata": {
        "id": "vtA8RgDOTfSa",
        "outputId": "7e70f280-7007-4727-f5fb-99f9d8d0efe2"
      },
      "source": [
        "# summarize on all dimension\n",
        "studentsDF.cube('country','continent').agg(pyf.sum(col('sales'))).orderBy('country','continent').show()"
      ],
      "execution_count": null,
      "outputs": [
        {
          "name": "stdout",
          "output_type": "stream",
          "text": [
            "+-------+---------+----------+\n",
            "|country|continent|sum(sales)|\n",
            "+-------+---------+----------+\n",
            "|   null|     null|        39|\n",
            "|   null|     asia|        15|\n",
            "|   null|   europe|        24|\n",
            "|  china|     null|        10|\n",
            "|  china|     asia|        10|\n",
            "|  italy|     null|        16|\n",
            "|  italy|   europe|        16|\n",
            "|  japan|     null|         5|\n",
            "|  japan|     asia|         5|\n",
            "|  spain|     null|         8|\n",
            "|  spain|   europe|         8|\n",
            "+-------+---------+----------+\n",
            "\n"
          ]
        }
      ]
    },
    {
      "cell_type": "markdown",
      "metadata": {
        "id": "rqcLdFkwTfSa"
      },
      "source": [
        "Row 1 =  Grand total  \n",
        "Row 2-3 = Sum by continent regardless of country  \n",
        "Row 4-11 = sum by country regardless of continent "
      ]
    },
    {
      "cell_type": "markdown",
      "metadata": {
        "id": "venN40XoTfSa"
      },
      "source": [
        "## Grouping Metadata\n",
        "\n",
        "using the grouping_id,\n",
        "which gives us a column specifying the level of aggregation that we have in our result set."
      ]
    },
    {
      "cell_type": "markdown",
      "metadata": {
        "id": "w8CyuDBHTfSa"
      },
      "source": [
        "![image.png](data:image/png;base64,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)![image.png](attachment:image.png)"
      ]
    },
    {
      "cell_type": "code",
      "metadata": {
        "id": "C7YQnE5bTfSa",
        "outputId": "22a7aa58-c20f-4e1c-adb9-07ee80d59c09"
      },
      "source": [
        "dfNoNull.cube(\"customerId\", \"stockCode\").agg(pyf.grouping_id(), pyf.sum(\"Quantity\"))\\\n",
        ".orderBy(col('CustomerId').desc())\\\n",
        ".show(5)"
      ],
      "execution_count": null,
      "outputs": [
        {
          "name": "stdout",
          "output_type": "stream",
          "text": [
            "+----------+---------+-------------+-------------+\n",
            "|customerId|stockCode|grouping_id()|sum(Quantity)|\n",
            "+----------+---------+-------------+-------------+\n",
            "|     18287|    23378|            0|         24.0|\n",
            "|     18287|    20961|            0|         30.0|\n",
            "|     18287|    21556|            0|         12.0|\n",
            "|     18287|   85040A|            0|         48.0|\n",
            "|     18287|    22306|            0|         24.0|\n",
            "+----------+---------+-------------+-------------+\n",
            "only showing top 5 rows\n",
            "\n"
          ]
        }
      ]
    },
    {
      "cell_type": "markdown",
      "metadata": {
        "id": "olVXwjUzTfSa"
      },
      "source": [
        "## Pivot\n",
        "Convert row into column"
      ]
    },
    {
      "cell_type": "code",
      "metadata": {
        "colab": {
          "base_uri": "https://localhost:8080/"
        },
        "id": "l8fkfV3z3kEO",
        "outputId": "56536a80-f852-4f2b-f60c-603a8b26f366"
      },
      "source": [
        "simpleData = ((\"James\", \"Sales\", 3000), \\\n",
        "    (\"Michael\", \"Sales\", 4600),  \\\n",
        "    (\"Robert\", \"Sales\", 4100),   \\\n",
        "    (\"Maria\", \"Finance\", 3000),  \\\n",
        "    (\"James\", \"Sales\", 3000),    \\\n",
        "    (\"Scott\", \"Finance\", 3300),  \\\n",
        "    (\"Jen\", \"Finance\", 3900),    \\\n",
        "    (\"Jeff\", \"Marketing\", 3000), \\\n",
        "    (\"Kumar\", \"Marketing\", 2000),\\\n",
        "    (\"Saif\", \"Sales\", 4100) \\\n",
        "  )\n",
        " \n",
        "columns= [\"employee_name\", \"department\", \"salary\"]\n",
        "df = spark.createDataFrame(data = simpleData, schema = columns)\n",
        "df.printSchema()\n",
        "df.show(truncate=False)"
      ],
      "execution_count": 227,
      "outputs": [
        {
          "output_type": "stream",
          "name": "stdout",
          "text": [
            "root\n",
            " |-- employee_name: string (nullable = true)\n",
            " |-- department: string (nullable = true)\n",
            " |-- salary: long (nullable = true)\n",
            "\n",
            "+-------------+----------+------+\n",
            "|employee_name|department|salary|\n",
            "+-------------+----------+------+\n",
            "|James        |Sales     |3000  |\n",
            "|Michael      |Sales     |4600  |\n",
            "|Robert       |Sales     |4100  |\n",
            "|Maria        |Finance   |3000  |\n",
            "|James        |Sales     |3000  |\n",
            "|Scott        |Finance   |3300  |\n",
            "|Jen          |Finance   |3900  |\n",
            "|Jeff         |Marketing |3000  |\n",
            "|Kumar        |Marketing |2000  |\n",
            "|Saif         |Sales     |4100  |\n",
            "+-------------+----------+------+\n",
            "\n"
          ]
        }
      ]
    },
    {
      "cell_type": "code",
      "metadata": {
        "colab": {
          "base_uri": "https://localhost:8080/"
        },
        "id": "lEtXmA023oAu",
        "outputId": "afec67a4-43a6-4223-eef1-9cb03bd0a079"
      },
      "source": [
        "pivot_table = df.groupby(\"department\").pivot(\"employee_name\").sum()\n",
        "pivot_table.show()"
      ],
      "execution_count": 229,
      "outputs": [
        {
          "output_type": "stream",
          "name": "stdout",
          "text": [
            "+----------+-----+----+----+-----+-----+-------+------+----+-----+\n",
            "|department|James|Jeff| Jen|Kumar|Maria|Michael|Robert|Saif|Scott|\n",
            "+----------+-----+----+----+-----+-----+-------+------+----+-----+\n",
            "|     Sales| 6000|null|null| null| null|   4600|  4100|4100| null|\n",
            "|   Finance| null|null|3900| null| 3000|   null|  null|null| 3300|\n",
            "| Marketing| null|3000|null| 2000| null|   null|  null|null| null|\n",
            "+----------+-----+----+----+-----+-----+-------+------+----+-----+\n",
            "\n"
          ]
        }
      ]
    },
    {
      "cell_type": "markdown",
      "metadata": {
        "id": "CuJt5IocTfSb"
      },
      "source": [
        "## User-Defined Aggregation Functions\n",
        "\n",
        "You can use UDAFs to compute custom\n",
        "calculations over groups of input data (as opposed to single rows). Spark maintains a single\n",
        "AggregationBuffer to store intermediate results for every group of input data."
      ]
    },
    {
      "cell_type": "code",
      "metadata": {
        "id": "H779DjaxTfSb",
        "outputId": "f4faea76-b3de-4503-d098-fddf809a5132"
      },
      "source": [
        "a = sc.parallelize([[1, 1, 'aa'],\n",
        "                    [1, 2, 'a'],\n",
        "                    [1, 1, 'ba'],\n",
        "                    [1, 2, 'b'],\n",
        "                    [2, 1, 'cc']]).toDF(['id', 'value1', 'value2'])\n",
        "a.show()"
      ],
      "execution_count": null,
      "outputs": [
        {
          "name": "stdout",
          "output_type": "stream",
          "text": [
            "+---+------+------+\n",
            "| id|value1|value2|\n",
            "+---+------+------+\n",
            "|  1|     1|    aa|\n",
            "|  1|     2|     a|\n",
            "|  1|     1|    ba|\n",
            "|  1|     2|     b|\n",
            "|  2|     1|    cc|\n",
            "+---+------+------+\n",
            "\n"
          ]
        }
      ]
    },
    {
      "cell_type": "code",
      "metadata": {
        "id": "PBU-0wvCTfSb",
        "outputId": "f3e0f024-598d-481a-dafd-bc028b967378"
      },
      "source": [
        "def find_a(x):\n",
        "  \"\"\"Count occurance 'a's in list.\"\"\"\n",
        "  output_count = 0\n",
        "  for i in x:\n",
        "    if i == 'a':\n",
        "      output_count += 1\n",
        "  return output_count\n",
        "\n",
        "find_a_udf = udf(find_a, IntegerType())\n",
        "\n",
        "a.groupBy('id').agg(find_a_udf(pyf.collect_list('value2')).alias('a_count')).show() # only match exact 'a' not 'aa'"
      ],
      "execution_count": null,
      "outputs": [
        {
          "name": "stdout",
          "output_type": "stream",
          "text": [
            "+---+-------+\n",
            "| id|a_count|\n",
            "+---+-------+\n",
            "|  1|      1|\n",
            "|  2|      0|\n",
            "+---+-------+\n",
            "\n"
          ]
        }
      ]
    },
    {
      "cell_type": "markdown",
      "metadata": {
        "id": "ygQwCl49TfSb"
      },
      "source": [
        "# Part 8 Joins"
      ]
    },
    {
      "cell_type": "code",
      "metadata": {
        "id": "6jPf9kkFTfSb"
      },
      "source": [
        "# create sample table to use \n",
        "person = spark.createDataFrame([\n",
        "    (0, \"Bill Chambers\", 0, [100]), # row 1 \n",
        "    (1, \"Matei Zaharia\", 1, [500, 250, 100]), # row 2\n",
        "    (2, \"Michael Armbrust\", 1, [250, 100])\n",
        "]).toDF('student_id','name','graduate_program_id',\"spark_status\") # specify column name\n",
        "\n",
        "graduateProgram = spark.createDataFrame([\n",
        "    (0, \"Masters\", \"School of Information\", \"UC Berkeley\"),\n",
        "    (2, \"Masters\", \"EECS\", \"UC Berkeley\"),\n",
        "    (1, \"Ph.D.\", \"Statistic\", \"UChicago\")\n",
        "]).toDF(\"id\", \"degree\", \"department\", \"school\")\n",
        "\n",
        "sparkStatus = spark.createDataFrame([\n",
        "    (500, \"Vice President\"),\n",
        "    (250, \"PMC Member\"),\n",
        "    (100, \"Contributor\")\n",
        "]).toDF(\"id\", \"status\")\n",
        "\n",
        "#Register in SQL\n",
        "person.createOrReplaceTempView(\"person\")\n",
        "graduateProgram.createOrReplaceTempView(\"graduateProgram\")\n",
        "sparkStatus.createOrReplaceTempView(\"sparkStatus\")"
      ],
      "execution_count": 231,
      "outputs": []
    },
    {
      "cell_type": "markdown",
      "metadata": {
        "id": "ixXVziYLTfSb"
      },
      "source": [
        "## Inner Joins (default)\n",
        "evaluate the keys in both of the DataFrames and include\n",
        "only the rows that evaluate to true.  \n",
        "So we have to express keys for Spark to evaluate\n",
        "\n",
        "API = 'inner', default  \n",
        "SQL = JOIN, INNER JOIN"
      ]
    },
    {
      "cell_type": "code",
      "metadata": {
        "id": "GvoFvM1NTfSc",
        "colab": {
          "base_uri": "https://localhost:8080/"
        },
        "outputId": "be4ca395-1961-4e58-b1d9-5a20fa9da0c1"
      },
      "source": [
        "# 1. express keys for Spark to evaluate\n",
        "joinExpression = person['graduate_program_id'] == graduateProgram['id']\n",
        "# 2.join\n",
        "person.join(graduateProgram,joinExpression,'inner').show() #left.join(right,expression,'how')"
      ],
      "execution_count": 232,
      "outputs": [
        {
          "output_type": "stream",
          "name": "stdout",
          "text": [
            "+----------+----------------+-------------------+---------------+---+-------+--------------------+-----------+\n",
            "|student_id|            name|graduate_program_id|   spark_status| id| degree|          department|     school|\n",
            "+----------+----------------+-------------------+---------------+---+-------+--------------------+-----------+\n",
            "|         0|   Bill Chambers|                  0|          [100]|  0|Masters|School of Informa...|UC Berkeley|\n",
            "|         1|   Matei Zaharia|                  1|[500, 250, 100]|  1|  Ph.D.|           Statistic|   UChicago|\n",
            "|         2|Michael Armbrust|                  1|     [250, 100]|  1|  Ph.D.|           Statistic|   UChicago|\n",
            "+----------+----------------+-------------------+---------------+---+-------+--------------------+-----------+\n",
            "\n"
          ]
        }
      ]
    },
    {
      "cell_type": "code",
      "metadata": {
        "id": "tUePv3FVTfSe",
        "outputId": "b9e34227-5e4e-451d-93bf-4f846fe0b8ea"
      },
      "source": [
        "# equal to this spark.SQL\n",
        "spark.sql(\"\"\"\n",
        "SELECT *\n",
        "FROM PERSON P\n",
        "JOIN graduateProgram G on P.graduate_program_id = G.ID \"\"\").show()"
      ],
      "execution_count": null,
      "outputs": [
        {
          "name": "stdout",
          "output_type": "stream",
          "text": [
            "+----------+----------------+-------------------+---------------+---+-------+--------------------+-----------+\n",
            "|student_id|            name|graduate_program_id|   spark_status| id| degree|          department|     school|\n",
            "+----------+----------------+-------------------+---------------+---+-------+--------------------+-----------+\n",
            "|         0|   Bill Chambers|                  0|          [100]|  0|Masters|School of Informa...|UC Berkeley|\n",
            "|         1|   Matei Zaharia|                  1|[500, 250, 100]|  1|  Ph.D.|           Statistic|   UChicago|\n",
            "|         2|Michael Armbrust|                  1|     [250, 100]|  1|  Ph.D.|           Statistic|   UChicago|\n",
            "+----------+----------------+-------------------+---------------+---+-------+--------------------+-----------+\n",
            "\n"
          ]
        }
      ]
    },
    {
      "cell_type": "markdown",
      "metadata": {
        "id": "dK0H9pYyTfSe"
      },
      "source": [
        "## Outer Joins (Full outer joins)\n",
        "evaluate the keys in both of the DataFrames and includes the rows that evaluate to true or false. If there is no equivalent row in either the left or\n",
        "right DataFrame, Spark will insert null:  \n",
        "\n",
        "API = 'outer'  \n",
        "SQL = FULL OUTER JOIN or OUTER JOIN"
      ]
    },
    {
      "cell_type": "code",
      "metadata": {
        "id": "cBJqN2v2TfSe",
        "outputId": "46bcdc09-2f87-41d8-ccae-0bfd41440604"
      },
      "source": [
        "person.join(graduateProgram,joinExpression,'outer').show() # program id 2 cant match and return null for empty field"
      ],
      "execution_count": null,
      "outputs": [
        {
          "name": "stdout",
          "output_type": "stream",
          "text": [
            "+----------+----------------+-------------------+---------------+---+-------+--------------------+-----------+\n",
            "|student_id|            name|graduate_program_id|   spark_status| id| degree|          department|     school|\n",
            "+----------+----------------+-------------------+---------------+---+-------+--------------------+-----------+\n",
            "|         0|   Bill Chambers|                  0|          [100]|  0|Masters|School of Informa...|UC Berkeley|\n",
            "|         1|   Matei Zaharia|                  1|[500, 250, 100]|  1|  Ph.D.|           Statistic|   UChicago|\n",
            "|         2|Michael Armbrust|                  1|     [250, 100]|  1|  Ph.D.|           Statistic|   UChicago|\n",
            "|      null|            null|               null|           null|  2|Masters|                EECS|UC Berkeley|\n",
            "+----------+----------------+-------------------+---------------+---+-------+--------------------+-----------+\n",
            "\n"
          ]
        }
      ]
    },
    {
      "cell_type": "markdown",
      "metadata": {
        "id": "WrPVmcpCTfSf"
      },
      "source": [
        "## Left Join (Left Join Outer JOIN)\n",
        "Left outer joins evaluate the keys in both of the DataFrames or tables and includes all rows from\n",
        "the left DataFrame as well as any rows in the right DataFrame that must have a match in the left\n",
        "DataFrame\n",
        "\n",
        "API = 'left' or 'left_outer'  \n",
        "SQL = LEFT JOIN or LEFT OUTER JOIN"
      ]
    },
    {
      "cell_type": "code",
      "metadata": {
        "id": "s29CFpeOTfSf",
        "outputId": "8fd5ecf4-7975-4321-ef29-b1cc33882c73"
      },
      "source": [
        "graduateProgram.join(person,joinExpression,'left_outer').show()"
      ],
      "execution_count": null,
      "outputs": [
        {
          "name": "stdout",
          "output_type": "stream",
          "text": [
            "+---+-------+--------------------+-----------+----------+----------------+-------------------+---------------+\n",
            "| id| degree|          department|     school|student_id|            name|graduate_program_id|   spark_status|\n",
            "+---+-------+--------------------+-----------+----------+----------------+-------------------+---------------+\n",
            "|  0|Masters|School of Informa...|UC Berkeley|         0|   Bill Chambers|                  0|          [100]|\n",
            "|  1|  Ph.D.|           Statistic|   UChicago|         1|   Matei Zaharia|                  1|[500, 250, 100]|\n",
            "|  1|  Ph.D.|           Statistic|   UChicago|         2|Michael Armbrust|                  1|     [250, 100]|\n",
            "|  2|Masters|                EECS|UC Berkeley|      null|            null|               null|           null|\n",
            "+---+-------+--------------------+-----------+----------+----------------+-------------------+---------------+\n",
            "\n"
          ]
        }
      ]
    },
    {
      "cell_type": "markdown",
      "metadata": {
        "id": "W2sPGUW-TfSf"
      },
      "source": [
        "## Right Joins (Right outer join)\n",
        "evaluate the keys in both of the DataFrames or tables and includes all rows\n",
        "from the right DataFrame as well as any rows in the left DataFrame that have a match in the right\n",
        "\n",
        "API = 'right' or 'right_outer'  \n",
        "SQL = RIGHT JOIN  or RIGHT OUTER JOIN"
      ]
    },
    {
      "cell_type": "markdown",
      "metadata": {
        "id": "bWsufz-DTfSf"
      },
      "source": [
        "## Left Semi Joins\n",
        "\n",
        "**Inner join but return only data from the left table** (Return data in table left that has key match in table right)   \n",
        "API = 'left_semi'  \n",
        "SQL = LEFT SEMI JOIN"
      ]
    },
    {
      "cell_type": "code",
      "metadata": {
        "id": "LD_Fb7d9TfSf",
        "outputId": "2926f613-9cad-461a-fea6-d829a8b61d65"
      },
      "source": [
        "graduateProgram.join(person, joinExpression, 'left_semi').show()"
      ],
      "execution_count": null,
      "outputs": [
        {
          "name": "stdout",
          "output_type": "stream",
          "text": [
            "+---+-------+--------------------+-----------+\n",
            "| id| degree|          department|     school|\n",
            "+---+-------+--------------------+-----------+\n",
            "|  0|Masters|School of Informa...|UC Berkeley|\n",
            "|  1|  Ph.D.|           Statistic|   UChicago|\n",
            "+---+-------+--------------------+-----------+\n",
            "\n"
          ]
        }
      ]
    },
    {
      "cell_type": "markdown",
      "metadata": {
        "id": "Jh1FKDLxTfSf"
      },
      "source": [
        "## Left Anti Joins\n",
        "\n",
        "Return only the data from left table that keys not in the right table (Simialr to NOT IN)\n",
        "\n",
        "DPI = 'left_anti'\n",
        "SQL = NOT IN , LEFT ANTI JOIN"
      ]
    },
    {
      "cell_type": "code",
      "metadata": {
        "id": "Ti97wBT4TfSf",
        "outputId": "da78761c-ba4c-4abf-e435-443363deda77"
      },
      "source": [
        "graduateProgram.join(person, joinExpression, 'left_anti').show()"
      ],
      "execution_count": null,
      "outputs": [
        {
          "name": "stdout",
          "output_type": "stream",
          "text": [
            "+---+-------+----------+-----------+\n",
            "| id| degree|department|     school|\n",
            "+---+-------+----------+-----------+\n",
            "|  2|Masters|      EECS|UC Berkeley|\n",
            "+---+-------+----------+-----------+\n",
            "\n"
          ]
        }
      ]
    },
    {
      "cell_type": "code",
      "metadata": {
        "id": "4RZoQlETTfSf",
        "outputId": "997a522b-57fd-4e97-ac2a-578c276d448f"
      },
      "source": [
        "# Same thing as not in below\n",
        "spark.sql(\"\"\"\n",
        "select *\n",
        "FROM graduateProgram \n",
        "WHERE graduateProgram.id not in (SELECT graduate_program_id\n",
        "                                FROM person)\n",
        "\"\"\").show()"
      ],
      "execution_count": null,
      "outputs": [
        {
          "name": "stdout",
          "output_type": "stream",
          "text": [
            "+---+-------+----------+-----------+\n",
            "| id| degree|department|     school|\n",
            "+---+-------+----------+-----------+\n",
            "|  2|Masters|      EECS|UC Berkeley|\n",
            "+---+-------+----------+-----------+\n",
            "\n"
          ]
        }
      ]
    },
    {
      "cell_type": "markdown",
      "metadata": {
        "id": "Mb_TzLwJTfSg"
      },
      "source": [
        "## Join on complex type (Join item in the list)"
      ]
    },
    {
      "cell_type": "markdown",
      "metadata": {
        "id": "sWNnyfhTTfSg"
      },
      "source": [
        "Join id which in the list in the spark_status"
      ]
    },
    {
      "cell_type": "code",
      "metadata": {
        "id": "nY8NPxXZTfSg",
        "outputId": "52648796-68f6-4d4e-e2ab-6603853ed4c2"
      },
      "source": [
        "# column id populate from spark_status\n",
        "person.join(sparkStatus, expr(\"array_contains(spark_status, id)\")).show()"
      ],
      "execution_count": null,
      "outputs": [
        {
          "name": "stdout",
          "output_type": "stream",
          "text": [
            "+----------+----------------+-------------------+---------------+---+--------------+\n",
            "|student_id|            name|graduate_program_id|   spark_status| id|        status|\n",
            "+----------+----------------+-------------------+---------------+---+--------------+\n",
            "|         0|   Bill Chambers|                  0|          [100]|100|   Contributor|\n",
            "|         1|   Matei Zaharia|                  1|[500, 250, 100]|500|Vice President|\n",
            "|         1|   Matei Zaharia|                  1|[500, 250, 100]|250|    PMC Member|\n",
            "|         1|   Matei Zaharia|                  1|[500, 250, 100]|100|   Contributor|\n",
            "|         2|Michael Armbrust|                  1|     [250, 100]|250|    PMC Member|\n",
            "|         2|Michael Armbrust|                  1|     [250, 100]|100|   Contributor|\n",
            "+----------+----------------+-------------------+---------------+---+--------------+\n",
            "\n"
          ]
        }
      ]
    },
    {
      "cell_type": "markdown",
      "metadata": {
        "id": "_pw8j_-YTfSg"
      },
      "source": [
        "## Handling Duplicate Column Names"
      ]
    },
    {
      "cell_type": "markdown",
      "metadata": {
        "id": "pffgp7J2TfSg"
      },
      "source": [
        "If two key column from 2 tables have the same name. Result will be error when reference, better to change name one of the column or dropping the column after join"
      ]
    },
    {
      "cell_type": "code",
      "metadata": {
        "id": "NzU3p9VATfSg",
        "outputId": "be9f16d0-5b89-41c5-9e4d-c67572bfb76d"
      },
      "source": [
        "# set up the same name column\n",
        "person2 = person.withColumnRenamed('graduate_program_id','id')\n",
        "\n",
        "# we drop duplicate id after join\n",
        "joinExpr = graduateProgram['id'] == person2['id']\n",
        "person2.join(graduateProgram,joinExpr).drop(graduateProgram['id']).show()"
      ],
      "execution_count": null,
      "outputs": [
        {
          "name": "stdout",
          "output_type": "stream",
          "text": [
            "+----------+----------------+---+---------------+-------+--------------------+-----------+\n",
            "|student_id|            name| id|   spark_status| degree|          department|     school|\n",
            "+----------+----------------+---+---------------+-------+--------------------+-----------+\n",
            "|         0|   Bill Chambers|  0|          [100]|Masters|School of Informa...|UC Berkeley|\n",
            "|         1|   Matei Zaharia|  1|[500, 250, 100]|  Ph.D.|           Statistic|   UChicago|\n",
            "|         2|Michael Armbrust|  1|     [250, 100]|  Ph.D.|           Statistic|   UChicago|\n",
            "+----------+----------------+---+---------------+-------+--------------------+-----------+\n",
            "\n"
          ]
        }
      ]
    },
    {
      "cell_type": "code",
      "metadata": {
        "id": "v9Pcn9-7TfSh",
        "outputId": "270c4aaf-dea3-4ceb-d912-50ed3c7de4e1"
      },
      "source": [
        "# join on string instad of boolean expression\n",
        "person2.join(graduateProgram,'id').show() # must be same name to be able to directly express in string"
      ],
      "execution_count": null,
      "outputs": [
        {
          "name": "stdout",
          "output_type": "stream",
          "text": [
            "+---+----------+----------------+---------------+-------+--------------------+-----------+\n",
            "| id|student_id|            name|   spark_status| degree|          department|     school|\n",
            "+---+----------+----------------+---------------+-------+--------------------+-----------+\n",
            "|  0|         0|   Bill Chambers|          [100]|Masters|School of Informa...|UC Berkeley|\n",
            "|  1|         1|   Matei Zaharia|[500, 250, 100]|  Ph.D.|           Statistic|   UChicago|\n",
            "|  1|         2|Michael Armbrust|     [250, 100]|  Ph.D.|           Statistic|   UChicago|\n",
            "+---+----------+----------------+---------------+-------+--------------------+-----------+\n",
            "\n"
          ]
        }
      ]
    },
    {
      "cell_type": "markdown",
      "metadata": {
        "id": "BkyxHUAYTfSh"
      },
      "source": [
        "## Communication Strategies"
      ]
    },
    {
      "cell_type": "markdown",
      "metadata": {
        "id": "cxl22_Z9TfSh"
      },
      "source": [
        "### Big table–to–big table\n",
        "Spark use *shuffle join* to join a big table to another big table.  \n",
        "This means every node(Executors) talk and share keys with every other node that store partitions of data. (expensive joins)\n",
        "\n",
        "### Big table–to–small table\n",
        "Table is small enough to fit in the memory of single worker node. Spark use *broadcast join* which means replicate small DataFrame onto every worker node in the cluster. This prevent us from performing the all-to-all communication during the entire join process then let each individual worker node perform the\n",
        "work without having to wait or communicate with any other worker nodes."
      ]
    },
    {
      "cell_type": "markdown",
      "metadata": {
        "id": "eRvdQ6YXTfSh"
      },
      "source": [
        "# Part 9. Data Sources"
      ]
    },
    {
      "cell_type": "markdown",
      "metadata": {
        "id": "40twU-eKTfSh"
      },
      "source": [
        "## The Structure of the Data Sources API"
      ]
    },
    {
      "cell_type": "markdown",
      "metadata": {
        "id": "9dPI4IIjTfSh"
      },
      "source": [
        "### Read API Structure"
      ]
    },
    {
      "cell_type": "code",
      "metadata": {
        "id": "ATSQm29CTfSh"
      },
      "source": [
        "# version 1\n",
        "spark.read.format(...).option(\"mode\", \"FAILFAST\").option(\"key\", \"value\").schema(...).load()\n",
        "# version 2\n",
        "spark.read.csv(\n",
        "    datapath\n",
        "    ,schema\n",
        "    ,header\n",
        "    ,mode\n",
        ")"
      ],
      "execution_count": null,
      "outputs": []
    },
    {
      "cell_type": "markdown",
      "metadata": {
        "id": "oXdKTEY0TfSh"
      },
      "source": [
        "After we have a DataFrame reader, we specify several values:  \n",
        "The format  \n",
        "The schema  \n",
        "The read mode  \n",
        "A series of options  "
      ]
    },
    {
      "cell_type": "markdown",
      "metadata": {
        "id": "CHYmLdiiTfSi"
      },
      "source": [
        "#### Read modes\n",
        "Read modes specify what will happen\n",
        "when Spark does come across malformed records\n",
        "\n",
        "| Read mode     | Description                                                                                                                              |\n",
        "|---------------|------------------------------------------------------------------------------------------------------------------------------------------|\n",
        "| permissive    | Sets all fields to null when it encounters a corrupted record and places all corrupted records in a string column called _corrupt_record |\n",
        "| dropMalformed | Drops the row that contains malformed records                                                                                            |\n",
        "| failFast      | Fails immediately upon encountering malformed records                                                                                    |"
      ]
    },
    {
      "cell_type": "markdown",
      "metadata": {
        "id": "Z4QDdKhHTfSi"
      },
      "source": [
        "### Write API Structure"
      ]
    },
    {
      "cell_type": "code",
      "metadata": {
        "id": "NuaWgYvaTfSi"
      },
      "source": [
        "DataFrameWriter.format(...).option(...).partitionBy(...).bucketBy(...).sortBy(...).save()\n",
        "# or\n",
        "spark.write.csv(\n",
        "    #...\n",
        ")"
      ],
      "execution_count": null,
      "outputs": []
    },
    {
      "cell_type": "markdown",
      "metadata": {
        "id": "lapcf9AoTfSi"
      },
      "source": [
        "#### Save modes\n",
        "\n",
        "| Save mode     | Description                                                                                  |\n",
        "|---------------|----------------------------------------------------------------------------------------------|\n",
        "| append        | Appends the output files to the list of files that already exist at that location            |\n",
        "| overwrite     | Will completely overwrite any data that already exists there                                 |\n",
        "| errorIfExists | Throws an error and fails the write if data or files already exist at the specified location |\n",
        "| ignore        | If data or files exist at the location, do nothing with the current DataFrame                |\n",
        "\n",
        "The default is errorIfExists. This means that if Spark finds data at the location to which\n",
        "you’re writing, it will fail the write immediately."
      ]
    },
    {
      "cell_type": "markdown",
      "metadata": {
        "id": "J9vJybZdTfSi"
      },
      "source": [
        "## CSV Files"
      ]
    },
    {
      "cell_type": "markdown",
      "metadata": {
        "id": "bVvR7VpxTfSi"
      },
      "source": [
        "### Read CSV"
      ]
    },
    {
      "cell_type": "code",
      "metadata": {
        "id": "BJ_vPXTaTfSi"
      },
      "source": [
        "# csv files\n",
        "spark.read.format(\"csv\")\\\n",
        "            .option(\"header\", \"true\")\\\n",
        "            .option(\"mode\", \"FAILFAST\")\\\n",
        "            .option(\"inferSchema\", \"true\")\\ #Specifies whether Spark should infer column types when reading the file.\n",
        "            .load(\"some/path/to/file.csv\")\\"
      ],
      "execution_count": null,
      "outputs": []
    },
    {
      "cell_type": "markdown",
      "metadata": {
        "id": "noDZPG1nTfSi"
      },
      "source": [
        "### Write CSV"
      ]
    },
    {
      "cell_type": "code",
      "metadata": {
        "id": "4GHOOLlfTfSi"
      },
      "source": [
        "# version 1\n",
        "# read to FileForWrite first\n",
        "csvFile = spark.read.format(\"csv\")\\\n",
        "            .option(\"header\", \"true\")\\\n",
        "            .option(\"mode\", \"FAILFAST\")\\\n",
        "            .option(\"inferSchema\", \"true\")\\\n",
        "            .load(\"data/flight-data/csv/2010-summary.csv\")\n",
        "# then write\n",
        "csvFile.write.format(\"csv\").mode(\"overwrite\").option(\"sep\", \"\\t\").save(\"tmp/my-tsv-file.tsv\")\n",
        "#This actually reflects the number of partitions in our DataFrame at the time we write it out. If"
      ],
      "execution_count": null,
      "outputs": []
    },
    {
      "cell_type": "code",
      "metadata": {
        "id": "2WWssrlR6a5Z"
      },
      "source": [
        "# version2\n",
        "csvFile = spark.read.csv(\n",
        "    datapath + 'flight-data/csv/2010-summary.csv'\n",
        "    ,header = True\n",
        "    ,mode = \"FAILFAST\"\n",
        "    ,inferSchema = True\n",
        ")\n",
        "# then write\n",
        "csvFile.write.parquet(\n",
        "    datapath + 'tmp/tmkp.parquet'\n",
        "    ,mode = 'overwrite'\n",
        ")"
      ],
      "execution_count": 235,
      "outputs": []
    },
    {
      "cell_type": "code",
      "metadata": {
        "colab": {
          "base_uri": "https://localhost:8080/"
        },
        "id": "tP92gXP77HbS",
        "outputId": "7e6d0efc-d497-4a0b-8b9d-a66ef7bb68af"
      },
      "source": [
        "%%shell\n",
        "ls Spark-The-Definitive-Guide/data/tmp/"
      ],
      "execution_count": 239,
      "outputs": [
        {
          "output_type": "stream",
          "name": "stdout",
          "text": [
            "tmkp.parquet\n"
          ]
        },
        {
          "output_type": "execute_result",
          "data": {
            "text/plain": [
              ""
            ]
          },
          "metadata": {},
          "execution_count": 239
        }
      ]
    },
    {
      "cell_type": "markdown",
      "metadata": {
        "id": "IWPYWks2UZQ2"
      },
      "source": [
        "## Comparison\n",
        "| Type    | <span style=\"white-space:nowrap\">Inference Type</span> | <span style=\"white-space:nowrap\">Inference Speed</span> | Reason                                          | <span style=\"white-space:nowrap\">Should Supply Schema?</span> |\n",
        "|---------|--------------------------------------------------------|---------------------------------------------------------|----------------------------------------------------|:--------------:|\n",
        "| <b>CSV</b>     | <span style=\"white-space:nowrap\">Full-Data-Read</span> | <span style=\"white-space:nowrap\">Slow</span>            | <span style=\"white-space:nowrap\">File size</span>  | Yes            |\n",
        "| <b>Parquet</b> | <span style=\"white-space:nowrap\">Metadata-Read</span>  | <span style=\"white-space:nowrap\">Fast/Medium</span>     | <span style=\"white-space:nowrap\">Number of Partitions</span> | No (most cases)             |\n",
        "| <b>Tables</b>  | <span style=\"white-space:nowrap\">n/a</span>            | <span style=\"white-space:nowrap\">n/a</span>            | <span style=\"white-space:nowrap\">Predefined</span> | n/a            |\n",
        "| <b>JSON</b>    | <span style=\"white-space:nowrap\">Full-Read-Data</span> | <span style=\"white-space:nowrap\">Slow</span>            | <span style=\"white-space:nowrap\">File size</span>  | Yes            |\n",
        "| <b>Text</b>    | <span style=\"white-space:nowrap\">Dictated</span>       | <span style=\"white-space:nowrap\">Zero</span>            | <span style=\"white-space:nowrap\">Only 1 Column</span>   | Never          |\n",
        "| <b>JDBC</b>    | <span style=\"white-space:nowrap\">DB-Read</span>        | <span style=\"white-space:nowrap\">Fast</span>            | <span style=\"white-space:nowrap\">DB Schema</span>  | No             |"
      ]
    },
    {
      "cell_type": "markdown",
      "metadata": {
        "id": "iot8ZwyDUe25"
      },
      "source": [
        "### Reading CSV\n",
        "- `spark.read.csv(..)`\n",
        "- There are a large number of options when reading CSV files including headers, column separator, escaping, etc.\n",
        "- We can allow Spark to infer the schema at the cost of first reading in the entire file.\n",
        "- Large CSV files should always have a schema pre-defined."
      ]
    },
    {
      "cell_type": "markdown",
      "metadata": {
        "id": "lnbqDEDyUfb4"
      },
      "source": [
        "### Reading Parquet\n",
        "- `spark.read.parquet(..)`\n",
        "- Parquet files are the preferred file format for big-data.\n",
        "- It is a columnar file format.\n",
        "- It is a splittable file format.\n",
        "- It offers a lot of performance benefits over other formats including predicate pushdown.\n",
        "- Unlike CSV, the schema is read in, not inferred.\n",
        "- Reading the schema from Parquet's metadata can be extremely efficient."
      ]
    },
    {
      "cell_type": "markdown",
      "metadata": {
        "id": "PxK2pus2Uffq"
      },
      "source": [
        "### Reading Tables\n",
        "- `spark.read.table(..)`\n",
        "- The Databricks platform allows us to register a huge variety of data sources as tables via the Databricks UI.\n",
        "- Any `DataFrame` (from CSV, Parquet, whatever) can be registered as a temporary view.\n",
        "- Tables/Views can be loaded via the `DataFrameReader` to produce a `DataFrame`\n",
        "- Tables/Views can be used directly in SQL statements."
      ]
    },
    {
      "cell_type": "markdown",
      "metadata": {
        "id": "IeyqF_f9Ufjv"
      },
      "source": [
        "### Reading JSON\n",
        "- `spark.read.json(..)`\n",
        "- JSON represents complex data types unlike CSV's flat format.\n",
        "- Has many of the same limitations as CSV (needing to read the entire file to infer the schema)\n",
        "- Like CSV has a lot of options allowing control on date formats, escaping, single vs. multiline JSON, etc."
      ]
    },
    {
      "cell_type": "markdown",
      "metadata": {
        "id": "VEJlRb83UfoM"
      },
      "source": [
        "### Reading Text\n",
        "- `spark.read.text(..)`\n",
        "- Reads one line of text as a single column named `value`.\n",
        "- Is the basis for more complex file formats such as fixed-width text files."
      ]
    },
    {
      "cell_type": "markdown",
      "metadata": {
        "id": "mIFCP5uqUfry"
      },
      "source": [
        "### Reading JDBC\n",
        "- `spark.read.jdbc(..)`\n",
        "- Requires one database connection per partition.\n",
        "- Has the potential to overwhelm the database.\n",
        "- Requires specification of a stride to properly balance partitions."
      ]
    },
    {
      "cell_type": "markdown",
      "metadata": {
        "id": "yoAfnqC-TfSi"
      },
      "source": [
        "## JSON file"
      ]
    },
    {
      "cell_type": "markdown",
      "metadata": {
        "id": "uIHA1Sa8TfSj"
      },
      "source": [
        "Read-in types:  \n",
        "\n",
        "MultiLine. When you set this option to true, you can read an entire file as one dataframe  \n",
        "Line-delimited JSON is actually a much more stable format because it allows you to append to a file with a new record"
      ]
    },
    {
      "cell_type": "markdown",
      "metadata": {
        "id": "BCHjNrd1TfSj"
      },
      "source": [
        "### Reading JSON Files"
      ]
    },
    {
      "cell_type": "code",
      "metadata": {
        "id": "_Xs0hfddTfSj",
        "outputId": "434f0c41-e60f-494a-bce5-71e7254bfc2f"
      },
      "source": [
        "spark.read.format('json').option('mode','failfast').option('inferSchema','true')\\\n",
        ".load(\"data/flight-data/json/2010-summary.json\").show(3)"
      ],
      "execution_count": null,
      "outputs": [
        {
          "name": "stdout",
          "output_type": "stream",
          "text": [
            "+-----------------+-------------------+-----+\n",
            "|DEST_COUNTRY_NAME|ORIGIN_COUNTRY_NAME|count|\n",
            "+-----------------+-------------------+-----+\n",
            "|    United States|            Romania|    1|\n",
            "|    United States|            Ireland|  264|\n",
            "|    United States|              India|   69|\n",
            "+-----------------+-------------------+-----+\n",
            "only showing top 3 rows\n",
            "\n"
          ]
        }
      ]
    },
    {
      "cell_type": "markdown",
      "metadata": {
        "id": "_FgRSUCETfSj"
      },
      "source": [
        "### Writing JSON Files"
      ]
    },
    {
      "cell_type": "code",
      "metadata": {
        "id": "E30-xaP7TfSj"
      },
      "source": [
        "#reuse the CSV DataFrame that we created earlier to be the source for our JSON file\n",
        "csvFile.write.format(\"json\").mode(\"overwrite\").save(\"tmp/my-json-file.json\")"
      ],
      "execution_count": null,
      "outputs": []
    },
    {
      "cell_type": "markdown",
      "metadata": {
        "id": "gvK5gFPKTfSj"
      },
      "source": [
        "## Parquet Files\n",
        "\n",
        "Parquet is an open source column-oriented data store that provides a variety of storage\n",
        "optimizations, especially for analytics workloads.  \n",
        "We\n",
        "recommend writing data out to Parquet for long-term storage because reading from a Parquet file\n",
        "will always be more efficient than JSON or CSV. Another advantage of Parquet is that it\n",
        "supports complex types(array,map, or struct)."
      ]
    },
    {
      "cell_type": "markdown",
      "metadata": {
        "id": "5ZQtFhvMTfSj"
      },
      "source": [
        "### Reading Parquet Files"
      ]
    },
    {
      "cell_type": "code",
      "metadata": {
        "id": "OORl2snRTfSk",
        "outputId": "300d2dad-28f5-48a1-c547-830dde1f8e97"
      },
      "source": [
        "spark.read.format(\"parquet\")\\\n",
        ".load(\"data/flight-data/parquet/2010-summary.parquet\").show(5)"
      ],
      "execution_count": null,
      "outputs": [
        {
          "name": "stdout",
          "output_type": "stream",
          "text": [
            "+-----------------+-------------------+-----+\n",
            "|DEST_COUNTRY_NAME|ORIGIN_COUNTRY_NAME|count|\n",
            "+-----------------+-------------------+-----+\n",
            "|    United States|            Romania|    1|\n",
            "|    United States|            Ireland|  264|\n",
            "|    United States|              India|   69|\n",
            "|            Egypt|      United States|   24|\n",
            "|Equatorial Guinea|      United States|    1|\n",
            "+-----------------+-------------------+-----+\n",
            "only showing top 5 rows\n",
            "\n"
          ]
        }
      ]
    },
    {
      "cell_type": "markdown",
      "metadata": {
        "id": "thZjVuOCTfSk"
      },
      "source": [
        "### Writing Parquet Files "
      ]
    },
    {
      "cell_type": "code",
      "metadata": {
        "id": "TAKW-WgbTfSk"
      },
      "source": [
        "csvFile.write.format(\"parquet\").mode(\"overwrite\")\\\n",
        ".save(\"tmp/my-parquet-file.parquet\")"
      ],
      "execution_count": null,
      "outputs": []
    },
    {
      "cell_type": "markdown",
      "metadata": {
        "id": "B5YI6WTaTfSk"
      },
      "source": [
        "## SQL Databases"
      ]
    },
    {
      "cell_type": "code",
      "metadata": {
        "id": "uGFE7G6CTfSk"
      },
      "source": [
        "# defined the connection properties\n",
        "driver = \"org.sqlite.JDBC\"\n",
        "path = \"data/flight-data/jdbc/my-sqlite.db\"\n",
        "url = \"jdbc:sqlite:\" + path\n",
        "tablename = \"flight_info\""
      ],
      "execution_count": null,
      "outputs": []
    },
    {
      "cell_type": "code",
      "metadata": {
        "id": "bByH2e2oTfSk"
      },
      "source": [
        "dbDataFrame = spark.read.format(\"jdbc\").option(\"url\", url)\\\n",
        ".option(\"dbtable\", tablename).option(\"driver\", driver).load()"
      ],
      "execution_count": null,
      "outputs": []
    },
    {
      "cell_type": "code",
      "metadata": {
        "id": "Tp6IWaSDTfSk"
      },
      "source": [
        "# pass SQL query down \n",
        "pushdownQuery = \"\"\"(SELECT DISTINCT(DEST_COUNTRY_NAME) FROM flight_info) AS flight_info\"\"\"\n",
        "dbDataFrame = spark.read.format(\"jdbc\")\\\n",
        ".option(\"url\", url).option(\"dbtable\", pushdownQuery).option(\"driver\", driver)\\\n",
        ".load()"
      ],
      "execution_count": null,
      "outputs": []
    },
    {
      "cell_type": "markdown",
      "metadata": {
        "id": "fyTDrz6kTfSk"
      },
      "source": [
        "### Reading from databases in parallel"
      ]
    },
    {
      "cell_type": "markdown",
      "metadata": {
        "id": "um6lwXIkTfSl"
      },
      "source": [
        "Specify the ability to specify a maximum number of\n",
        "partitions to allow you to limit how much you are reading and writing in parallel:"
      ]
    },
    {
      "cell_type": "code",
      "metadata": {
        "id": "OFuiMeo-TfSl"
      },
      "source": [
        "dbDataFrame = spark.read.format(\"jdbc\")\\\n",
        ".option(\"url\", url).option(\"dbtable\", tablename).option(\"driver\", driver)\\\n",
        ".option(\"numPartitions\", 10).load()"
      ],
      "execution_count": null,
      "outputs": []
    },
    {
      "cell_type": "markdown",
      "metadata": {
        "id": "_98RJ-4ATfSl"
      },
      "source": [
        "we can also go further by having them arrive in their own partitions\n",
        "in Spark. We do that by specifying a list of predicates when we create the data source:"
      ]
    },
    {
      "cell_type": "code",
      "metadata": {
        "id": "u5RNxXTMTfSl"
      },
      "source": [
        "props = {\"driver\":\"org.sqlite.JDBC\"}\n",
        "predicates = [\n",
        "            \"DEST_COUNTRY_NAME = 'Sweden' OR ORIGIN_COUNTRY_NAME = 'Sweden'\",\n",
        "            \"DEST_COUNTRY_NAME = 'Anguilla' OR ORIGIN_COUNTRY_NAME = 'Anguilla'\"]\n",
        "spark.read.jdbc(url, tablename, predicates=predicates, properties=props).show()\n",
        "spark.read.jdbc(url,tablename,predicates=predicates,properties=props)\\\n",
        ".rdd.getNumPartitions() # 2"
      ],
      "execution_count": null,
      "outputs": []
    },
    {
      "cell_type": "markdown",
      "metadata": {
        "id": "32KUz4acTfSl"
      },
      "source": [
        "### Partitioning based on a sliding window\n",
        "\n",
        "Spark then queries our database in parallel and returns numPartitions partitions.\n",
        "We simply modify the upper and lower bounds in order to place certain values in certain\n",
        "partitions"
      ]
    },
    {
      "cell_type": "code",
      "metadata": {
        "id": "wor1hywtTfSl"
      },
      "source": [
        "# set up\n",
        "colName = \"count\"\n",
        "lowerBound = 0\n",
        "upperBound = 348113 # this is the max count in our database\n",
        "numPartitions = 10"
      ],
      "execution_count": null,
      "outputs": []
    },
    {
      "cell_type": "code",
      "metadata": {
        "id": "25_HQZbqTfSl"
      },
      "source": [
        "# This will distribute the intervals equally from low to high:\n",
        "spark.read.jdbc(url, tablename, column=colName, properties=props,\n",
        "                lowerBound=lowerBound, upperBound=upperBound,\n",
        "                numPartitions=numPartitions).count() # 255"
      ],
      "execution_count": null,
      "outputs": []
    },
    {
      "cell_type": "markdown",
      "metadata": {
        "id": "CkgTEEeyTfSl"
      },
      "source": [
        "### Writing to SQL Databases"
      ]
    },
    {
      "cell_type": "code",
      "metadata": {
        "id": "UICdmUqdTfSl"
      },
      "source": [
        "newPath = \"jdbc:sqlite://tmp/my-sqlite.db\"\n",
        "csvFile.write.jdbc(newPath, tablename, mode=\"overwrite\", properties=props)"
      ],
      "execution_count": null,
      "outputs": []
    },
    {
      "cell_type": "markdown",
      "metadata": {
        "id": "x1IvU8pATfSm"
      },
      "source": [
        "## Text file"
      ]
    },
    {
      "cell_type": "markdown",
      "metadata": {
        "id": "NZCovrqxTfSm"
      },
      "source": [
        "### Read text"
      ]
    },
    {
      "cell_type": "code",
      "metadata": {
        "colab": {
          "base_uri": "https://localhost:8080/"
        },
        "id": "Zy9bmzms8FL1",
        "outputId": "7baf3695-19a0-409d-fd10-6933080938b2"
      },
      "source": [
        "spark.read.text(datapath + \"flight-data/csv/2010-summary.csv\")\\\n",
        ".selectExpr('*').show(4,False)"
      ],
      "execution_count": 246,
      "outputs": [
        {
          "output_type": "stream",
          "name": "stdout",
          "text": [
            "+-------------------------------------------+\n",
            "|value                                      |\n",
            "+-------------------------------------------+\n",
            "|DEST_COUNTRY_NAME,ORIGIN_COUNTRY_NAME,count|\n",
            "|United States,Romania,1                    |\n",
            "|United States,Ireland,264                  |\n",
            "|United States,India,69                     |\n",
            "+-------------------------------------------+\n",
            "only showing top 4 rows\n",
            "\n"
          ]
        }
      ]
    },
    {
      "cell_type": "code",
      "metadata": {
        "id": "H4mx5dvzTfSm",
        "colab": {
          "base_uri": "https://localhost:8080/"
        },
        "outputId": "1e657f80-b3ff-41e2-b28f-b65ae8c035b4"
      },
      "source": [
        "spark.read.text(datapath + \"flight-data/csv/2010-summary.csv\")\\\n",
        ".selectExpr(\"split(value, ',') as rows\").show(5,False)"
      ],
      "execution_count": 252,
      "outputs": [
        {
          "output_type": "stream",
          "name": "stdout",
          "text": [
            "+-----------------------------------------------+\n",
            "|rows                                           |\n",
            "+-----------------------------------------------+\n",
            "|[DEST_COUNTRY_NAME, ORIGIN_COUNTRY_NAME, count]|\n",
            "|[United States, Romania, 1]                    |\n",
            "|[United States, Ireland, 264]                  |\n",
            "|[United States, India, 69]                     |\n",
            "|[Egypt, United States, 24]                     |\n",
            "+-----------------------------------------------+\n",
            "only showing top 5 rows\n",
            "\n"
          ]
        }
      ]
    },
    {
      "cell_type": "markdown",
      "metadata": {
        "id": "OctZD3byTfSm"
      },
      "source": [
        "### Write text\n",
        "make sure to have only one string column; otherwise, the\n",
        "write will fail:"
      ]
    },
    {
      "cell_type": "code",
      "metadata": {
        "id": "0eYS8HC-TfSm"
      },
      "source": [
        "FileForWrite.select(\"DEST_COUNTRY_NAME\").write.text(\"/tmp/simple-text-file2.txt\")"
      ],
      "execution_count": null,
      "outputs": []
    },
    {
      "cell_type": "markdown",
      "metadata": {
        "id": "KEJ_fmvsTfSm"
      },
      "source": [
        "## Splittable File Types and Compression\n",
        "\n",
        "We recommend Parquet with gzip compression."
      ]
    },
    {
      "cell_type": "markdown",
      "metadata": {
        "id": "tulw29GxTfSm"
      },
      "source": [
        "### Writing Data in Parallel"
      ]
    },
    {
      "cell_type": "code",
      "metadata": {
        "id": "LqOHiUgVTfSm"
      },
      "source": [
        "# will end up with five files inside of that folder\n",
        "csvFile.repartition(5).write.format(\"csv\").save(\"/tmp/multiple.csv\")"
      ],
      "execution_count": null,
      "outputs": []
    },
    {
      "cell_type": "markdown",
      "metadata": {
        "id": "JOyckg1kTfSm"
      },
      "source": [
        "### Partitioning\n",
        "Partitioning is a tool that allows you to control what data is stored (and where) as you write it.  \n",
        "Basically encode a column(or date) as a\n",
        "folder allows you to read in only the data relevant to your problem instead of having to scan the complete\n",
        "dataset."
      ]
    },
    {
      "cell_type": "code",
      "metadata": {
        "id": "cuWjC63YTfSn"
      },
      "source": [
        "csvFile.limit(10).write.mode(\"overwrite\").partitionBy(\"DEST_COUNTRY_NAME\")\\\n",
        ".save(\"tmp/partitioned-files.parquet\")"
      ],
      "execution_count": null,
      "outputs": []
    },
    {
      "cell_type": "markdown",
      "metadata": {
        "id": "473kOPXoTfSn"
      },
      "source": [
        "### Bucketing\n",
        "\n",
        "This will create a certain number of\n",
        "files and organize our data into those “buckets ID”: can help avoid shuffles later when you go to read the data\n",
        "because data with the same bucket ID will all be grouped together into one physical partition"
      ]
    },
    {
      "cell_type": "code",
      "metadata": {
        "id": "24uKwTObTfSn"
      },
      "source": [
        "numberBuckets = 10\n",
        "columnToBucketBy = \"count\""
      ],
      "execution_count": null,
      "outputs": []
    },
    {
      "cell_type": "code",
      "metadata": {
        "id": "jnLK0xG8TfSn"
      },
      "source": [
        "csvFile.write.format(\"parquet\").mode(\"overwrite\").bucketBy(numberBuckets, columnToBucketBy).saveAsTable(\"bucketedFiles\")"
      ],
      "execution_count": null,
      "outputs": []
    },
    {
      "cell_type": "markdown",
      "metadata": {
        "id": "_LrByqsfTfSn"
      },
      "source": [
        "**Managing file sizes is an important factor not so much for writing data but reading it later on.**  \n",
        "\n",
        "Too small files(small file problem) : incur significant metadata overhead that you incur\n",
        "managing all of those files.\n",
        "\n",
        "Too large files becomes inefficient to have to read entire blocks of data when you need only a\n",
        "few rows.\n",
        "\n",
        "Limit output file sizes so that you can target an optimum file size with $maxRecordsPerFile$ option and specify a number of your choosing"
      ]
    },
    {
      "cell_type": "code",
      "metadata": {
        "id": "7XcLEa8eTfSn"
      },
      "source": [
        "df.write.option(\"maxRecordsPerFile\", 5000)"
      ],
      "execution_count": null,
      "outputs": []
    },
    {
      "cell_type": "markdown",
      "metadata": {
        "id": "pikqldnKTfSn"
      },
      "source": [
        "# Part 10. Spark SQL\n",
        "\n",
        "Spark SQL is intended to operate as an online analytic processing (OLAP) database, not an online\n",
        "transaction processing (OLTP) database. This means that it is not intended to perform extremely lowlatency\n",
        "queries"
      ]
    },
    {
      "cell_type": "code",
      "metadata": {
        "id": "xucO8EaZTfSn",
        "outputId": "0dd414ea-2a42-459e-a69f-7647ff325d18"
      },
      "source": [
        "spark.sql(\"SELECT 1 + 1 as New_Column\").show()"
      ],
      "execution_count": null,
      "outputs": [
        {
          "name": "stdout",
          "output_type": "stream",
          "text": [
            "+----------+\n",
            "|New_Column|\n",
            "+----------+\n",
            "|         2|\n",
            "+----------+\n",
            "\n"
          ]
        }
      ]
    },
    {
      "cell_type": "markdown",
      "metadata": {
        "id": "bYEuletQTfSo"
      },
      "source": [
        "Combine SQL and DataFrame API to query"
      ]
    },
    {
      "cell_type": "code",
      "metadata": {
        "id": "ZujLrHYyTfSo"
      },
      "source": [
        "# create view\n",
        "spark.read.json(\"data/flight-data/json/2015-summary.json\")\\\n",
        ".createOrReplaceTempView(\"some_sql_view\") # DF => SQL"
      ],
      "execution_count": null,
      "outputs": []
    },
    {
      "cell_type": "code",
      "metadata": {
        "id": "nTnloJ5aTfSo",
        "outputId": "b2d942d7-2704-4e81-dcfc-8a692c43824d"
      },
      "source": [
        "spark.sql(\"\"\"select *\n",
        "            FROM some_sql_view\"\"\").show(2)"
      ],
      "execution_count": null,
      "outputs": [
        {
          "name": "stdout",
          "output_type": "stream",
          "text": [
            "+-----------------+-------------------+-----+\n",
            "|DEST_COUNTRY_NAME|ORIGIN_COUNTRY_NAME|count|\n",
            "+-----------------+-------------------+-----+\n",
            "|    United States|            Romania|   15|\n",
            "|    United States|            Croatia|    1|\n",
            "+-----------------+-------------------+-----+\n",
            "only showing top 2 rows\n",
            "\n"
          ]
        }
      ]
    },
    {
      "cell_type": "code",
      "metadata": {
        "id": "g2aI_43kTfSo",
        "outputId": "52af0da7-951f-471c-b575-c8637526ba27"
      },
      "source": [
        "spark.sql(\"\"\"SELECT DEST_COUNTRY_NAME, sum(count)\n",
        "            FROM some_sql_view \n",
        "            GROUP BY DEST_COUNTRY_NAME\"\"\")\\\n",
        ".where(\"DEST_COUNTRY_NAME like 'S%'\").where(\"`sum(count)` > 10\")\\ # Use back tick for sum \n",
        ".count() # SQL => DF"
      ],
      "execution_count": null,
      "outputs": [
        {
          "data": {
            "text/plain": [
              "12"
            ]
          },
          "execution_count": 44,
          "metadata": {},
          "output_type": "execute_result"
        }
      ]
    },
    {
      "cell_type": "markdown",
      "metadata": {
        "id": "zTHdqWCwTfSo"
      },
      "source": [
        "## SparkSQL Thrift JDBC/ODBC Server\n",
        "\n",
        "use case is for a business analyst to connect business intelligence software like Tableau to Spark through Java Database Connectivity (JDBC) interface.\n",
        "\n",
        "either launch $spark-sql$ and directly use sql or wrap sql in spark.sql in programmatic interface"
      ]
    },
    {
      "cell_type": "markdown",
      "metadata": {
        "id": "qHnP5m9CTfSo"
      },
      "source": [
        "## Table"
      ]
    },
    {
      "cell_type": "markdown",
      "metadata": {
        "id": "o0pdYstrTfSo"
      },
      "source": [
        "### Create tables"
      ]
    },
    {
      "cell_type": "markdown",
      "metadata": {
        "id": "KD6PJhDcTfSo"
      },
      "source": [
        "$USING$ specify format of target. If you do not specify the format, Spark will default to a Hive SerDe configuration."
      ]
    },
    {
      "cell_type": "code",
      "metadata": {
        "id": "qtfYb5jQTfSo",
        "outputId": "910bc320-eedd-4818-a8f8-98949af81d05"
      },
      "source": [
        "# create table using spark.sql\n",
        "spark.sql(\"\"\"CREATE TABLE flights (\n",
        "DEST_COUNTRY_NAME STRING, ORIGIN_COUNTRY_NAME STRING, count LONG)\n",
        "USING JSON OPTIONS (path 'data/flight-data/json/2015-summary.json')\"\"\")"
      ],
      "execution_count": null,
      "outputs": [
        {
          "data": {
            "text/plain": [
              "DataFrame[]"
            ]
          },
          "execution_count": 348,
          "metadata": {},
          "output_type": "execute_result"
        }
      ]
    },
    {
      "cell_type": "code",
      "metadata": {
        "id": "OO-ZeiUMTfSp",
        "outputId": "4343c3d1-5f6b-4150-c8f4-82c79d8d2107"
      },
      "source": [
        "# add comments to certain columns in a table\n",
        "spark.sql(\"\"\"CREATE TABLE flights_csv (DEST_COUNTRY_NAME STRING,\n",
        "                                        ORIGIN_COUNTRY_NAME STRING COMMENT \"remember, the US will be most prevalent\",\n",
        "                                        count LONG)\n",
        "USING csv OPTIONS (header true, path 'data/flight-data/csv/2015-summary.csv')\"\"\")"
      ],
      "execution_count": null,
      "outputs": [
        {
          "data": {
            "text/plain": [
              "DataFrame[]"
            ]
          },
          "execution_count": 90,
          "metadata": {},
          "output_type": "execute_result"
        }
      ]
    },
    {
      "cell_type": "code",
      "metadata": {
        "id": "kyazWfo3TfSp",
        "outputId": "35c3eea2-9bea-4e12-a0c6-075c1d853ecd"
      },
      "source": [
        "#query from table flights_csv3\n",
        "spark.sql(\"\"\"select * from flights_csv limit 3\"\"\").show()"
      ],
      "execution_count": null,
      "outputs": [
        {
          "name": "stdout",
          "output_type": "stream",
          "text": [
            "+-----------------+-------------------+-----+\n",
            "|DEST_COUNTRY_NAME|ORIGIN_COUNTRY_NAME|count|\n",
            "+-----------------+-------------------+-----+\n",
            "|    United States|            Romania|   15|\n",
            "|    United States|            Croatia|    1|\n",
            "|    United States|            Ireland|  344|\n",
            "+-----------------+-------------------+-----+\n",
            "\n"
          ]
        }
      ]
    },
    {
      "cell_type": "code",
      "metadata": {
        "id": "QjBe6kb6TfSp"
      },
      "source": [
        "# create partitioned table\n",
        "spark.sql(\"\"\"CREATE TABLE partitioned_flights USING parquet PARTITIONED BY (DEST_COUNTRY_NAME)\n",
        "AS SELECT DEST_COUNTRY_NAME, ORIGIN_COUNTRY_NAME, count FROM flights LIMIT 5\"\"\")"
      ],
      "execution_count": null,
      "outputs": []
    },
    {
      "cell_type": "code",
      "metadata": {
        "id": "04GCUnp1TfSp"
      },
      "source": [
        "# It is possible to create a table from a query as well:\n",
        "spark.sql(\"\"\"CREATE TABLE flights_from_select USING parquet AS SELECT * FROM flights\"\"\")"
      ],
      "execution_count": null,
      "outputs": []
    },
    {
      "cell_type": "markdown",
      "metadata": {
        "id": "OBflGpfOTfSp"
      },
      "source": [
        "Show and drop tables"
      ]
    },
    {
      "cell_type": "code",
      "metadata": {
        "id": "FqlG46NcTfSp",
        "outputId": "48985b37-ee48-4e70-ec9a-dab3f9bc897b"
      },
      "source": [
        "spark.sql('show tables').show()"
      ],
      "execution_count": null,
      "outputs": [
        {
          "name": "stdout",
          "output_type": "stream",
          "text": [
            "+--------+-------------+-----------+\n",
            "|database|    tableName|isTemporary|\n",
            "+--------+-------------+-----------+\n",
            "| default|      flights|      false|\n",
            "| default|  flights_csv|      false|\n",
            "|        |some_sql_view|       true|\n",
            "+--------+-------------+-----------+\n",
            "\n"
          ]
        }
      ]
    },
    {
      "cell_type": "code",
      "metadata": {
        "id": "5nAf7oXcTfSp",
        "outputId": "8338b219-7b7a-4744-9179-2426eef8ffe1"
      },
      "source": [
        "spark.sql('DROP TABLE tablename')"
      ],
      "execution_count": null,
      "outputs": [
        {
          "data": {
            "text/plain": [
              "DataFrame[]"
            ]
          },
          "execution_count": 82,
          "metadata": {},
          "output_type": "execute_result"
        }
      ]
    },
    {
      "cell_type": "code",
      "metadata": {
        "id": "c-S5i4bcTfSp"
      },
      "source": [
        "spark.sql('DROP VIEW IF EXISTS  view_name')"
      ],
      "execution_count": null,
      "outputs": []
    },
    {
      "cell_type": "markdown",
      "metadata": {
        "id": "_vTNd4NDTfSp"
      },
      "source": [
        "### Inserting into Tables"
      ]
    },
    {
      "cell_type": "code",
      "metadata": {
        "id": "gKEDhW5FTfSq"
      },
      "source": [
        "spark.sql(\"\"\"INSERT INTO flights_from_select\n",
        "SELECT DEST_COUNTRY_NAME, ORIGIN_COUNTRY_NAME, count FROM flights LIMIT 20\"\"\")"
      ],
      "execution_count": null,
      "outputs": []
    },
    {
      "cell_type": "markdown",
      "metadata": {
        "id": "86ncSg54TfSq"
      },
      "source": [
        "### Describing Table Metadata\n",
        "View comment(table meta data) that created a table"
      ]
    },
    {
      "cell_type": "code",
      "metadata": {
        "id": "JxvywDFnTfSq",
        "outputId": "8e993d1d-3901-41d3-e64e-7822cbbc6c4a"
      },
      "source": [
        "spark.sql(\"\"\"DESCRIBE TABLE flights_csv\"\"\").show()"
      ],
      "execution_count": null,
      "outputs": [
        {
          "name": "stdout",
          "output_type": "stream",
          "text": [
            "+-------------------+---------+--------------------+\n",
            "|           col_name|data_type|             comment|\n",
            "+-------------------+---------+--------------------+\n",
            "|  DEST_COUNTRY_NAME|   string|                null|\n",
            "|ORIGIN_COUNTRY_NAME|   string|remember, the US ...|\n",
            "|              count|   bigint|                null|\n",
            "+-------------------+---------+--------------------+\n",
            "\n"
          ]
        }
      ]
    },
    {
      "cell_type": "code",
      "metadata": {
        "id": "kqYWSHdSTfSq"
      },
      "source": [
        "#see the partitioning\n",
        "spark.sql(\"\"\"SHOW PARTITIONS partitioned_flights\"\"\")"
      ],
      "execution_count": null,
      "outputs": []
    },
    {
      "cell_type": "markdown",
      "metadata": {
        "id": "7cjMJTNrTfSq"
      },
      "source": [
        "### Refreshing Table Metadata\n",
        "ensure that you’re reading from the most\n",
        "recent set of data"
      ]
    },
    {
      "cell_type": "code",
      "metadata": {
        "id": "VapBW736TfSq",
        "outputId": "68144a6f-9bac-43d9-a8d7-51bbae363e29"
      },
      "source": [
        "spark.sql(\"\"\"REFRESH table flights_csv\"\"\")"
      ],
      "execution_count": null,
      "outputs": [
        {
          "data": {
            "text/plain": [
              "DataFrame[]"
            ]
          },
          "execution_count": 101,
          "metadata": {},
          "output_type": "execute_result"
        }
      ]
    },
    {
      "cell_type": "markdown",
      "metadata": {
        "id": "So_aOwl5TfSq"
      },
      "source": [
        "## View\n",
        "A view specifies a set\n",
        "of transformations on top of an existing table"
      ]
    },
    {
      "cell_type": "markdown",
      "metadata": {
        "id": "-Ed0pSnNTfSq"
      },
      "source": [
        "### Create Views\n",
        "basically just saved query plans for reusing"
      ]
    },
    {
      "cell_type": "code",
      "metadata": {
        "id": "7qT5-jc1TfSq",
        "outputId": "c8b60efa-9ca6-4944-b3e6-f05389f9df81"
      },
      "source": [
        "spark.sql('''\n",
        "create view just_usa_view AS\n",
        "select *\n",
        "from flights\n",
        "where dest_country_name = \"United States\" ''')\n",
        "\n",
        "spark.sql(\"\"\"\n",
        "select * from just_usa_view limit 3\"\"\").show()"
      ],
      "execution_count": null,
      "outputs": [
        {
          "name": "stdout",
          "output_type": "stream",
          "text": [
            "+-----------------+-------------------+-----+\n",
            "|DEST_COUNTRY_NAME|ORIGIN_COUNTRY_NAME|count|\n",
            "+-----------------+-------------------+-----+\n",
            "|    United States|            Romania|   15|\n",
            "|    United States|            Croatia|    1|\n",
            "|    United States|            Ireland|  344|\n",
            "+-----------------+-------------------+-----+\n",
            "\n"
          ]
        }
      ]
    },
    {
      "cell_type": "markdown",
      "metadata": {
        "id": "KUGCnCQ9TfSr"
      },
      "source": [
        "Like tables, you can create temporary views that are available only during the current session and\n",
        "are not registered to a database"
      ]
    },
    {
      "cell_type": "code",
      "metadata": {
        "id": "9sHjsYq0TfSr",
        "outputId": "55073ee5-11fa-4fc3-e94d-108b4bc101b6"
      },
      "source": [
        "spark.sql(\"\"\"\n",
        "CREATE OR REPLACE TEMP VIEW just_usa_view_temp AS \n",
        "SELECT * FROM flights WHERE dest_country_name = 'United States' \n",
        "\"\"\")\n",
        "# OR REPLACE -> overwrite if already exist\n",
        "# TEMP -> exist only in this session"
      ],
      "execution_count": null,
      "outputs": [
        {
          "data": {
            "text/plain": [
              "DataFrame[]"
            ]
          },
          "execution_count": 111,
          "metadata": {},
          "output_type": "execute_result"
        }
      ]
    },
    {
      "cell_type": "markdown",
      "metadata": {
        "id": "tGGP5JMaTfSr"
      },
      "source": [
        "## Databases"
      ]
    },
    {
      "cell_type": "code",
      "metadata": {
        "id": "gmzeejWlTfSr",
        "outputId": "c3afc602-25ca-4c1d-9e83-dca327b4c862"
      },
      "source": [
        "spark.sql('show databases').show()"
      ],
      "execution_count": null,
      "outputs": [
        {
          "name": "stdout",
          "output_type": "stream",
          "text": [
            "+------------+\n",
            "|databaseName|\n",
            "+------------+\n",
            "|     default|\n",
            "+------------+\n",
            "\n"
          ]
        }
      ]
    },
    {
      "cell_type": "markdown",
      "metadata": {
        "id": "k1OsPQmGTfSr"
      },
      "source": [
        "### Create database"
      ]
    },
    {
      "cell_type": "code",
      "metadata": {
        "id": "cKBzkURETfSr",
        "outputId": "03f9e730-7445-4ae1-9c96-049f85551f7d"
      },
      "source": [
        "spark.sql('create database spark_def')"
      ],
      "execution_count": null,
      "outputs": [
        {
          "data": {
            "text/plain": [
              "DataFrame[]"
            ]
          },
          "execution_count": 151,
          "metadata": {},
          "output_type": "execute_result"
        }
      ]
    },
    {
      "cell_type": "code",
      "metadata": {
        "id": "kfy6Q2yHTfSr",
        "outputId": "132d1185-fcdc-4cd9-e935-dc58cb19f59d"
      },
      "source": [
        "# show current data base in use\n",
        "spark.sql('''SELECT current_database()''').show()"
      ],
      "execution_count": null,
      "outputs": [
        {
          "name": "stdout",
          "output_type": "stream",
          "text": [
            "+------------------+\n",
            "|current_database()|\n",
            "+------------------+\n",
            "|           default|\n",
            "+------------------+\n",
            "\n"
          ]
        }
      ]
    },
    {
      "cell_type": "markdown",
      "metadata": {
        "id": "l4j7agoOTfSr"
      },
      "source": [
        "### Setting and dropping databases"
      ]
    },
    {
      "cell_type": "code",
      "metadata": {
        "id": "4_bbjM-eTfSu",
        "outputId": "93f40d32-554f-4767-d9a7-759ec0d34c94"
      },
      "source": [
        "spark.sql('use spark_def')\n",
        "spark.sql('''SELECT current_database()''').show()"
      ],
      "execution_count": null,
      "outputs": [
        {
          "name": "stdout",
          "output_type": "stream",
          "text": [
            "+------------------+\n",
            "|current_database()|\n",
            "+------------------+\n",
            "|         spark_def|\n",
            "+------------------+\n",
            "\n"
          ]
        }
      ]
    },
    {
      "cell_type": "code",
      "metadata": {
        "id": "wj2hlKFVTfSu",
        "outputId": "09e23163-24f1-41ca-f2fc-e52746715992"
      },
      "source": [
        "# Error table not found because flights is in defaul database\n",
        "try:\n",
        "    spark.sql(\"\"\"select * from flights\"\"\").show()\n",
        "except:\n",
        "    print('tables not found in this database')"
      ],
      "execution_count": null,
      "outputs": [
        {
          "name": "stdout",
          "output_type": "stream",
          "text": [
            "tables not found in this database\n"
          ]
        }
      ]
    },
    {
      "cell_type": "code",
      "metadata": {
        "id": "dCbhnWO3TfSu",
        "outputId": "9836b664-adad-4829-e98e-13ea8e199485"
      },
      "source": [
        "# specify databases name whem cross query database\n",
        "spark.sql(\"\"\"select * from default.flights limit 2\"\"\").show()"
      ],
      "execution_count": null,
      "outputs": [
        {
          "name": "stdout",
          "output_type": "stream",
          "text": [
            "+-----------------+-------------------+-----+\n",
            "|DEST_COUNTRY_NAME|ORIGIN_COUNTRY_NAME|count|\n",
            "+-----------------+-------------------+-----+\n",
            "|    United States|            Romania|   15|\n",
            "|    United States|            Croatia|    1|\n",
            "+-----------------+-------------------+-----+\n",
            "\n"
          ]
        }
      ]
    },
    {
      "cell_type": "code",
      "metadata": {
        "id": "y-TFXlDeTfSu",
        "outputId": "723b61a5-04c9-4ae9-86ce-16c3c95a1ef2"
      },
      "source": [
        "# drop database/ only when database is empty\n",
        "spark.sql(\"\"\" drop database if exists spark_def\"\"\")"
      ],
      "execution_count": null,
      "outputs": [
        {
          "data": {
            "text/plain": [
              "DataFrame[]"
            ]
          },
          "execution_count": 163,
          "metadata": {},
          "output_type": "execute_result"
        }
      ]
    },
    {
      "cell_type": "markdown",
      "metadata": {
        "id": "R4hyfxUsTfSu"
      },
      "source": [
        "## Select Statements\n",
        "all options from SQL (ANSI SQL)"
      ]
    },
    {
      "cell_type": "code",
      "metadata": {
        "id": "CfQvSos2TfSv"
      },
      "source": [
        "SELECT [ALL|DISTINCT] named_expression[, named_expression, ...]  \n",
        "FROM relation[, relation, ...]  \n",
        "    [lateral_view[, lateral_view, ...]]  \n",
        "    [WHERE boolean_expression]  \n",
        "    [aggregation [HAVING boolean_expression]]  \n",
        "    [ORDER BY sort_expressions]  \n",
        "    [CLUSTER BY expressions]  \n",
        "    [DISTRIBUTE BY expressions]  \n",
        "    [SORT BY sort_expressions]  \n",
        "    [WINDOW named_window[, WINDOW named_window, ...]]  \n",
        "    [LIMIT num_rows]  \n",
        "named_expression:  \n",
        "    : expression [AS alias]  \n",
        "relation:  \n",
        "    | join_relation  \n",
        "    | (table_name|query|relation) [sample] [AS alias]  \n",
        "    : VALUES (expressions)[, (expressions), ...]  \n",
        "        [AS (column_name[, column_name, ...])]  \n",
        "expressions:  \n",
        "    : expression[, expression, ...]  \n",
        "sort_expressions:  \n",
        "    : expression [ASC|DESC][, expression [ASC|DESC], ...]  "
      ],
      "execution_count": null,
      "outputs": []
    },
    {
      "cell_type": "markdown",
      "metadata": {
        "id": "KM01-6e5TfSv"
      },
      "source": [
        "page 198"
      ]
    },
    {
      "cell_type": "markdown",
      "metadata": {
        "id": "SROVQ-76TfSv"
      },
      "source": [
        "## Complex Types in SQL\n",
        "### Structs \n",
        "nested data in spark"
      ]
    },
    {
      "cell_type": "code",
      "metadata": {
        "id": "M3B-qMFmTfSv",
        "outputId": "45cc4bd0-926e-4eec-a877-47d6b4835cd0"
      },
      "source": [
        "# wrap a set of columns (or expressions) in parentheses\n",
        "spark.sql(\"\"\"\n",
        "CREATE VIEW IF NOT EXISTS nested_data AS \n",
        "    SELECT (DEST_COUNTRY_NAME, ORIGIN_COUNTRY_NAME) as country, count \n",
        "    FROM flights\"\"\")\n",
        "spark.sql(\"\"\"\n",
        "SELECT country as DEST_ORIGIN , count\n",
        "FROM nested_data\n",
        "LIMIT 5\"\"\").show(5,False)"
      ],
      "execution_count": null,
      "outputs": [
        {
          "name": "stdout",
          "output_type": "stream",
          "text": [
            "+------------------------+-----+\n",
            "|DEST_ORIGIN             |count|\n",
            "+------------------------+-----+\n",
            "|[United States, Romania]|15   |\n",
            "|[United States, Croatia]|1    |\n",
            "|[United States, Ireland]|344  |\n",
            "|[Egypt, United States]  |15   |\n",
            "|[United States, India]  |62   |\n",
            "+------------------------+-----+\n",
            "\n"
          ]
        }
      ]
    },
    {
      "cell_type": "markdown",
      "metadata": {
        "id": "v-1ocQ7UTfSv"
      },
      "source": [
        "You can even query individual columns within a struct—all you need to do is use dot syntax"
      ]
    },
    {
      "cell_type": "code",
      "metadata": {
        "id": "mfDQTtWhTfSv",
        "outputId": "288eb710-68ae-446b-9780-818544978296"
      },
      "source": [
        "spark.sql(\"\"\"\n",
        "SELECT country.ORIGIN_COUNTRY_NAME as ORIGIN , count\n",
        "FROM  nested_data\n",
        "\"\"\").show(5,False)"
      ],
      "execution_count": null,
      "outputs": [
        {
          "name": "stdout",
          "output_type": "stream",
          "text": [
            "+-------------+-----+\n",
            "|ORIGIN       |count|\n",
            "+-------------+-----+\n",
            "|Romania      |15   |\n",
            "|Croatia      |1    |\n",
            "|Ireland      |344  |\n",
            "|United States|15   |\n",
            "|India        |62   |\n",
            "+-------------+-----+\n",
            "only showing top 5 rows\n",
            "\n"
          ]
        }
      ]
    },
    {
      "cell_type": "markdown",
      "metadata": {
        "id": "4G5XzOYVTfSv"
      },
      "source": [
        "Or return all sub-column in the nested column"
      ]
    },
    {
      "cell_type": "code",
      "metadata": {
        "id": "Egr_qRG5TfSv",
        "outputId": "0f57f8fd-b635-4218-f3e0-0b2134a656dc"
      },
      "source": [
        "spark.sql(\"\"\"\n",
        "SELECT country.* \n",
        "FROM  nested_data\n",
        "\"\"\").show(5,False)"
      ],
      "execution_count": null,
      "outputs": [
        {
          "name": "stdout",
          "output_type": "stream",
          "text": [
            "+-----------------+-------------------+\n",
            "|DEST_COUNTRY_NAME|ORIGIN_COUNTRY_NAME|\n",
            "+-----------------+-------------------+\n",
            "|United States    |Romania            |\n",
            "|United States    |Croatia            |\n",
            "|United States    |Ireland            |\n",
            "|Egypt            |United States      |\n",
            "|United States    |India              |\n",
            "+-----------------+-------------------+\n",
            "only showing top 5 rows\n",
            "\n"
          ]
        }
      ]
    },
    {
      "cell_type": "markdown",
      "metadata": {
        "id": "OjAd76lqTfSv"
      },
      "source": [
        "### Lists"
      ]
    },
    {
      "cell_type": "markdown",
      "metadata": {
        "id": "jGOWXPPyTfSv"
      },
      "source": [
        "Use collect_list or collect_set to create aggregate list group by one column"
      ]
    },
    {
      "cell_type": "code",
      "metadata": {
        "id": "9aRRaaJdTfSw",
        "outputId": "d2085b75-88b5-4a04-fd5d-32b7283ee390"
      },
      "source": [
        "spark.sql(\"\"\"\n",
        "SELECT DEST_COUNTRY_NAME as new_name, collect_list(count) as flight_counts,\n",
        "    collect_set(ORIGIN_COUNTRY_NAME) as origin_set\n",
        "FROM flights \n",
        "GROUP BY DEST_COUNTRY_NAME\n",
        "ORDER BY DEST_COUNTRY_NAME DESC\n",
        "\"\"\").show(4)"
      ],
      "execution_count": null,
      "outputs": [
        {
          "name": "stdout",
          "output_type": "stream",
          "text": [
            "+-------------+--------------------+--------------------+\n",
            "|     new_name|       flight_counts|          origin_set|\n",
            "+-------------+--------------------+--------------------+\n",
            "|       Zambia|                 [1]|     [United States]|\n",
            "|    Venezuela|               [290]|     [United States]|\n",
            "|      Uruguay|                [43]|     [United States]|\n",
            "|United States|[145, 225, 15, 1,...|[Italy, Martiniqu...|\n",
            "+-------------+--------------------+--------------------+\n",
            "only showing top 4 rows\n",
            "\n"
          ]
        }
      ]
    },
    {
      "cell_type": "markdown",
      "metadata": {
        "id": "7AZ0NK2KTfSw"
      },
      "source": [
        "Then convert array back into rows using *explode* function"
      ]
    },
    {
      "cell_type": "code",
      "metadata": {
        "id": "dCGoqCp8TfSw"
      },
      "source": [
        "SELECT explode(collected_counts), DEST_COUNTRY_NAME FROM flights_agg"
      ],
      "execution_count": null,
      "outputs": []
    },
    {
      "cell_type": "markdown",
      "metadata": {
        "id": "72ZtsbxETfSw"
      },
      "source": [
        "### Functions"
      ]
    },
    {
      "cell_type": "code",
      "metadata": {
        "id": "DZubEve3TfSw",
        "outputId": "d9655966-b0a4-4a61-a38a-909007f4d7df"
      },
      "source": [
        "# list of all user-define SQL functions\n",
        "spark.sql(''' SHOW  USER FUNCTIONS ''').show()"
      ],
      "execution_count": null,
      "outputs": [
        {
          "name": "stdout",
          "output_type": "stream",
          "text": [
            "+--------+\n",
            "|function|\n",
            "+--------+\n",
            "+--------+\n",
            "\n"
          ]
        }
      ]
    },
    {
      "cell_type": "markdown",
      "metadata": {
        "id": "L7bxrR8bTfSw"
      },
      "source": [
        "# Part 12 Resilient Distributed Datasets (RDDs)\n",
        "\n",
        "Working with low-level API(RDDs) when want more control ,such as implement some custom partitioner, physical distribution of data (custom partitioning of data)., or update and track the value\n",
        "of a variable over the course of a data pipeline’s execution."
      ]
    },
    {
      "cell_type": "code",
      "metadata": {
        "id": "g2DavWnZTfSw",
        "outputId": "6ef2f27a-60f0-4357-d3df-360afcacabd3"
      },
      "source": [
        "# access lowe-level API with sparkContext\n",
        "spark.sparkContext"
      ],
      "execution_count": null,
      "outputs": [
        {
          "data": {
            "text/html": [
              "\n",
              "        <div>\n",
              "            <p><b>SparkContext</b></p>\n",
              "\n",
              "            <p><a href=\"http://PK:4040\">Spark UI</a></p>\n",
              "\n",
              "            <dl>\n",
              "              <dt>Version</dt>\n",
              "                <dd><code>v2.4.5</code></dd>\n",
              "              <dt>Master</dt>\n",
              "                <dd><code>local</code></dd>\n",
              "              <dt>AppName</dt>\n",
              "                <dd><code>SparkApp</code></dd>\n",
              "            </dl>\n",
              "        </div>\n",
              "        "
            ],
            "text/plain": [
              "<SparkContext master=local appName=SparkApp>"
            ]
          },
          "execution_count": 10,
          "metadata": {},
          "output_type": "execute_result"
        }
      ]
    },
    {
      "cell_type": "markdown",
      "metadata": {
        "id": "yKtSqj5PTfSw"
      },
      "source": [
        "## RDD\n",
        "\n",
        "RDD is an immutable, partitioned collection of records that can be operated\n",
        "on in parallel. Unlike DataFrames though, where each record is a structured row containing\n",
        "fields with a known schema, in RDDs the records are just Java, Scala, or Python objects of the\n",
        "programmer’s choosing\n",
        "\n",
        "So,You can store anything you want in these objects, in any format you want. But come with a lot of manual tasks.  \n",
        "However, it is\n",
        "trivial to convert back and forth between RDDs and Datasets to take advantage of both API"
      ]
    },
    {
      "cell_type": "markdown",
      "metadata": {
        "id": "2wTvjCVETfSx"
      },
      "source": [
        "## Create RDDs"
      ]
    },
    {
      "cell_type": "markdown",
      "metadata": {
        "id": "0-Vc7K48TfSx"
      },
      "source": [
        "### Convert DataFrames to RDDs "
      ]
    },
    {
      "cell_type": "code",
      "metadata": {
        "id": "qSjocvZtTfSx",
        "outputId": "5724babb-4530-4db6-d2d7-2d0178f6ac73"
      },
      "source": [
        "spark.range(10).rdd"
      ],
      "execution_count": null,
      "outputs": [
        {
          "data": {
            "text/plain": [
              "MapPartitionsRDD[40] at javaToPython at <unknown>:0"
            ]
          },
          "execution_count": 27,
          "metadata": {},
          "output_type": "execute_result"
        }
      ]
    },
    {
      "cell_type": "code",
      "metadata": {
        "id": "UQB_b5tbTfSx",
        "outputId": "53dc0171-70d3-431b-9680-935e7de7cb74"
      },
      "source": [
        "# need to convert Row object to RDD of type Row\n",
        "spark.range(10).toDF('id').rdd.map(lambda row: row[0])"
      ],
      "execution_count": null,
      "outputs": [
        {
          "data": {
            "text/plain": [
              "PythonRDD[34] at RDD at PythonRDD.scala:53"
            ]
          },
          "execution_count": 26,
          "metadata": {},
          "output_type": "execute_result"
        }
      ]
    },
    {
      "cell_type": "markdown",
      "metadata": {
        "id": "xbDZvUNrTfSx"
      },
      "source": [
        "### From a local Collection\n",
        "use paralellize on SparkContext"
      ]
    },
    {
      "cell_type": "code",
      "metadata": {
        "id": "XCpA0H24TfSx",
        "outputId": "2ada3875-8c87-43f9-fa91-43bd38ed33a1"
      },
      "source": [
        "myCollection = \"Spark The Definitive Guide : Big Data Processing Made Simple\".split(\" \")\n",
        "words = spark.sparkContext.parallelize(myCollection, numSlices=2)\n",
        "# can set name of RDD\n",
        "words.setName('myWords')\n",
        "\n",
        "words.name()"
      ],
      "execution_count": null,
      "outputs": [
        {
          "data": {
            "text/plain": [
              "'myWords'"
            ]
          },
          "execution_count": 34,
          "metadata": {},
          "output_type": "execute_result"
        }
      ]
    },
    {
      "cell_type": "markdown",
      "metadata": {
        "id": "3klFRRH6TfSx"
      },
      "source": [
        "### From Data Sources\n",
        "90% of the time Data Source from DataFrame API will better then than RDD. But you can do this with"
      ]
    },
    {
      "cell_type": "code",
      "metadata": {
        "id": "8SjUyn1ITfSx"
      },
      "source": [
        "spark.sparkContext.textFile('some.txt') # each record in the RDD represents a line in that text file or files\n",
        "spark.sparkContext.wholeTextFiles(\"withTextFiles\") #each text file should become a single record"
      ],
      "execution_count": null,
      "outputs": []
    },
    {
      "cell_type": "markdown",
      "metadata": {
        "id": "kMjBcm8fTfSx"
      },
      "source": [
        "## Manipulating RDDs"
      ]
    },
    {
      "cell_type": "markdown",
      "metadata": {
        "id": "HKPxeEewTfSy"
      },
      "source": [
        "## Transformations"
      ]
    },
    {
      "cell_type": "markdown",
      "metadata": {
        "id": "klb1vPZGTfSy"
      },
      "source": [
        "### Distinct\n",
        "Remove duplicates from RDD"
      ]
    },
    {
      "cell_type": "code",
      "metadata": {
        "id": "9365tE5NTfSy",
        "outputId": "9c531ca9-e341-49ea-8a93-c4f3e00e9559"
      },
      "source": [
        "words.distinct().count()"
      ],
      "execution_count": null,
      "outputs": [
        {
          "data": {
            "text/plain": [
              "10"
            ]
          },
          "execution_count": 38,
          "metadata": {},
          "output_type": "execute_result"
        }
      ]
    },
    {
      "cell_type": "markdown",
      "metadata": {
        "id": "rC5moF-1TfSy"
      },
      "source": [
        "### filter\n",
        "Use function to return Boolean type"
      ]
    },
    {
      "cell_type": "code",
      "metadata": {
        "id": "7YuSdXdATfSy"
      },
      "source": [
        "def startsWithS(individual):\n",
        "    return individual.startsWithS('S')\n",
        "\n",
        "# words.filter(lambda x: startsWithS(x)).collect()"
      ],
      "execution_count": null,
      "outputs": []
    },
    {
      "cell_type": "markdown",
      "metadata": {
        "id": "ha8Tp_KQTfSy"
      },
      "source": [
        "Page 221"
      ]
    },
    {
      "cell_type": "code",
      "metadata": {
        "id": "hpFqwjyoTfSy"
      },
      "source": [
        ""
      ],
      "execution_count": null,
      "outputs": []
    },
    {
      "cell_type": "code",
      "metadata": {
        "id": "m6GMiVAaTfSz"
      },
      "source": [
        ""
      ],
      "execution_count": null,
      "outputs": []
    },
    {
      "cell_type": "code",
      "metadata": {
        "id": "-QFOGwyrTfSz"
      },
      "source": [
        ""
      ],
      "execution_count": null,
      "outputs": []
    },
    {
      "cell_type": "code",
      "metadata": {
        "id": "57VruRWaTfSz"
      },
      "source": [
        ""
      ],
      "execution_count": null,
      "outputs": []
    },
    {
      "cell_type": "code",
      "metadata": {
        "id": "yA5lG2s0TfSz"
      },
      "source": [
        ""
      ],
      "execution_count": null,
      "outputs": []
    },
    {
      "cell_type": "code",
      "metadata": {
        "id": "XNREa-KpTfSz"
      },
      "source": [
        ""
      ],
      "execution_count": null,
      "outputs": []
    },
    {
      "cell_type": "code",
      "metadata": {
        "id": "Ze7aPGaHTfSz"
      },
      "source": [
        ""
      ],
      "execution_count": null,
      "outputs": []
    },
    {
      "cell_type": "code",
      "metadata": {
        "id": "Pql5PD26TfSz"
      },
      "source": [
        ""
      ],
      "execution_count": null,
      "outputs": []
    },
    {
      "cell_type": "code",
      "metadata": {
        "id": "AM5Jgol3TfSz"
      },
      "source": [
        ""
      ],
      "execution_count": null,
      "outputs": []
    },
    {
      "cell_type": "markdown",
      "metadata": {
        "id": "dxUFKKUPTfSz"
      },
      "source": [
        "# Part 15 How Spark runs on Cluster"
      ]
    },
    {
      "cell_type": "markdown",
      "metadata": {
        "id": "DVAvGtaRTfSz"
      },
      "source": [
        "## Execution Modes\n",
        "Choosing the execution\n",
        "mode when running your applications. It gives you the power to determine where the aforementioned resources are\n",
        "physically located when you go to run your application"
      ]
    },
    {
      "cell_type": "markdown",
      "metadata": {
        "id": "K161cFTyTfSz"
      },
      "source": [
        "### Cluster mode (All job on cluster)\n",
        "User submit script to a cluster manager. the cluster manager is responsible for maintaining all Spark\n",
        "Application–related processes(launches the driver process on a worker node)."
      ]
    },
    {
      "cell_type": "markdown",
      "metadata": {
        "id": "HgH_HGeUTfS3"
      },
      "source": [
        "### Client mode (Client mange driver, run job on cluster)\n",
        "the Spark driver remains on the client\n",
        "machine that submitted the application. Client machine is responsible for\n",
        "maintaining the Spark driver process, and the cluster manager maintains the executor processses."
      ]
    },
    {
      "cell_type": "markdown",
      "metadata": {
        "id": "lU47T2JuTfS3"
      },
      "source": [
        "### Local mode (All job on single machine)\n",
        "for test and experiment"
      ]
    },
    {
      "cell_type": "markdown",
      "metadata": {
        "id": "AHFkPbexTfS3"
      },
      "source": [
        "## The Life Cycle of a Spark Application (Outside Spark)"
      ]
    },
    {
      "cell_type": "markdown",
      "metadata": {
        "id": "9y2D0EdNTfS3"
      },
      "source": [
        "### 1. Client Request\n",
        "\n",
        "request to a driver node asking for resources(spark-submit) for driver process then the application is running at the cluster"
      ]
    },
    {
      "cell_type": "code",
      "metadata": {
        "id": "5lV20JrPTfS4"
      },
      "source": [
        "# in terminal\n",
        "./bin/spark-submit \\\n",
        "--class <main-class> \\\n",
        "--master <master-url> \\\n",
        "--deploy-mode cluster \\\n",
        "--conf <key>=<value> \\\n",
        "... # other options\n",
        "<application-jar> \\\n",
        "[application-arguments]"
      ],
      "execution_count": null,
      "outputs": []
    },
    {
      "cell_type": "markdown",
      "metadata": {
        "id": "U0iqQS7ATfS4"
      },
      "source": [
        "## The Life Cycle of a Spark Application (Inside Spark)"
      ]
    },
    {
      "cell_type": "markdown",
      "metadata": {
        "id": "XGJNAE3OTfS4"
      },
      "source": [
        "### 1. SparkSession\n",
        "Create SparkSession"
      ]
    },
    {
      "cell_type": "code",
      "metadata": {
        "id": "PcA2dCQSTfS4"
      },
      "source": [
        "from pyspark.sql import SparkSession\n",
        "spark = SparkSession.builder.master(\"local\").appName(\"Word Count\")\\\n",
        ".config(\"spark.some.config.option\", \"some-value\")\\\n",
        ".getOrCreate()"
      ],
      "execution_count": null,
      "outputs": []
    },
    {
      "cell_type": "markdown",
      "metadata": {
        "id": "cX4nvlXHTfS4"
      },
      "source": [
        "### A Spark Job"
      ]
    },
    {
      "cell_type": "markdown",
      "metadata": {
        "id": "_BOCJn35TfS4"
      },
      "source": [
        "In general, there should be one Spark job for one action. Actions always return results. Each job\n",
        "breaks down into a series of stages and stages break into tasks(partitions)"
      ]
    },
    {
      "cell_type": "markdown",
      "metadata": {
        "id": "SAyo8yfRTfS4"
      },
      "source": [
        "### Stages\n",
        "roups of tasks that can be executed together to compute the same\n",
        "operation on multiple machines.  \n",
        "but the engine starts\n",
        "new stages after operations called shuffles. A shuffle represents a physical repartitioning of the\n",
        "data—for example, sorting a DataFrame, or grouping data that was loaded from a file"
      ]
    },
    {
      "cell_type": "markdown",
      "metadata": {
        "id": "B_S1Whs2TfS5"
      },
      "source": [
        "### Tasks\n",
        "Each task corresponds to a combination of blocks of data and a\n",
        "set of transformations that will run on a single executor. If there is one big partition in our\n",
        "dataset, we will have one task. If there are 1,000 little partitions, we will have 1,000 tasks that\n",
        "can be executed in parallel."
      ]
    },
    {
      "cell_type": "markdown",
      "metadata": {
        "id": "ntHPqwIFTfS5"
      },
      "source": [
        "### Pipelining\n",
        "In-memory computation -> Spark performs as many steps at once before writing data to memory or disk.  \n",
        "Pipelining collapse all operation in the same nodes into single stage of tasks"
      ]
    },
    {
      "cell_type": "markdown",
      "metadata": {
        "id": "yxBa9P0JTfS5"
      },
      "source": [
        "### Shuffle Persistence\n",
        "When Spark run an\n",
        "operation that move data across nodes, such as a reduce-by-key operation it performs a cross-network shuffle.   \n",
        "Spark always executes\n",
        "shuffles by first having the “source” tasks (those sending data) write shuffle files to their local\n",
        "disks during their execution stage.   \n",
        "Then, the stage that does the grouping and reduction launches\n",
        "and runs tasks that fetch their corresponding records from each shuffle file and performs that\n",
        "computation.  \n",
        "Saving the shuffle\n",
        "files to disk lets Spark run this stage later in time than the source stage and relaunch again"
      ]
    },
    {
      "cell_type": "markdown",
      "metadata": {
        "id": "cbCtYmDfTfS7"
      },
      "source": [
        "# Part 16 Developing Spark Applications"
      ]
    },
    {
      "cell_type": "markdown",
      "metadata": {
        "id": "lDKQ9hONTfS8"
      },
      "source": [
        "Specify a certain script as an executable script that builds the SparkSession. This is the\n",
        "one that we will pass as the main argument to spark-submit and simply execute the script\n",
        "against the cluster."
      ]
    },
    {
      "cell_type": "code",
      "metadata": {
        "id": "f9zTyOuUTfS8"
      },
      "source": [
        "# in Python\n",
        "from __future__ import print_function\n",
        "if __name__ == '__main__':\n",
        "    from pyspark.sql import SparkSession\n",
        "    spark = SparkSession.builder \\\n",
        "        .master(\"local\") \\\n",
        "        .appName(\"Word Count\") \\\n",
        "        .config(\"spark.some.config.option\", \"some-value\") \\\n",
        "        .getOrCreate()\n",
        "    \n",
        "    print(spark.range(5000).where(\"id > 500\").selectExpr(\"sum(id)\").collect())"
      ],
      "execution_count": null,
      "outputs": []
    },
    {
      "cell_type": "markdown",
      "metadata": {
        "id": "5VLkYMANTfS8"
      },
      "source": [
        "### Running the application\n",
        "\n",
        "call spark-submit with that\n",
        "information:\n",
        "\n",
        "$SPARK_HOME/bin/spark-submit --master local pyspark_template/main.py"
      ]
    },
    {
      "cell_type": "markdown",
      "metadata": {
        "id": "5N9-CJ5FTfS8"
      },
      "source": [
        "### The Development Process\n",
        "First, you might maintain a scratch space, such as an interactive\n",
        "notebook or some equivalent thereof, and then as you build key components and algorithms, you\n",
        "move them to a more permanent location like a library or package\n",
        "\n",
        "When running on your local machine, the spark-shell and its various language-specific\n",
        "implementations are probably the best way to develop applications. For the most part, the shell is\n",
        "for interactive applications, whereas spark-submit is for production applications on your Spark\n",
        "cluster."
      ]
    },
    {
      "cell_type": "markdown",
      "metadata": {
        "id": "DSbOT6GjTfS8"
      },
      "source": [
        "# Part 17 Deploying Spark\n",
        "\n",
        "Spark has three officially supported cluster managers:  \n",
        "Standalone mode  \n",
        "Hadoop YARN  \n",
        "Apache Mesos  "
      ]
    },
    {
      "cell_type": "markdown",
      "metadata": {
        "id": "_NXotLXaTfS9"
      },
      "source": [
        "**On-Premise Spark** (Physical Cluster)  \n",
        "\n",
        "An on-premises cluster gives you full control over the hardware used,\n",
        "meaning you can optimize performance for your specific workload. \n",
        "\n",
        "However, it also introduces\n",
        "some challenges, 1. your cluster is fixed in size, whereas the resource demands of data\n",
        "analytics workloads are often elastic. If you make your cluster too small, it will be hard to launch\n",
        "the occasional very large analytics query or training job for a new machine learning model,\n",
        "whereas if you make it large, you will have resources sitting idle.  \n",
        "2.need setting up georeplication and disaster recovery if\n",
        "required.\n",
        "**Spark in the Cloud**\n",
        "\n",
        "Benefit are First, resources can be launched and shut down elastically,\n",
        "so you can run that occasional “monster” job that takes hundreds of machines for a few hours.\n",
        "\n",
        "Setup global storage systems that are decoupled\n",
        "from a specific cluster, such as Amazon S3, Azure Blob Storage, or Google Cloud Storage and\n",
        "spin up machines dynamically for each Spark workload.\n"
      ]
    },
    {
      "cell_type": "markdown",
      "metadata": {
        "id": "bzDDbL-cTfS9"
      },
      "source": [
        ""
      ]
    },
    {
      "cell_type": "markdown",
      "metadata": {
        "id": "KGQjSvpPTfS9"
      },
      "source": [
        "# Part 24 Machine Learning Overview"
      ]
    },
    {
      "cell_type": "markdown",
      "metadata": {
        "id": "lEoPr7PSTfS9"
      },
      "source": [
        "## Supervised Learning\n",
        "using historical data that already has labels , train a model\n",
        "to predict the values of those labels based on various features of the data points. \n",
        "\n",
        "This\n",
        "training process usually proceeds through an iterative optimization algorithm such as gradient\n",
        "descent. The training algorithm starts with a basic model and gradually improves it by adjusting\n",
        "various internal parameters (coefficients) during each training iteration."
      ]
    },
    {
      "cell_type": "markdown",
      "metadata": {
        "id": "QKbBFao3TfS9"
      },
      "source": [
        "### Recommendation\n",
        "recommendations on what a user may like by\n",
        "drawing similarities between the users or items. By looking at these similarities, the algorithm\n",
        "makes recommendations to users based on what similar users liked, or what other products\n",
        "resemble the ones the user already purchased."
      ]
    },
    {
      "cell_type": "markdown",
      "metadata": {
        "id": "WQB33mk6TfS9"
      },
      "source": [
        "## Unsupervised learning \n",
        "trying to find patterns or discover the underlying structure in\n",
        "a given set of data. This differs from supervised learning because there is no dependent variable\n",
        "(label) to predict."
      ]
    },
    {
      "cell_type": "markdown",
      "metadata": {
        "id": "IwsAVktLTfS9"
      },
      "source": [
        "## MLlib\n",
        "Why use MLlib?  \n",
        "When data is or processing time is too big for a single machine"
      ]
    },
    {
      "cell_type": "code",
      "metadata": {
        "id": "tC2nJ5jMTfS9",
        "outputId": "19697c05-8209-43cf-e7da-224df9a2e459"
      },
      "source": [
        "df = spark.read.json('data/simple-ml')\n",
        "df.show(3) # label is good or bad"
      ],
      "execution_count": null,
      "outputs": [
        {
          "name": "stdout",
          "output_type": "stream",
          "text": [
            "+-----+----+------+------------------+\n",
            "|color| lab|value1|            value2|\n",
            "+-----+----+------+------------------+\n",
            "|green|good|     1|14.386294994851129|\n",
            "| blue| bad|     8|14.386294994851129|\n",
            "| blue| bad|    12|14.386294994851129|\n",
            "+-----+----+------+------------------+\n",
            "only showing top 3 rows\n",
            "\n"
          ]
        }
      ]
    },
    {
      "cell_type": "markdown",
      "metadata": {
        "id": "tqTw2JkBTfS9"
      },
      "source": [
        "## Feature Engineering\n",
        "\n",
        "### Transformers \n",
        "When we use MLlib, all inputs to machine learning algorithms  in Spark must consist of type Double (for labels) and\n",
        "Vector[Double] (for features).\n",
        "\n",
        "Using RFormula to transform data (double into vector of double for features)"
      ]
    },
    {
      "cell_type": "code",
      "metadata": {
        "id": "dFQ2B56ZTfS9"
      },
      "source": [
        "from pyspark.ml.feature import RFormula\n",
        "supervised = RFormula(formula= 'lab ~ . ') # syntax like in R ,   '.' mean every thing\n",
        "# RFormula auto encode categorical variable"
      ],
      "execution_count": null,
      "outputs": []
    },
    {
      "cell_type": "code",
      "metadata": {
        "id": "ehL97pq8TfS-",
        "outputId": "c508d71e-7562-4431-ed8f-fc00ebf90f63"
      },
      "source": [
        "fittedRF = supervised.fit(df)\n",
        "prepareDF = fittedRF.transform(df)\n",
        "prepareDF.show(3,False)"
      ],
      "execution_count": null,
      "outputs": [
        {
          "name": "stdout",
          "output_type": "stream",
          "text": [
            "+-----+----+------+------------------+---------------------------------+-----+\n",
            "|color|lab |value1|value2            |features                         |label|\n",
            "+-----+----+------+------------------+---------------------------------+-----+\n",
            "|green|good|1     |14.386294994851129|[0.0,1.0,1.0,14.386294994851129] |1.0  |\n",
            "|blue |bad |8     |14.386294994851129|[0.0,0.0,8.0,14.386294994851129] |0.0  |\n",
            "|blue |bad |12    |14.386294994851129|[0.0,0.0,12.0,14.386294994851129]|0.0  |\n",
            "+-----+----+------+------------------+---------------------------------+-----+\n",
            "only showing top 3 rows\n",
            "\n"
          ]
        }
      ]
    },
    {
      "cell_type": "markdown",
      "metadata": {
        "id": "2sK7WgHGTfS-"
      },
      "source": [
        "Features vector: [? , color, value1, value 2]"
      ]
    },
    {
      "cell_type": "code",
      "metadata": {
        "id": "4aK30pwETfS-",
        "outputId": "66172873-06a9-44b2-d3a3-3b2234ce79a5"
      },
      "source": [
        "from pyspark.ml.feature import RFormula\n",
        "supervised = RFormula(formula= 'lab ~ . + color:value1 + color:value2') #  : is interaction\n",
        "fittedRF = supervised.fit(df)\n",
        "prepareDF = fittedRF.transform(df)\n",
        "prepareDF.show(3,False)"
      ],
      "execution_count": null,
      "outputs": [
        {
          "name": "stdout",
          "output_type": "stream",
          "text": [
            "+-----+----+------+------------------+--------------------------------------------------------------------+-----+\n",
            "|color|lab |value1|value2            |features                                                            |label|\n",
            "+-----+----+------+------------------+--------------------------------------------------------------------+-----+\n",
            "|green|good|1     |14.386294994851129|(10,[1,2,3,5,8],[1.0,1.0,14.386294994851129,1.0,14.386294994851129])|1.0  |\n",
            "|blue |bad |8     |14.386294994851129|(10,[2,3,6,9],[8.0,14.386294994851129,8.0,14.386294994851129])      |0.0  |\n",
            "|blue |bad |12    |14.386294994851129|(10,[2,3,6,9],[12.0,14.386294994851129,12.0,14.386294994851129])    |0.0  |\n",
            "+-----+----+------+------------------+--------------------------------------------------------------------+-----+\n",
            "only showing top 3 rows\n",
            "\n"
          ]
        }
      ]
    },
    {
      "cell_type": "markdown",
      "metadata": {
        "id": "i04DkNUETfS-"
      },
      "source": [
        "Create train and test set"
      ]
    },
    {
      "cell_type": "code",
      "metadata": {
        "id": "QJAtXFX2TfS-"
      },
      "source": [
        "train, test = prepareDF.randomSplit([0.8,0.2])"
      ],
      "execution_count": null,
      "outputs": []
    },
    {
      "cell_type": "markdown",
      "metadata": {
        "id": "-mjQUoW4TfS-"
      },
      "source": [
        "### Estimators\n",
        "using logisticRegression to fit model  \n",
        "set label and feature column"
      ]
    },
    {
      "cell_type": "code",
      "metadata": {
        "id": "w6pLprEeTfS-",
        "outputId": "d91dc652-88e1-41e5-875e-7d905a536344"
      },
      "source": [
        "from pyspark.ml.classification import LogisticRegression\n",
        "lr = LogisticRegression(labelCol=\"label\",featuresCol=\"features\") # specify feature and label column names\n",
        "print(lr.explainParams()) # inspect the parameters"
      ],
      "execution_count": null,
      "outputs": [
        {
          "name": "stdout",
          "output_type": "stream",
          "text": [
            "aggregationDepth: suggested depth for treeAggregate (>= 2). (default: 2)\n",
            "elasticNetParam: the ElasticNet mixing parameter, in range [0, 1]. For alpha = 0, the penalty is an L2 penalty. For alpha = 1, it is an L1 penalty. (default: 0.0)\n",
            "family: The name of family which is a description of the label distribution to be used in the model. Supported options: auto, binomial, multinomial (default: auto)\n",
            "featuresCol: features column name. (default: features, current: features)\n",
            "fitIntercept: whether to fit an intercept term. (default: True)\n",
            "labelCol: label column name. (default: label, current: label)\n",
            "lowerBoundsOnCoefficients: The lower bounds on coefficients if fitting under bound constrained optimization. The bound matrix must be compatible with the shape (1, number of features) for binomial regression, or (number of classes, number of features) for multinomial regression. (undefined)\n",
            "lowerBoundsOnIntercepts: The lower bounds on intercepts if fitting under bound constrained optimization. The bounds vector size must beequal with 1 for binomial regression, or the number oflasses for multinomial regression. (undefined)\n",
            "maxIter: max number of iterations (>= 0). (default: 100)\n",
            "predictionCol: prediction column name. (default: prediction)\n",
            "probabilityCol: Column name for predicted class conditional probabilities. Note: Not all models output well-calibrated probability estimates! These probabilities should be treated as confidences, not precise probabilities. (default: probability)\n",
            "rawPredictionCol: raw prediction (a.k.a. confidence) column name. (default: rawPrediction)\n",
            "regParam: regularization parameter (>= 0). (default: 0.0)\n",
            "standardization: whether to standardize the training features before fitting the model. (default: True)\n",
            "threshold: Threshold in binary classification prediction, in range [0, 1]. If threshold and thresholds are both set, they must match.e.g. if threshold is p, then thresholds must be equal to [1-p, p]. (default: 0.5)\n",
            "thresholds: Thresholds in multi-class classification to adjust the probability of predicting each class. Array must have length equal to the number of classes, with values > 0, excepting that at most one value may be 0. The class with largest value p/t is predicted, where p is the original probability of that class and t is the class's threshold. (undefined)\n",
            "tol: the convergence tolerance for iterative algorithms (>= 0). (default: 1e-06)\n",
            "upperBoundsOnCoefficients: The upper bounds on coefficients if fitting under bound constrained optimization. The bound matrix must be compatible with the shape (1, number of features) for binomial regression, or (number of classes, number of features) for multinomial regression. (undefined)\n",
            "upperBoundsOnIntercepts: The upper bounds on intercepts if fitting under bound constrained optimization. The bound vector size must be equal with 1 for binomial regression, or the number of classes for multinomial regression. (undefined)\n",
            "weightCol: weight column name. If this is not set or empty, we treat all instance weights as 1.0. (undefined)\n"
          ]
        }
      ]
    },
    {
      "cell_type": "code",
      "metadata": {
        "id": "P9VKcwz-TfS-",
        "outputId": "612fb183-3313-4223-c325-0311446146fa"
      },
      "source": [
        "# fit the model\n",
        "fittedLR = lr.fit(train)\n",
        "\n",
        "# make prediction with transfrom\n",
        "fittedLR.transform(train).select(\"label\", \"prediction\").show(3)"
      ],
      "execution_count": null,
      "outputs": [
        {
          "name": "stdout",
          "output_type": "stream",
          "text": [
            "+-----+----------+\n",
            "|label|prediction|\n",
            "+-----+----------+\n",
            "|  0.0|       0.0|\n",
            "|  0.0|       0.0|\n",
            "|  0.0|       0.0|\n",
            "+-----+----------+\n",
            "only showing top 3 rows\n",
            "\n"
          ]
        }
      ]
    },
    {
      "cell_type": "markdown",
      "metadata": {
        "id": "kpnOhd2QTfS-"
      },
      "source": [
        "## Pipeline Work flow\n"
      ]
    },
    {
      "cell_type": "markdown",
      "metadata": {
        "id": "NTTa0PzCTfS-"
      },
      "source": [
        "Step 1 \n",
        "Create train and test set"
      ]
    },
    {
      "cell_type": "code",
      "metadata": {
        "id": "IwoUd7gbTfS_"
      },
      "source": [
        "train, test = df.randomSplit([0.8,0.2])"
      ],
      "execution_count": null,
      "outputs": []
    },
    {
      "cell_type": "markdown",
      "metadata": {
        "id": "7AOdxWD6TfS_"
      },
      "source": [
        "Create each stage in pipeline (RFormula, LogisticRegression)"
      ]
    },
    {
      "cell_type": "code",
      "metadata": {
        "id": "qkQiWVmjTfS_"
      },
      "source": [
        "rForm = RFormula()"
      ],
      "execution_count": null,
      "outputs": []
    },
    {
      "cell_type": "code",
      "metadata": {
        "id": "y7M5UsrnTfS_"
      },
      "source": [
        "lr = LogisticRegression().setLabelCol('label').setFeaturesCol('features')"
      ],
      "execution_count": null,
      "outputs": []
    },
    {
      "cell_type": "code",
      "metadata": {
        "id": "rNhadYE2TfS_"
      },
      "source": [
        "# set up pipeline\n",
        "from pyspark.ml import Pipeline\n",
        "stages = [rForm,lr]\n",
        "pipeline = Pipeline().setStages(stages)"
      ],
      "execution_count": null,
      "outputs": []
    },
    {
      "cell_type": "markdown",
      "metadata": {
        "id": "UmSwHenlTfS_"
      },
      "source": [
        "### Training and Evaluation\n",
        "\n",
        "train several variations of the model by\n",
        "specifying different combinations of hyperparameters"
      ]
    },
    {
      "cell_type": "code",
      "metadata": {
        "id": "kx3ac-KJTfS_"
      },
      "source": [
        "# GridBuilder (GridSearch)\n",
        "from pyspark.ml.tuning import ParamGridBuilder\n",
        "params = ParamGridBuilder()\\\n",
        "    .addGrid(rForm.formula, [\n",
        "    \"lab ~ . + color:value1\",\n",
        "    \"lab ~ . + color:value1 + color:value2\"])\\\n",
        "    .addGrid(lr.elasticNetParam, [0.0, 0.5, 1.0])\\\n",
        "    .addGrid(lr.regParam, [0.1, 2.0])\\\n",
        "    .build()"
      ],
      "execution_count": null,
      "outputs": []
    },
    {
      "cell_type": "code",
      "metadata": {
        "id": "F6D6jxxGTfS_"
      },
      "source": [
        "# evaluators\n",
        "from pyspark.ml.evaluation import BinaryClassificationEvaluator\n",
        "evaluator = BinaryClassificationEvaluator()\\\n",
        "    .setMetricName(\"areaUnderROC\")\\\n",
        "    .setRawPredictionCol(\"prediction\")\\\n",
        "    .setLabelCol(\"label\")"
      ],
      "execution_count": null,
      "outputs": []
    },
    {
      "cell_type": "markdown",
      "metadata": {
        "id": "j5v8t7wGTfS_"
      },
      "source": [
        "**Tuning hyper-parameter**  \n",
        "- TrainValidationSplit :arbitrary random split of our data into two different groups\n",
        "- CrossValidator :performs K-fold cross-validation by splitting the dataset into k nonoverlapping,randomly partitioned folds"
      ]
    },
    {
      "cell_type": "code",
      "metadata": {
        "id": "dk_SCU1fTfS_"
      },
      "source": [
        "from pyspark.ml.tuning import TrainValidationSplit\n",
        "tvs = TrainValidationSplit()\\\n",
        "    .setTrainRatio(0.75)\\\n",
        "    .setEstimatorParamMaps(params)\\\n",
        "    .setEstimator(pipeline)\\\n",
        "    .setEvaluator(evaluator)"
      ],
      "execution_count": null,
      "outputs": []
    },
    {
      "cell_type": "code",
      "metadata": {
        "id": "o1Xf1FoTTfTA"
      },
      "source": [
        "# pretend to load new data for pipeline to create features\n",
        "df = spark.read.json('data/simple-ml')\n",
        "train,test = df.randomSplit([0.7,0.3])\n",
        "# fit the model to gridsearch, pipeline, evaluator\n",
        "tvsFitted = tvs.fit(train)"
      ],
      "execution_count": null,
      "outputs": []
    },
    {
      "cell_type": "code",
      "metadata": {
        "id": "z2BMu2K0TfTA",
        "outputId": "c9068294-fcde-4aeb-9ea9-94cdb621018f"
      },
      "source": [
        "# evaluate\n",
        "evaluator.evaluate(tvsFitted.transform(test)) # auc"
      ],
      "execution_count": null,
      "outputs": [
        {
          "data": {
            "text/plain": [
              "0.9130434782608696"
            ]
          },
          "execution_count": 49,
          "metadata": {},
          "output_type": "execute_result"
        }
      ]
    },
    {
      "cell_type": "markdown",
      "metadata": {
        "id": "nqQD6SHfTfTA"
      },
      "source": [
        "See all metric available for some models"
      ]
    },
    {
      "cell_type": "markdown",
      "metadata": {
        "id": "xJGUrcoHTfTA"
      },
      "source": [
        "### Persisting and Applying Models"
      ]
    },
    {
      "cell_type": "code",
      "metadata": {
        "id": "mNsrHIduTfTA",
        "outputId": "eb90245b-beb2-415d-c209-6885e7d485f1"
      },
      "source": [
        "# persisted to disk to use later\n",
        "tvsFitted.write.save('tmp/modelLocation')"
      ],
      "execution_count": null,
      "outputs": [
        {
          "ename": "AttributeError",
          "evalue": "'function' object has no attribute 'save'",
          "output_type": "error",
          "traceback": [
            "\u001b[1;31m---------------------------------------------------------------------------\u001b[0m",
            "\u001b[1;31mAttributeError\u001b[0m                            Traceback (most recent call last)",
            "\u001b[1;32m<ipython-input-71-238fe0ed964a>\u001b[0m in \u001b[0;36m<module>\u001b[1;34m\u001b[0m\n\u001b[0;32m      1\u001b[0m \u001b[1;31m# persisted to disk to use later\u001b[0m\u001b[1;33m\u001b[0m\u001b[1;33m\u001b[0m\u001b[1;33m\u001b[0m\u001b[0m\n\u001b[1;32m----> 2\u001b[1;33m \u001b[0mtvsFitted\u001b[0m\u001b[1;33m.\u001b[0m\u001b[0mwrite\u001b[0m\u001b[1;33m.\u001b[0m\u001b[0msave\u001b[0m\u001b[1;33m(\u001b[0m\u001b[1;34m'/tmp/modelLocation'\u001b[0m\u001b[1;33m)\u001b[0m\u001b[1;33m\u001b[0m\u001b[1;33m\u001b[0m\u001b[0m\n\u001b[0m",
            "\u001b[1;31mAttributeError\u001b[0m: 'function' object has no attribute 'save'"
          ]
        }
      ]
    },
    {
      "cell_type": "code",
      "metadata": {
        "id": "J0Z8cnhDTfTA"
      },
      "source": [
        "# load model (need to use same estimator)\n",
        "model = TrainValidationSplit.load('tmp/modelLocation')\n",
        "#apply model\n",
        "model.transform(test)"
      ],
      "execution_count": null,
      "outputs": []
    },
    {
      "cell_type": "markdown",
      "metadata": {
        "id": "zMBAsjx4TfTA"
      },
      "source": [
        "## Deployment Patterns\n",
        "\n",
        "Train your machine learning (ML) model offline and then supply it with offline data. In\n",
        "this context, we mean offline data to be data that is stored for analysis, and not data that\n",
        "you need to get an answer from quickly. Spark is well suited to this sort of deployment.\n",
        "\n",
        "Train your model offline and then **put the results into a database** (usually a key-value\n",
        "store). This works well for something like recommendation but poorly for something\n",
        "like classification or regression where you cannot just look up a value for a given user\n",
        "but must calculate one based on the input.\n",
        "\n",
        "Train your ML algorithm offline, **persist the model to disk**, and then use that for serving.\n",
        "This is not a low-latency solution if you use Spark for the serving part, as the overhead\n",
        "of starting up a Spark job can be high, even if you’re not running on a cluster.\n",
        "Additionally this does not parallelize well, so you’ll likely have to **put a load balancer in\n",
        "front of multiple model replicas and build out some REST API integration yourself**.\n",
        "\n",
        "Train your ML algorithm online and use it online. This is possible when used in\n",
        "conjunction with Structured Streaming, but can be complex for some models\n"
      ]
    },
    {
      "cell_type": "markdown",
      "metadata": {
        "id": "ijbsZ-Y6TfTA"
      },
      "source": [
        "# Part 25 Preprocess and Feature Engineering\n",
        "page 419"
      ]
    },
    {
      "cell_type": "markdown",
      "metadata": {
        "id": "arpgkb_lTfTB"
      },
      "source": [
        "# Part 26 Classification\n",
        "Multiclass = There is more than 2 class, example is MNIS to classify number from 0 to 9  \n",
        "Multilabel = one instance could be classify in to one or more class, example many people in one single photo  \n",
        "** In order to train a multilabel\n",
        "model, you must train one model per label and combine them manually"
      ]
    },
    {
      "cell_type": "code",
      "metadata": {
        "id": "vQ7my1ZVTfTB"
      },
      "source": [
        "# load sample data\n",
        "bInput = spark.read.format(\"parquet\").load(\"data/binary-classification\")\\\n",
        ".selectExpr(\"features\", \"cast(label as double) as label\")"
      ],
      "execution_count": null,
      "outputs": []
    },
    {
      "cell_type": "markdown",
      "metadata": {
        "id": "4LxbcYqHTfTB"
      },
      "source": [
        "## Logistic Regression\n",
        "linear method that\n",
        "combines each of the individual inputs (or features) with specific weights (these weights are\n",
        "generated during the training process) that are then combined to get a probability of belonging to\n",
        "a particular class.  \n",
        "\n",
        "These weights are helpful because they are good representations of feature\n",
        "importance"
      ]
    },
    {
      "cell_type": "markdown",
      "metadata": {
        "id": "yYFl6vveTfTB"
      },
      "source": [
        "### Model Hyperparameters\n",
        "- family :multinomial (two or more distinct labels; multiclass classification) or binary (only two distinct labels; binary classification).\n",
        "- elasticNetParam: [0 to 1] L1 and L2 mix\n",
        "- regParam: [>0] how much weight to give to the regularization term in the objective function.\n",
        "- standardization: standardize before put into fucntion\n"
      ]
    },
    {
      "cell_type": "markdown",
      "metadata": {
        "id": "KWGVtbFNTfTB"
      },
      "source": [
        "### Training Parameters\n",
        "- maxIter: Total number of iterations over the data before stopping\n",
        "- tol: threshold by which changes in parameters show that we optimized our weights enough, and can stop iterating\n",
        "- weightCol: weigh certain rows more than others. This can be a useful tool if you have some other measure of how important a particular training example is and have a weight associated with it."
      ]
    },
    {
      "cell_type": "markdown",
      "metadata": {
        "id": "757xLvaKTfTB"
      },
      "source": [
        "### Prediction Parameters\n",
        "- threshold: Double[0,1] ,probability threshold for when a given class should be predicted. balance between false positives and false negatives\n",
        "- thresholds: array of threshold values for each class when using multiclass classification"
      ]
    },
    {
      "cell_type": "code",
      "metadata": {
        "id": "OJ0EKvk3TfTB",
        "outputId": "c7c3abed-c3f7-4adf-97ce-0bb15d26e9b8"
      },
      "source": [
        "bInput.show(3)"
      ],
      "execution_count": null,
      "outputs": [
        {
          "name": "stdout",
          "output_type": "stream",
          "text": [
            "+--------------+-----+\n",
            "|      features|label|\n",
            "+--------------+-----+\n",
            "|[3.0,10.1,3.0]|  1.0|\n",
            "|[1.0,0.1,-1.0]|  0.0|\n",
            "|[1.0,0.1,-1.0]|  0.0|\n",
            "+--------------+-----+\n",
            "only showing top 3 rows\n",
            "\n"
          ]
        }
      ]
    },
    {
      "cell_type": "code",
      "metadata": {
        "id": "EAKR6x8DTfTB"
      },
      "source": [
        "#Example\n",
        "from pyspark.ml.classification import LogisticRegression\n",
        "lr = LogisticRegression()\n",
        "lrModel = lr.fit(bInput)"
      ],
      "execution_count": null,
      "outputs": []
    },
    {
      "cell_type": "code",
      "metadata": {
        "id": "1jaIUlHgTfTB",
        "outputId": "26375077-cd25-4142-eac9-80f329898992"
      },
      "source": [
        "# see coefficients\n",
        "print (lrModel.coefficients)\n",
        "print (lrModel.intercept)\n",
        "# For a multinomial model (the current one is binary), lrModel.coefficientMatrix and lrModel.interceptVector can be used to get the coefficients and intercept"
      ],
      "execution_count": null,
      "outputs": [
        {
          "name": "stdout",
          "output_type": "stream",
          "text": [
            "[6.848741326854929,0.3535658901019745,14.814900276915923]\n",
            "-10.22569586448109\n"
          ]
        }
      ]
    },
    {
      "cell_type": "code",
      "metadata": {
        "id": "hMvnZ6jlTfTB",
        "outputId": "4b49c39d-d828-4dec-aebc-f12f88843ece"
      },
      "source": [
        "#sumamry\n",
        "summary = lrModel.summary\n",
        "print (summary.areaUnderROC)\n",
        "summary.roc.show()\n",
        "summary.pr.show()"
      ],
      "execution_count": null,
      "outputs": [
        {
          "name": "stdout",
          "output_type": "stream",
          "text": [
            "1.0\n",
            "+---+------------------+\n",
            "|FPR|               TPR|\n",
            "+---+------------------+\n",
            "|0.0|               0.0|\n",
            "|0.0|0.3333333333333333|\n",
            "|0.0|               1.0|\n",
            "|1.0|               1.0|\n",
            "|1.0|               1.0|\n",
            "+---+------------------+\n",
            "\n",
            "+------------------+---------+\n",
            "|            recall|precision|\n",
            "+------------------+---------+\n",
            "|               0.0|      1.0|\n",
            "|0.3333333333333333|      1.0|\n",
            "|               1.0|      1.0|\n",
            "|               1.0|      0.6|\n",
            "+------------------+---------+\n",
            "\n"
          ]
        }
      ]
    },
    {
      "cell_type": "code",
      "metadata": {
        "id": "w7UrblDITfTB",
        "outputId": "d011c9d3-77ee-415f-9e55-5fd50d42d71d"
      },
      "source": [
        "summary.objectiveHistory\n",
        "# specify how, over each training iteration, we are performing with respect to our objective function"
      ],
      "execution_count": null,
      "outputs": [
        {
          "data": {
            "text/plain": [
              "[0.6730116670092563,\n",
              " 0.5042829330409727,\n",
              " 0.36356862066874396,\n",
              " 0.1252407018038337,\n",
              " 0.08532556611276214,\n",
              " 0.035504876415730455,\n",
              " 0.018196494508571255,\n",
              " 0.008817369922959136,\n",
              " 0.004413673785392143,\n",
              " 0.002194038351234709,\n",
              " 0.0010965641148080857,\n",
              " 0.000547657551985314,\n",
              " 0.00027376237951490126,\n",
              " 0.0001368465223657475,\n",
              " 6.841809037070595e-05,\n",
              " 3.420707791038497e-05,\n",
              " 1.7103176664232043e-05,\n",
              " 8.551470106426904e-06,\n",
              " 4.275703677941461e-06,\n",
              " 2.1378240117781303e-06,\n",
              " 1.068856405465203e-06,\n",
              " 5.34260020257524e-07,\n",
              " 2.668135105897439e-07,\n",
              " 1.3204627865316843e-07,\n",
              " 6.768401481686428e-08,\n",
              " 3.314547718487037e-08,\n",
              " 1.6151438837494788e-08,\n",
              " 8.309350118269286e-09]"
            ]
          },
          "execution_count": 82,
          "metadata": {},
          "output_type": "execute_result"
        }
      ]
    },
    {
      "cell_type": "markdown",
      "metadata": {
        "id": "Wq6jiCeXTfTC"
      },
      "source": [
        "# Spark Exercise"
      ]
    },
    {
      "cell_type": "markdown",
      "metadata": {
        "id": "_tpGn2VqTfTC"
      },
      "source": [
        "## DataFrame"
      ]
    },
    {
      "cell_type": "code",
      "metadata": {
        "colab": {
          "base_uri": "https://localhost:8080/"
        },
        "id": "UWuniUQuH39I",
        "outputId": "fc618def-bb47-4382-fde0-7c2e9f98cdd9"
      },
      "source": [
        "%%shell\n",
        "git clone https://github.com/databricks/LearningSparkV2.git"
      ],
      "execution_count": 253,
      "outputs": [
        {
          "output_type": "stream",
          "name": "stdout",
          "text": [
            "Cloning into 'LearningSparkV2'...\n",
            "remote: Enumerating objects: 1712, done.\u001b[K\n",
            "remote: Counting objects: 100% (135/135), done.\u001b[K\n",
            "remote: Compressing objects: 100% (92/92), done.\u001b[K\n",
            "remote: Total 1712 (delta 38), reused 85 (delta 23), pack-reused 1577\u001b[K\n",
            "Receiving objects: 100% (1712/1712), 76.76 MiB | 20.12 MiB/s, done.\n",
            "Resolving deltas: 100% (525/525), done.\n",
            "Checking out files: 100% (768/768), done.\n"
          ]
        },
        {
          "output_type": "execute_result",
          "data": {
            "text/plain": [
              ""
            ]
          },
          "metadata": {},
          "execution_count": 253
        }
      ]
    },
    {
      "cell_type": "code",
      "metadata": {
        "colab": {
          "base_uri": "https://localhost:8080/"
        },
        "id": "hu_vnTHAH9HV",
        "outputId": "53dea57e-2248-4829-c568-f46a93cddd41"
      },
      "source": [
        "%%shell\n",
        "head -3 LearningSparkV2/chapter3/data/sf-fire-calls.csv"
      ],
      "execution_count": 257,
      "outputs": [
        {
          "output_type": "stream",
          "name": "stdout",
          "text": [
            "CallNumber,UnitID,IncidentNumber,CallType,CallDate,WatchDate,CallFinalDisposition,AvailableDtTm,Address,City,Zipcode,Battalion,StationArea,Box,OriginalPriority,Priority,FinalPriority,ALSUnit,CallTypeGroup,NumAlarms,UnitType,UnitSequenceInCallDispatch,FirePreventionDistrict,SupervisorDistrict,Neighborhood,Location,RowID,Delay\n",
            "20110016,T13,2003235,Structure Fire,01/11/2002,01/10/2002,Other,01/11/2002 01:51:44 AM,2000 Block of CALIFORNIA ST,SF,94109,B04,38,3362,3,3,3,false,\"\",1,TRUCK,2,4,5,Pacific Heights,\"(37.7895840679362, -122.428071912459)\",020110016-T13,2.95\n",
            "20110022,M17,2003241,Medical Incident,01/11/2002,01/10/2002,Other,01/11/2002 03:01:18 AM,0 Block of SILVERVIEW DR,SF,94124,B10,42,6495,3,3,3,true,\"\",1,MEDIC,1,10,10,Bayview Hunters Point,\"(37.7337623673897, -122.396113802632)\",020110022-M17,4.7\n"
          ]
        },
        {
          "output_type": "execute_result",
          "data": {
            "text/plain": [
              ""
            ]
          },
          "metadata": {},
          "execution_count": 257
        }
      ]
    },
    {
      "cell_type": "code",
      "metadata": {
        "colab": {
          "base_uri": "https://localhost:8080/"
        },
        "id": "DnxH69v3L2TK",
        "outputId": "0200d9bc-f4a5-4279-a9bb-68682af6621b"
      },
      "source": [
        "sf_path = 'LearningSparkV2/chapter3/data/sf-fire-calls.csv'\n",
        "df = spark.read.csv(\n",
        "    sf_path\n",
        "    ,sep = ','\n",
        "    ,inferSchema= True\n",
        "    ,header = True\n",
        ")\n",
        "df.cache()\n",
        "df.show(4)"
      ],
      "execution_count": 259,
      "outputs": [
        {
          "output_type": "stream",
          "name": "stdout",
          "text": [
            "+----------+------+--------------+----------------+----------+----------+--------------------+--------------------+--------------------+----+-------+---------+-----------+----+----------------+--------+-------------+-------+-------------+---------+--------+--------------------------+----------------------+------------------+--------------------+--------------------+-------------+---------+\n",
            "|CallNumber|UnitID|IncidentNumber|        CallType|  CallDate| WatchDate|CallFinalDisposition|       AvailableDtTm|             Address|City|Zipcode|Battalion|StationArea| Box|OriginalPriority|Priority|FinalPriority|ALSUnit|CallTypeGroup|NumAlarms|UnitType|UnitSequenceInCallDispatch|FirePreventionDistrict|SupervisorDistrict|        Neighborhood|            Location|        RowID|    Delay|\n",
            "+----------+------+--------------+----------------+----------+----------+--------------------+--------------------+--------------------+----+-------+---------+-----------+----+----------------+--------+-------------+-------+-------------+---------+--------+--------------------------+----------------------+------------------+--------------------+--------------------+-------------+---------+\n",
            "|  20110016|   T13|       2003235|  Structure Fire|01/11/2002|01/10/2002|               Other|01/11/2002 01:51:...|2000 Block of CAL...|  SF|  94109|      B04|         38|3362|               3|       3|            3|  false|         null|        1|   TRUCK|                         2|                     4|                 5|     Pacific Heights|(37.7895840679362...|020110016-T13|     2.95|\n",
            "|  20110022|   M17|       2003241|Medical Incident|01/11/2002|01/10/2002|               Other|01/11/2002 03:01:...|0 Block of SILVER...|  SF|  94124|      B10|         42|6495|               3|       3|            3|   true|         null|        1|   MEDIC|                         1|                    10|                10|Bayview Hunters P...|(37.7337623673897...|020110022-M17|      4.7|\n",
            "|  20110023|   M41|       2003242|Medical Incident|01/11/2002|01/10/2002|               Other|01/11/2002 02:39:...|MARKET ST/MCALLIS...|  SF|  94102|      B03|         01|1455|               3|       3|            3|   true|         null|        1|   MEDIC|                         2|                     3|                 6|          Tenderloin|(37.7811772186856...|020110023-M41|2.4333334|\n",
            "|  20110032|   E11|       2003250|    Vehicle Fire|01/11/2002|01/10/2002|               Other|01/11/2002 04:16:...|APPLETON AV/MISSI...|  SF|  94110|      B06|         32|5626|               3|       3|            3|  false|         null|        1|  ENGINE|                         1|                     6|                 9|      Bernal Heights|(37.7388432849018...|020110032-E11|      1.5|\n",
            "+----------+------+--------------+----------------+----------+----------+--------------------+--------------------+--------------------+----+-------+---------+-----------+----+----------------+--------+-------------+-------+-------------+---------+--------+--------------------------+----------------------+------------------+--------------------+--------------------+-------------+---------+\n",
            "only showing top 4 rows\n",
            "\n"
          ]
        }
      ]
    },
    {
      "cell_type": "markdown",
      "metadata": {
        "id": "QguIr7FrMQ_e"
      },
      "source": [
        "• What were all the different types of fire calls in 2018?"
      ]
    },
    {
      "cell_type": "code",
      "metadata": {
        "colab": {
          "base_uri": "https://localhost:8080/"
        },
        "id": "xqmFDWBRMRKe",
        "outputId": "1ec359d1-a03c-414b-8c78-23a8e5f8f0bc"
      },
      "source": [
        "df.columns"
      ],
      "execution_count": 260,
      "outputs": [
        {
          "output_type": "execute_result",
          "data": {
            "text/plain": [
              "['CallNumber',\n",
              " 'UnitID',\n",
              " 'IncidentNumber',\n",
              " 'CallType',\n",
              " 'CallDate',\n",
              " 'WatchDate',\n",
              " 'CallFinalDisposition',\n",
              " 'AvailableDtTm',\n",
              " 'Address',\n",
              " 'City',\n",
              " 'Zipcode',\n",
              " 'Battalion',\n",
              " 'StationArea',\n",
              " 'Box',\n",
              " 'OriginalPriority',\n",
              " 'Priority',\n",
              " 'FinalPriority',\n",
              " 'ALSUnit',\n",
              " 'CallTypeGroup',\n",
              " 'NumAlarms',\n",
              " 'UnitType',\n",
              " 'UnitSequenceInCallDispatch',\n",
              " 'FirePreventionDistrict',\n",
              " 'SupervisorDistrict',\n",
              " 'Neighborhood',\n",
              " 'Location',\n",
              " 'RowID',\n",
              " 'Delay']"
            ]
          },
          "metadata": {},
          "execution_count": 260
        }
      ]
    },
    {
      "cell_type": "code",
      "metadata": {
        "colab": {
          "base_uri": "https://localhost:8080/"
        },
        "id": "Vo9jqTyZMRS6",
        "outputId": "dee99124-adba-4f26-c346-799a4e2f8a1c"
      },
      "source": [
        "df.select('CallType').distinct().show(3,False)"
      ],
      "execution_count": 262,
      "outputs": [
        {
          "output_type": "stream",
          "name": "stdout",
          "text": [
            "+---------------------------+\n",
            "|CallType                   |\n",
            "+---------------------------+\n",
            "|Elevator / Escalator Rescue|\n",
            "|Marine Fire                |\n",
            "|Aircraft Emergency         |\n",
            "+---------------------------+\n",
            "only showing top 3 rows\n",
            "\n"
          ]
        }
      ]
    },
    {
      "cell_type": "markdown",
      "metadata": {
        "id": "qoZmLCp6MiBB"
      },
      "source": [
        "• What months within the year 2018 saw the highest number of fire calls?"
      ]
    },
    {
      "cell_type": "code",
      "metadata": {
        "id": "b6ut7r_QM0BZ"
      },
      "source": [
        "from pyspark.sql.functions import to_date,to_timestamp, month,year\n",
        "from pyspark.sql.functions import col\n",
        "\n",
        "df_date = (df\n",
        "           .withColumn('IncidentDate' , to_timestamp(col('CallDate'), 'MM/dd/yyyy')).drop('CallDate')\n",
        "            .withColumn(\"OnWatchDate\",   to_timestamp(col(\"WatchDate\"), \"MM/dd/yyyy\")).drop(\"WatchDate\")\n",
        "            .withColumn(\"AvailableDtTS\", to_timestamp(col(\"AvailableDtTm\"), \"MM/dd/yyyy hh:mm:ss a\")).drop(\"AvailableDtTm\")\n",
        "            .withColumn('IncidentMonth', month('IncidentDate')) # no need col here\n",
        "            .withColumn('IncidentYear', year('IncidentDate'))\n",
        "            )    "
      ],
      "execution_count": 289,
      "outputs": []
    },
    {
      "cell_type": "code",
      "metadata": {
        "colab": {
          "base_uri": "https://localhost:8080/"
        },
        "id": "91vrNAX6Mn95",
        "outputId": "b8e5c5c0-e7ac-4a20-a343-ebc33fb131dc"
      },
      "source": [
        "df_date.select('IncidentYear').show(3)"
      ],
      "execution_count": 292,
      "outputs": [
        {
          "output_type": "stream",
          "name": "stdout",
          "text": [
            "+------------+\n",
            "|IncidentYear|\n",
            "+------------+\n",
            "|        2002|\n",
            "|        2002|\n",
            "|        2002|\n",
            "+------------+\n",
            "only showing top 3 rows\n",
            "\n"
          ]
        }
      ]
    },
    {
      "cell_type": "code",
      "metadata": {
        "colab": {
          "base_uri": "https://localhost:8080/"
        },
        "id": "daNHGWhsQFwR",
        "outputId": "2bdf792d-971a-46a1-d96e-931fcf076804"
      },
      "source": [
        "from pyspark.sql import functions as F\n",
        "(df_date.where(col('IncidentYear') == 2018)\n",
        "    .groupBy('IncidentMonth')\n",
        "    .agg(F.count('CallNumber').alias('total'))\n",
        "    .orderBy(F.desc('total'))\n",
        "    .show(1))"
      ],
      "execution_count": 311,
      "outputs": [
        {
          "output_type": "stream",
          "name": "stdout",
          "text": [
            "+-------------+-----+\n",
            "|IncidentMonth|total|\n",
            "+-------------+-----+\n",
            "|           10| 1068|\n",
            "+-------------+-----+\n",
            "only showing top 1 row\n",
            "\n"
          ]
        }
      ]
    },
    {
      "cell_type": "markdown",
      "metadata": {
        "id": "4N-VDQHASO8i"
      },
      "source": [
        "Q-3) Find out all response or delayed times greater than 5 mins?\n",
        "\n",
        "Rename the column Delay - > ReponseDelayedinMins  \n",
        "\n",
        "Returns a new DataFrame  \n",
        "\n",
        "Find out all calls where the response time to the fire site was delayed for more than 5 mins"
      ]
    },
    {
      "cell_type": "code",
      "metadata": {
        "colab": {
          "base_uri": "https://localhost:8080/"
        },
        "id": "8O4xniDsSQBy",
        "outputId": "ba2aebd6-b327-4fd7-a254-1181dced56b9"
      },
      "source": [
        "df_date.where(F.expr(\"Delay > 5\")).show(4)"
      ],
      "execution_count": 313,
      "outputs": [
        {
          "output_type": "stream",
          "name": "stdout",
          "text": [
            "+----------+------+--------------+--------------------+--------------------+--------------------+----+-------+---------+-----------+----+----------------+--------+-------------+-------+-------------+---------+--------------+--------------------------+----------------------+------------------+------------------+--------------------+-------------+-----+-------------------+-------------------+-------------------+-------------+------------+\n",
            "|CallNumber|UnitID|IncidentNumber|            CallType|CallFinalDisposition|             Address|City|Zipcode|Battalion|StationArea| Box|OriginalPriority|Priority|FinalPriority|ALSUnit|CallTypeGroup|NumAlarms|      UnitType|UnitSequenceInCallDispatch|FirePreventionDistrict|SupervisorDistrict|      Neighborhood|            Location|        RowID|Delay|       IncidentDate|        OnWatchDate|      AvailableDtTS|IncidentMonth|IncidentYear|\n",
            "+----------+------+--------------+--------------------+--------------------+--------------------+----+-------+---------+-----------+----+----------------+--------+-------------+-------+-------------+---------+--------------+--------------------------+----------------------+------------------+------------------+--------------------+-------------+-----+-------------------+-------------------+-------------------+-------------+------------+\n",
            "|  20110315|   RC2|       2003409|    Medical Incident|               Other|200 Block of LAGU...|  SF|  94116|      B08|         20|8635|               3|       3|            3|   true|         null|        1|RESCUE CAPTAIN|                         2|                     8|                 7|West of Twin Peaks|(37.7501117393668...|020110315-RC2| 5.35|2002-01-11 00:00:00|2002-01-11 00:00:00|2002-01-11 16:34:23|            1|        2002|\n",
            "|  20120147|   M38|       2003642|    Medical Incident|               Other|1300 Block of HYD...|  SF|  94109|      B01|         41|1564|               1|       1|            2|   true|         null|        1|         MEDIC|                         1|                     1|                 3|      Russian Hill|(37.793235074749,...|020120147-M38| 6.25|2002-01-12 00:00:00|2002-01-12 00:00:00|2002-01-12 13:23:04|            1|        2002|\n",
            "|  20130013|   M03|       2003818|    Medical Incident|               Other|800 Block of LARK...|  SF|  94109|      B04|         03|1642|               2|       2|            2|   true|         null|        1|         MEDIC|                         1|                     4|                 6|        Tenderloin|(37.7858627664608...|020130013-M03|  5.2|2002-01-13 00:00:00|2002-01-12 00:00:00|2002-01-13 01:51:15|            1|        2002|\n",
            "|  20140067|   T19|       2004152|Citizen Assist / ...|               Other|2900 Block of 22N...|  SF|  94132|      B08|         19|8732|               3|       3|            3|  false|         null|        1|         TRUCK|                         1|                     8|                 7|   Sunset/Parkside|(37.7335645188552...|020140067-T19|  5.6|2002-01-14 00:00:00|2002-01-14 00:00:00|2002-01-14 08:16:54|            1|        2002|\n",
            "+----------+------+--------------+--------------------+--------------------+--------------------+----+-------+---------+-----------+----+----------------+--------+-------------+-------+-------------+---------+--------------+--------------------------+----------------------+------------------+------------------+--------------------+-------------+-----+-------------------+-------------------+-------------------+-------------+------------+\n",
            "only showing top 4 rows\n",
            "\n"
          ]
        }
      ]
    },
    {
      "cell_type": "markdown",
      "metadata": {
        "id": "01DrsyEdSior"
      },
      "source": [
        "Q-5) What was the sum of all calls, average, min and max of the response times for calls?"
      ]
    },
    {
      "cell_type": "code",
      "metadata": {
        "colab": {
          "base_uri": "https://localhost:8080/"
        },
        "id": "1mwLuPX8Szd8",
        "outputId": "4fe4f44e-75d6-449f-c125-d1a541ec2b7c"
      },
      "source": [
        "df.select('Delay').describe().show()"
      ],
      "execution_count": 315,
      "outputs": [
        {
          "output_type": "stream",
          "name": "stdout",
          "text": [
            "+-------+------------------+\n",
            "|summary|             Delay|\n",
            "+-------+------------------+\n",
            "|  count|            175296|\n",
            "|   mean|3.8923641541750342|\n",
            "| stddev| 9.378286170882737|\n",
            "|    min|       0.016666668|\n",
            "|    max|           1844.55|\n",
            "+-------+------------------+\n",
            "\n"
          ]
        }
      ]
    }
  ]
}